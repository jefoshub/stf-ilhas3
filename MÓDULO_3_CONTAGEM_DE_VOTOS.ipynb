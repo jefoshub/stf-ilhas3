{
  "cells": [
    {
      "cell_type": "markdown",
      "metadata": {
        "id": "view-in-github",
        "colab_type": "text"
      },
      "source": [
        "<a href=\"https://colab.research.google.com/github/jefoshub/stf-ilhas3/blob/main/M%C3%93DULO_3_CONTAGEM_DE_VOTOS.ipynb\" target=\"_parent\"><img src=\"https://colab.research.google.com/assets/colab-badge.svg\" alt=\"Open In Colab\"/></a>"
      ]
    },
    {
      "cell_type": "markdown",
      "source": [
        "# MÓDULO 3 - CONTAGEM DE VOTOS"
      ],
      "metadata": {
        "id": "RDPSB3kp-7tC"
      }
    },
    {
      "cell_type": "markdown",
      "metadata": {
        "id": "5cxeRFESJUAS"
      },
      "source": [
        "UFRRJ - MESTRADO INTERDISCIPLINAR EM HUMANIDADES DIGITAIS\n",
        "\n",
        "Jeferson dos Santos Antunes Huaracha (jefsantunes@gmail.com)\n",
        "\n",
        "Orientadores: Prof. Dr. Leandro Guimarães Marques Alvim \n",
        "              Prof. Dr. Rodrigo de Souza Tavares\n",
        "\n",
        "Última verificação do funcionamento: Outubro/22\n",
        "\n",
        "\n",
        "\n"
      ]
    },
    {
      "cell_type": "markdown",
      "source": [
        "**Sobre este módulo**\n",
        "\n",
        "Código desenvolvido para os fins da pesquisa\n",
        "\n",
        "**Ilhas, Arquipélagos ou Continentes? Uma Análise Sobre a Geografia do Supremo Tribunal Federal**\n",
        "\n",
        "Neste módulo são realizadas as contagens automáticas dos votos, além de algumas contagens com ações manuais. \n",
        "\n",
        "São utilizados dados dos arquivos produzidos no módulo anterior, além de um dataset com dados dos Ministros do STF e arquivos de registos manuais.\n",
        "\n",
        "O Módulo também processa uma mescla de dados com a inclusão de um arquivo de registros manuais produzido com dados de acórdãos cujo conteúdo textual não são adequados aos processos deste módulo\n",
        "\n",
        "Ele também produz versões de arquivos com todos os dados (c) e outras com os principais dados de interesse da pesquisa (p)\n"
      ],
      "metadata": {
        "id": "PAJyOJRS_HmK"
      }
    },
    {
      "cell_type": "markdown",
      "source": [
        "# ESCOLHA 1"
      ],
      "metadata": {
        "id": "vSPsfRADKUfa"
      }
    },
    {
      "cell_type": "code",
      "execution_count": null,
      "metadata": {
        "id": "tACy5RZTRJ3k",
        "colab": {
          "base_uri": "https://localhost:8080/"
        },
        "outputId": "f080d9d6-1c82-4bbd-9ac6-60d41d91aab6"
      },
      "outputs": [
        {
          "output_type": "stream",
          "name": "stdout",
          "text": [
            "Escolha a classe de acórdãos a ser processada\n",
            "1 - Habeas Corpus\n",
            "2 - Ações Diretas de Inconstitucionalidade\n",
            "3 - Sair\n",
            "Digite o número e pressione ENTER : 2\n",
            "Processando ADIs\n"
          ]
        }
      ],
      "source": [
        "#Escolhendo classe de acórdãos a serem processados (ADIs ou HCs)\n",
        "choice ='0'\n",
        "#choice ='1'\n",
        "while choice =='0':\n",
        "    print(\"Escolha a classe de acórdãos a ser processada\")\n",
        "    print(\"1 - Habeas Corpus\")\n",
        "    print(\"2 - Ações Diretas de Inconstitucionalidade\")\n",
        "    print(\"3 - Sair\")\n",
        "    \n",
        "    choice = input (\"Digite o número e pressione ENTER : \")\n",
        "\n",
        "    if choice == \"1\":\n",
        "      print(\"Processando HCs\")\n",
        "      classe=1\n",
        "        \n",
        "    elif choice == \"2\":\n",
        "      print(\"Processando ADIs\")\n",
        "      classe=2      \n",
        "        \n",
        "    elif choice == \"3\":\n",
        "      print(\"Finalizando\")\n",
        "      exit()\n",
        "        \n",
        "    else:\n",
        "      print(\"opção Inválida\")\n"
      ]
    },
    {
      "cell_type": "markdown",
      "source": [
        "# Carregando variáveis e Função Placar "
      ],
      "metadata": {
        "id": "W1LhwPcAKg5C"
      }
    },
    {
      "cell_type": "code",
      "source": [
        "import warnings\n",
        "warnings.filterwarnings(\"ignore\")\n",
        "\n",
        "import pandas as pd"
      ],
      "metadata": {
        "id": "v5nsN74I401-"
      },
      "execution_count": null,
      "outputs": []
    },
    {
      "cell_type": "code",
      "execution_count": null,
      "metadata": {
        "id": "RM1jwxZ1Q7r2"
      },
      "outputs": [],
      "source": [
        "#Variavel classe fica como opção\n",
        "classe=choice"
      ]
    },
    {
      "cell_type": "code",
      "execution_count": null,
      "metadata": {
        "id": "lhArx0Hpzk24"
      },
      "outputs": [],
      "source": [
        "#Dados para criação dos arquivos de relatório (logs) e dataset (csv)\n",
        "from datetime import date, datetime\n",
        "\n",
        "data = datetime.today()\n",
        "hoje = data.strftime('%d-%m-%Y')\n",
        "#nome = 'ds-HCs'\n",
        "#extens = '.csv'\n",
        "\n",
        "#Criando arquivo de relatório\n",
        "linhas=[]\n",
        "linhas.append(f'### Relatório - {hoje} ###')"
      ]
    },
    {
      "cell_type": "code",
      "execution_count": null,
      "metadata": {
        "id": "dE-iBN_Xxp47"
      },
      "outputs": [],
      "source": [
        "#Sempre que quiser imprimir o placar de um acórdão específico\n",
        "def placar(reg):\n",
        "    for m in range(0,len(df2)):\n",
        "      ministro = (df2['Ministro nome'][m])\n",
        "      print(ministro)\n",
        "      print(df[ministro][reg])\n",
        "      print('+++++++++++++++++++++')\n",
        "      "
      ]
    },
    {
      "cell_type": "markdown",
      "metadata": {
        "id": "-vcQSj9csnb8"
      },
      "source": [
        "# Carregando datasets"
      ]
    },
    {
      "cell_type": "code",
      "execution_count": null,
      "metadata": {
        "id": "Tspor-Ye97FY",
        "colab": {
          "base_uri": "https://localhost:8080/"
        },
        "outputId": "06b6084c-6f9f-4fc1-c077-39b5673e76ce"
      },
      "outputs": [
        {
          "output_type": "stream",
          "name": "stdout",
          "text": [
            "Lendo arquivo mesclado de ADIs\n"
          ]
        }
      ],
      "source": [
        "#Este dataset é resultado da junção de um csv retirado do site do STF através de uma busca e de outro csv criado a partir da raspagem de dados no mesmo site.\n",
        "#df = pd.read_csv(\"/content/drive/MyDrive/Colab Notebooks/datasets/ds5.csv\", delimiter=\";\")\n",
        "#Dataset com dados extraídos do stf pelo csv produzido pelo próprio site mesclado com csv produzido com dados raspados \n",
        "if choice==\"1\":\n",
        "  print('Lendo arquivo mesclado de HCs')\n",
        "  df = pd.read_csv(\"merged-HCs.csv\", sep=\",\")\n",
        "\n",
        "if choice==\"2\":\n",
        "  print('Lendo arquivo mesclado de ADIs')\n",
        "  df = pd.read_csv(\"merged-ADIs.csv\", sep=\",\")  "
      ]
    },
    {
      "cell_type": "code",
      "execution_count": null,
      "metadata": {
        "id": "6yMNHtH9sk5l"
      },
      "outputs": [],
      "source": [
        "#Carregando Dataset com lista de ministros e datas de início e fim de atuação no STF\n",
        "df2=pd.read_csv(\"MinistrosSTF.csv\",sep=\",\")\n",
        "#df2"
      ]
    },
    {
      "cell_type": "markdown",
      "metadata": {
        "id": "5VSHv_1qmXRT"
      },
      "source": [
        "# Para Resoluções de Problemas e Testes"
      ]
    },
    {
      "cell_type": "code",
      "execution_count": null,
      "metadata": {
        "id": "1TBu7MxwbH6o",
        "colab": {
          "base_uri": "https://localhost:8080/"
        },
        "outputId": "18b7d242-3d7d-4f1b-a888-e5650320dad7"
      },
      "outputs": [
        {
          "name": "stdout",
          "output_type": "stream",
          "text": [
            "Deseja acompanhar um acórdão específico (Digite apenas S ou N)\n",
            "n\n"
          ]
        }
      ],
      "source": [
        "#Este bloco deve ser usado apenas para soluções de problemas. Poderá ser excluído na versão final\n",
        "#buscador de indice de HC (ordem da linha de entrada)\n",
        "\n",
        "print('Deseja acompanhar um acórdão específico (Digite apenas S ou N)')\n",
        "resp=input()\n",
        "#resp='n'\n",
        "if resp=='S' or resp =='s':\n",
        "  print('Informe a ADI ou HC que deseja investigar: ')\n",
        "  print('Ex.: ADI 6421 MC ou HC 2064')\n",
        "  acord=input()\n",
        "  #acord='HC 92932'\n",
        "  \n",
        "  for c in range(0,len(df)):\n",
        "    if df['HC'][c] == acord:\n",
        "      print('Investigando o acórdão referente a',acord)\n",
        "      y=c"
      ]
    },
    {
      "cell_type": "code",
      "execution_count": null,
      "metadata": {
        "id": "rVfQGMF1m1Eo"
      },
      "outputs": [],
      "source": [
        "#Sempre que precisar imprimir os resumos abaixo sobre um acórdão específico.\n",
        "def imprima_contagens(indice):\n",
        "  print('Votações: ')\n",
        "  print (df['Votações'][indice])\n",
        "  print('Unânimes: ')\n",
        "  print (df['Votações Unânimes'][indice])\n",
        "  print ('Maioria')\n",
        "  print (df['Votações por Maioria'][indice])\n",
        "  print ('Informações:')\n",
        "  print (df['Informacoes'][indice])\n",
        "  print ('Vencedores: ',df['Vencedores'][indice])\n",
        "  print ('Vencidos: ',df['Vencidos'][indice])\n",
        "  "
      ]
    },
    {
      "cell_type": "markdown",
      "metadata": {
        "id": "U8sCua7hmqKP"
      },
      "source": [
        "# Limpeza de Dados"
      ]
    },
    {
      "cell_type": "markdown",
      "metadata": {
        "id": "0_Onaf2R8koH"
      },
      "source": [
        "\n",
        "\n",
        "```\n",
        "# Isto está formatado como código\n",
        "```\n",
        "\n",
        "Convertendo colunas de datas para formato adequado"
      ]
    },
    {
      "cell_type": "code",
      "execution_count": null,
      "metadata": {
        "id": "93ifV8IJCfQ5"
      },
      "outputs": [],
      "source": [
        "df['Data de julgamento'] = pd.to_datetime(df['Data de julgamento'],format=\"%d/%m/%Y\")\n",
        "df['Data de publicação'] = pd.to_datetime(df['Data de publicação'],format=\"%d/%m/%Y\")"
      ]
    },
    {
      "cell_type": "code",
      "execution_count": null,
      "metadata": {
        "id": "mqbhlF79aKtJ"
      },
      "outputs": [],
      "source": [
        "df2['inicio'] = pd.to_datetime(df2['inicio'],format=\"%d/%m/%Y\")\n",
        "df2['fim'] = pd.to_datetime(df2['fim'],format=\"%d/%m/%Y\")"
      ]
    },
    {
      "cell_type": "code",
      "execution_count": null,
      "metadata": {
        "id": "sLRUAvwlyQAJ"
      },
      "outputs": [],
      "source": [
        "#criando lista com todos os ministros\n",
        "lista_min=[]"
      ]
    },
    {
      "cell_type": "code",
      "execution_count": null,
      "metadata": {
        "id": "jC2nAma3ooEZ"
      },
      "outputs": [],
      "source": [
        "#Tratando nomes dos ministros\n",
        "#O Ministro Carlos Ayres Britto ora aparece como Carlos Britto ora como Ayres Brito e alterando acento do nome de alguns ministros\n",
        "df['Relator'].replace('CARLOS BRITTO','AYRES BRITTO',inplace=True)\n",
        "df['DECISÃO'].replace('Carlos Britto','Ayres Britto',inplace=True)\n",
        "df['DECISÃO'].replace('Marco Aurélio','Marco Aurelio',inplace=True)\n",
        "df['DECISÃO'].replace('MARCO AURÉLIO','Marco Aurelio,',inplace=True)\n",
        "df['DECISÃO'].replace('Carmen Lucia','Cármen Lúcia,',inplace=True)\n",
        "df['DECISÃO'].replace('Carmen Lúcia','Cármen Lúcia,',inplace=True)\n",
        "df['DECISÃO'].replace('Cármen Lucia','Cármen Lúcia,',inplace=True)"
      ]
    },
    {
      "cell_type": "code",
      "execution_count": null,
      "metadata": {
        "id": "uq2WTs5yRVg1"
      },
      "outputs": [],
      "source": [
        "#Passando nomes dos ministros para caixa alta\n",
        "for m in range(0,len(df2)):\n",
        "  #if df2['inicio']>\"2021-12-\"\n",
        "  df2['Ministro nome'][m]=df2['Ministro nome'].str.upper()[m]\n",
        "  lista_min.append(df2['Ministro nome'][m])\n"
      ]
    },
    {
      "cell_type": "code",
      "execution_count": null,
      "metadata": {
        "id": "6RheTTR1o2Of"
      },
      "outputs": [],
      "source": [
        "for r in range(0,len(df)):\n",
        "    df['Relator'][r]=df['Relator'].str.upper()[r]"
      ]
    },
    {
      "cell_type": "markdown",
      "metadata": {
        "id": "dDpMmYWmFpQp"
      },
      "source": [
        "# Criação de Colunas Novas\n"
      ]
    },
    {
      "cell_type": "code",
      "execution_count": null,
      "metadata": {
        "id": "WoT28lc60n2z"
      },
      "outputs": [],
      "source": [
        "#Criando colunas novas\n",
        "#Sentenca serve para armazenar a última decisão contida no acórdão. Sobre este conteúdo a contagem automática de votos é efetuada. \n",
        "df.insert(len(df.columns), 'Sentenca', '')\n",
        "#A coluna abaixo armazena: Sim = votações unânimes, Não = votações com ao menos um derrotado\n",
        "df.insert(len(df.columns), 'Unanimidade', '')\n",
        "#A coluna abaixo serve para armazenar notas importantes\n",
        "df.insert(len(df.columns), 'Informacoes', '')\n",
        "df.insert(len(df.columns), 'Vencedores', 0)\n",
        "df.insert(len(df.columns), 'Vencidos', 0)\n",
        "df.insert(len(df.columns), 'Impedidos', 0)\n",
        "df.insert(len(df.columns), 'Ausentes', 0)\n",
        "df.insert(len(df.columns), 'Não Participantes', 0)\n",
        "#Total de Votantes\n",
        "df.insert(len(df.columns), 'Quorum', 0)\n",
        "#Ministros relacionados, inclui-se os ausentes, impedidos, não votantes por serem substitutos de antigo ministro que votou e ministros antigos que tiveram voto contado na decisão final\n",
        "df.insert(len(df.columns), 'Relacionados', 0)\n",
        "#Os nomes dos ministros contados na coluna acima\n",
        "df.insert(len(df.columns), 'Relacionados-nomes', '')\n",
        "df.insert(len(df.columns), 'Votações', 1)\n",
        "df.insert(len(df.columns), 'Votações Unânimes', 0)\n",
        "df.insert(len(df.columns), 'Votações por Maioria', 0)\n",
        "df.insert(len(df.columns), 'Lista de Vencedores', '')\n",
        "df.insert(len(df.columns), 'Lista de Vencidos', '')\n",
        "df.insert(len(df.columns), 'Não votaram', '')\n",
        "df.insert(len(df.columns), 'Contagem', 'Automática')\n",
        "#O acórdão será considerado Principal se não se referir a AgR, ED, QO etc\n",
        "df.insert(len(df.columns), 'Tipo', 'Principal')\n",
        "df.insert(len(df.columns), 'Pleito Analisado', '')"
      ]
    },
    {
      "cell_type": "code",
      "execution_count": null,
      "metadata": {
        "id": "njzB8CTaEwL2"
      },
      "outputs": [],
      "source": [
        "#Separando a decisão final e armazenando na coluna Sentenca\n",
        "df['DECISÃO'] = df['DECISÃO'].ast1\n",
        "1\n",
        "1\n",
        "1\n",
        "1\n",
        "1\n",
        "1ype(str)\n",
        "\n",
        "for c in range(0,len(df)):\n",
        "  if \"ecisão\" in df['DECISÃO'][c]:\n",
        "    sentenca=df['DECISÃO'][c].split(\"ecisão:\")\n",
        "    sentenca2=sentenca[-1]\n",
        "    df['Sentenca'][c]=sentenca2.upper()\n",
        "  else:\n",
        "    df['Sentenca'][c]=df['DECISÃO'][c].upper()"
      ]
    },
    {
      "cell_type": "code",
      "execution_count": null,
      "metadata": {
        "id": "iFoP7HA7PhH1"
      },
      "outputs": [],
      "source": [
        "#Trocando nome da Coluna de Título do Acórdão para ADI ou HC\n",
        "if classe =='1':\n",
        "  titulo='HC'\n",
        "  \n",
        "if classe=='2':\n",
        "  titulo='ADI'\n",
        "  df.rename(columns={'HC':titulo}, inplace=True)"
      ]
    },
    {
      "cell_type": "markdown",
      "metadata": {
        "id": "mpwe5Ngkr2cY"
      },
      "source": [
        "# Iniciando contagem automática de votos "
      ]
    },
    {
      "cell_type": "code",
      "execution_count": null,
      "metadata": {
        "id": "e1e_GQcMuOZ_"
      },
      "outputs": [],
      "source": [
        "#Corrigindo problema com strings com nomes de alguns ministros\n",
        "\n",
        "for c in range(0,len(df)):\n",
        "  if df['Relator'][c]=='CEZAR PELUSO (PRESIDENTE)':\n",
        "    df['Relator'][c]='CEZAR PELUSO'\n",
        "\n",
        "  if df['Relator'][c]=='RICARDO LEWANDOWSKI (PRESIDENTE)  ' or df['Relator'][c]=='RICARDO LEWANDOWSKI (PRESIDENTE)':\n",
        "    df['Relator'][c]='RICARDO LEWANDOWSKI'\n",
        "\n",
        "  "
      ]
    },
    {
      "cell_type": "code",
      "source": [
        "#Excluindo decisões sem placar por falta de quorum\n",
        "cont=0\n",
        "for c in range (0,len(df)):\n",
        "  termo=df['Pleito Analisado'][c]\n",
        "  if 'NÃO FOI ATINGIDO O QUORUM' in termo or 'NÃO TER ALCANÇADO O QUORUM' in termo:\n",
        "    cont+=1\n",
        "    print(df[titulo][c])\n",
        "    print('Excluído')\n",
        "    df['Votações'][c]=50\n",
        "    print(c)                                                                                                            #print('Excluido: ',(df[titulo][i]))                                                                                 \n",
        "print('Total de excluídos: ',cont)\n",
        "                                                                                                               \n",
        "                                                                                                               "
      ],
      "metadata": {
        "id": "sALXy2kCZaqp",
        "colab": {
          "base_uri": "https://localhost:8080/"
        },
        "outputId": "24497bed-394c-4af4-80ab-1598ea7873a0"
      },
      "execution_count": null,
      "outputs": [
        {
          "output_type": "stream",
          "name": "stdout",
          "text": [
            "Total de excluídos:  0\n"
          ]
        }
      ]
    },
    {
      "cell_type": "code",
      "source": [
        "df_remove = df.loc[(df['Votações'] == 50)]\n",
        "\n",
        "df=df.drop(df_remove.index)"
      ],
      "metadata": {
        "id": "Znel1G9X9Acs"
      },
      "execution_count": null,
      "outputs": []
    },
    {
      "cell_type": "code",
      "source": [
        "#Reindexação\n",
        "df = df.reset_index(drop=True)"
      ],
      "metadata": {
        "id": "9B30Oex_a7-1"
      },
      "execution_count": null,
      "outputs": []
    },
    {
      "cell_type": "markdown",
      "metadata": {
        "id": "v53nwTNV8xcd"
      },
      "source": [
        "**Atribuindo valor inicial 2 para todos os ministros em todas as votações**\n",
        "\n",
        "Até que seja analisado cada caso, os ministros constam como não ocupantes de cadeira, nesta fase do presente código na produção do dataset"
      ]
    },
    {
      "cell_type": "code",
      "execution_count": null,
      "metadata": {
        "id": "v2STfVloIQ0Y"
      },
      "outputs": [],
      "source": [
        "lista=[2 for c in range(0,len(df))]\n",
        "#lista"
      ]
    },
    {
      "cell_type": "code",
      "execution_count": null,
      "metadata": {
        "id": "32dUPWkHIpVj"
      },
      "outputs": [],
      "source": [
        "df[\"lista\"]=lista\n"
      ]
    },
    {
      "cell_type": "code",
      "execution_count": null,
      "metadata": {
        "id": "de7MTfwmICS1"
      },
      "outputs": [],
      "source": [
        "for m in range(0,len(df2)):\n",
        "  df[df2['Ministro nome'][m]]=lista   "
      ]
    },
    {
      "cell_type": "markdown",
      "metadata": {
        "id": "VGBJ8Phx0VyK"
      },
      "source": [
        "**Verificando votações em que ocorrem duas ou mais decisões na última assentada (múltiplas decisões)**"
      ]
    },
    {
      "cell_type": "code",
      "execution_count": null,
      "metadata": {
        "id": "koVZDrPl004b",
        "colab": {
          "base_uri": "https://localhost:8080/"
        },
        "outputId": "9560621c-a760-462f-dcaf-c239f49fabcf"
      },
      "outputs": [
        {
          "output_type": "stream",
          "name": "stdout",
          "text": [
            " Em  ADI 6380 MC | Múltiplas decisões:  UNANIMIDADE\n",
            " Em  ADI 6375 MC | Múltiplas decisões:  UNANIMIDADE\n",
            " Em  ADI 4233 | Múltiplas decisões:  UNANIMIDADE\n",
            " Em  ADI 4943 | Múltiplas decisões:  UNANIMIDADE\n",
            " Em  ADI 5886 | Múltiplas decisões:  UNANIMIDADE\n",
            " Em  ADI 5995 | Múltiplas decisões:  UNANIMIDADE\n",
            " Em  ADI 6380 MC | Múltiplas decisões:  UNÂNIME\n",
            " Em  ADI 6375 MC | Múltiplas decisões:  UNÂNIME\n",
            " Em  ADI 4233 | Múltiplas decisões:  UNÂNIME\n",
            " Em  ADI 4943 | Múltiplas decisões:  UNÂNIME\n",
            " Em  ADI 5886 | Múltiplas decisões:  UNÂNIME\n",
            " Em  ADI 5995 | Múltiplas decisões:  UNÂNIME\n",
            " Em  ADI 6380 MC | Múltiplas decisões:  MAIORIA\n",
            " Em  ADI 6375 MC | Múltiplas decisões:  MAIORIA\n",
            " Em  ADI 4233 | Múltiplas decisões:  MAIORIA\n",
            " Em  ADI 4943 | Múltiplas decisões:  MAIORIA\n",
            " Em  ADI 5886 | Múltiplas decisões:  MAIORIA\n",
            " Em  ADI 5995 | Múltiplas decisões:  MAIORIA\n",
            " Em  ADI 6380 MC | Múltiplas decisões:  QUANTO AO ITEM\n",
            " Em  ADI 6375 MC | Múltiplas decisões:  QUANTO AO ITEM\n",
            " Em  ADI 4233 | Múltiplas decisões:  QUANTO AO ITEM\n",
            " Em  ADI 4943 | Múltiplas decisões:  QUANTO AO ITEM\n",
            " Em  ADI 5886 | Múltiplas decisões:  QUANTO AO ITEM\n",
            " Em  ADI 5995 | Múltiplas decisões:  QUANTO AO ITEM\n",
            " Em  ADI 6380 MC | Múltiplas decisões:  NO PONTO\n",
            " Em  ADI 6375 MC | Múltiplas decisões:  NO PONTO\n",
            " Em  ADI 4233 | Múltiplas decisões:  NO PONTO\n",
            " Em  ADI 4943 | Múltiplas decisões:  NO PONTO\n",
            " Em  ADI 5886 | Múltiplas decisões:  NO PONTO\n",
            " Em  ADI 5995 | Múltiplas decisões:  NO PONTO\n",
            " Em  ADI 6380 MC | Múltiplas decisões:  NESTE PONTO\n",
            " Em  ADI 6375 MC | Múltiplas decisões:  NESTE PONTO\n",
            " Em  ADI 4233 | Múltiplas decisões:  NESTE PONTO\n",
            " Em  ADI 4943 | Múltiplas decisões:  NESTE PONTO\n",
            " Em  ADI 5886 | Múltiplas decisões:  NESTE PONTO\n",
            " Em  ADI 5995 | Múltiplas decisões:  NESTE PONTO\n",
            " Em  ADI 6380 MC | Múltiplas decisões:  UNANIME\n",
            " Em  ADI 6375 MC | Múltiplas decisões:  UNANIME\n",
            " Em  ADI 4233 | Múltiplas decisões:  UNANIME\n",
            " Em  ADI 4943 | Múltiplas decisões:  UNANIME\n",
            " Em  ADI 5886 | Múltiplas decisões:  UNANIME\n",
            " Em  ADI 5995 | Múltiplas decisões:  UNANIME\n"
          ]
        }
      ],
      "source": [
        "#Identificação de decisões múltiplas\n",
        "termos = ['UNANIMIDADE','UNÂNIME','MAIORIA','QUANTO AO ITEM','NO PONTO','NESTE PONTO', 'UNANIME']\n",
        "\n",
        "\n",
        "linhas.append(\"      \")\n",
        "linhas.append(\"***** Votações Finais com Múltiplas Decisões **\")\n",
        "ocor=0\n",
        "mult=0\n",
        "for t in termos:\n",
        "  for c in range(0,len(df)):\n",
        "    #VERIFICANDO SE UM DOS TERMOS SE REPETE NA DECISÃO FINAL\n",
        "    if (df['Sentenca'][c].count(t)>1):\n",
        "      texto='| Múltiplas decisões: '\n",
        "      #print(' Em ',df['HC'][c], texto,t)   \n",
        "      linhas.append(f'{texto} : {t}')\n",
        "      linhas.append(df[titulo][c])\n",
        "      linhas.append(\"      \")\n",
        "      \n",
        "      if texto not in df['Informacoes'][c]:\n",
        "        df['Informacoes'][c]=(df['Informacoes'][c]+texto)\n",
        "        ocor+=1\n",
        "      df['Informacoes'][c]=(df['Informacoes'][c]+t)\n",
        "    if 'VOTARAM NESSE SENTIDO' in df['Sentenca'][c] or 'VOTOU NESSE SENTIDO' in df['Sentenca'][c]:\n",
        "      texto='| Múltiplas decisões: '\n",
        "      print(' Em ',df[titulo][c], texto,t)   \n",
        "      linhas.append(f'{texto} : {t}')\n",
        "      linhas.append(df[titulo][c])\n",
        "      linhas.append(\"      \")\n",
        "      \n",
        "      #texto=(texto+t)\n",
        "      if texto not in df['Informacoes'][c]:\n",
        "        df['Informacoes'][c]=(df['Informacoes'][c]+texto)\n",
        "        ocor+=1\n",
        "      if 'SENTIDO' not in df['Informacoes'][c]:\n",
        "        df['Informacoes'][c]=(df['Informacoes'][c]+' SENTIDO |')\n",
        "    if 'MAIOR EXTENSÃO' in df['Sentenca'][c] or 'MENOR EXTENSÃO' in df['Sentenca'][c]:\n",
        "      texto='| Dissidência por Extensão: '      \n",
        "      #print(' Em ',df['HC'][c], texto,t)   \n",
        "      linhas.append(f'{texto} : {t}')\n",
        "      linhas.append(df[titulo][c])\n",
        "      linhas.append(\"      \")\n",
        "      #texto=(texto+t)\n",
        "      if texto not in df['Informacoes'][c]:\n",
        "        df['Informacoes'][c]=(df['Informacoes'][c]+texto+' | ')\n",
        "        ocor+=1\n",
        "      if 'EXTENSÃO' not in df['Informacoes'][c]:\n",
        "        df['Informacoes'][c]=(df['Informacoes'][c]+' EXTENSÃO |')\n",
        "    if 'O TRIBUNAL, AINDA' in df['Sentenca'][c]:\n",
        "      texto='| Múltiplas decisões no termo: O TRIBUNAL, AINDA |'\n",
        "      #print(' Em ',df['HC'][c], texto,t)   \n",
        "      linhas.append(f'{texto} : {t}')\n",
        "      linhas.append(df[titulo][c])\n",
        "      linhas.append(\"      \")\n",
        "      texto=(texto+t)\n",
        "      #df['Votações'][c]+=1\n",
        "      if texto not in df['Informacoes'][c]:\n",
        "        df['Informacoes'][c]=(df['Informacoes'][c]+texto)\n",
        "        ocor+=1\n"
      ]
    },
    {
      "cell_type": "code",
      "execution_count": null,
      "metadata": {
        "id": "DNeP1XZWHrPE",
        "colab": {
          "base_uri": "https://localhost:8080/"
        },
        "outputId": "7f288f0e-bb81-44be-bf51-d15211840e2b"
      },
      "outputs": [
        {
          "output_type": "stream",
          "name": "stdout",
          "text": [
            "Já verificado\n",
            "Já verificado\n",
            "Já verificado\n",
            "Já verificado\n",
            "Já verificado\n",
            "Já verificado\n",
            "Já verificado\n",
            "Já verificado\n",
            "Já verificado\n",
            "Já verificado\n",
            "Já verificado\n",
            "Já verificado\n",
            "Já verificado\n",
            "Já verificado\n"
          ]
        }
      ],
      "source": [
        "#Nova verificação de decisões múltiplas\n",
        "for c in range(0,len(df)):\n",
        "  if (\"UNANIMEMENTE\" in df['Sentenca'][c] or \"UNÂNIME\" in df['Sentenca'][c] or \"UNANIMIDADE\" in df['Sentenca'][c] or \"UNÃNIME\" in df['Sentenca'][c]) and (\"MAIORIA\" in df['Sentenca'][c]) or (\"QUANTO AO ITEM\" in df['Sentenca'][c] or \"NESTE PONTO\" in df['Sentenca'][c] or \"NO PONTO\" in df['Sentenca'][c]):\n",
        "    if df['Informacoes'][c]!='':\n",
        "      print('Já verificado')\n",
        "    \n",
        "    else:\n",
        "      texto='Múltiplas decisões |'\n",
        "      #print('ACHOU UM CASO POR AQUI')\n",
        "      if texto not in df['Informacoes'][c]:\n",
        "        df['Informacoes'][c]=(df['Informacoes'][c]+texto)\n",
        "      ocor+=1\n",
        "      acordao=df[titulo][c]\n",
        "      #print(texto,' em ',df['HC'][c])   \n",
        "      linhas.append(texto)\n",
        "      linhas.append(df[titulo][c])\n",
        "      linhas.append(\"      \")\n",
        "      "
      ]
    },
    {
      "cell_type": "code",
      "source": [
        "import re"
      ],
      "metadata": {
        "id": "tjHVZKgiwBSE"
      },
      "execution_count": null,
      "outputs": []
    },
    {
      "cell_type": "code",
      "execution_count": null,
      "metadata": {
        "id": "QoAnL1ICgwe4",
        "colab": {
          "base_uri": "https://localhost:8080/"
        },
        "outputId": "18d24c96-1ec8-4356-8cb3-ccf9f58430b1"
      },
      "outputs": [
        {
          "output_type": "stream",
          "name": "stdout",
          "text": [
            "Melhor verificar:\n",
            "ADI 2854\n",
            "Melhor verificar:\n",
            "ADI 3427\n",
            "Melhor verificar:\n",
            "ADI 4233\n",
            "Melhor verificar:\n",
            "ADI 5886\n",
            "Melhor verificar:\n",
            "ADI 5995\n",
            "Melhor verificar:\n",
            "ADI 5592\n",
            "Melhor verificar:\n",
            "ADI 5624 MC-Ref\n",
            "Melhor verificar:\n",
            "ADI 1606\n",
            "Melhor verificar:\n",
            "ADI 4552 MC\n",
            "Melhor verificar:\n",
            "ADI 5163\n",
            "Melhor verificar:\n",
            "ADI 2077 MC\n",
            "Melhor verificar:\n",
            "ADI 4372\n",
            "Melhor verificar:\n",
            "ADI 4400\n",
            "Melhor verificar:\n",
            "ADI 4102\n",
            "Melhor verificar:\n",
            "ADI 5028\n",
            "Melhor verificar:\n",
            "ADI 4965\n",
            "Melhor verificar:\n",
            "ADI 4947\n",
            "Melhor verificar:\n",
            "ADI 5020\n",
            "Melhor verificar:\n",
            "ADI 4876\n",
            "Melhor verificar:\n",
            "ADI 2416\n",
            "Melhor verificar:\n",
            "ADI 374\n",
            "Melhor verificar:\n",
            "ADI 4029\n",
            "Melhor verificar:\n",
            "ADI 4429\n",
            "Melhor verificar:\n",
            "ADI 4597 MC\n",
            "Melhor verificar:\n",
            "ADI 4167\n",
            "Melhor verificar:\n",
            "ADI 3937\n",
            "Melhor verificar:\n",
            "ADI 5577\n"
          ]
        }
      ],
      "source": [
        "#Contando votos unânimes e por maioria em cada acórdão. Uma decisão final pode conter mais de uma votação;\n",
        "for s in range (0,len(df)):\n",
        "  texto=df['Sentenca'][s]\n",
        "  #print('*'*100)\n",
        "  #print(texto)\n",
        "  count_pm = len(re.findall(r'(?<!\\S)'+ 'por maioria*,?' + r'(?!\\S)', texto, re.IGNORECASE))\n",
        "  #print(df['HC'][s])\n",
        "  #print(count_pm)\n",
        "  count_una = len(re.findall(r'(?<!\\S)'+ 'por unanimidade,?' + r'(?!\\S)', texto, re.IGNORECASE))\n",
        "  count_una=count_una+(len(re.findall(r'(?<!\\S)'+ 'unânime,?' + r'(?!\\S)', texto, re.IGNORECASE)))\n",
        "  #print(count_una)\n",
        "  df['Votações por Maioria'][s]=count_pm\n",
        "  df['Votações Unânimes'][s]=count_una\n",
        "  df['Votações'][s]=count_pm+count_una\n",
        "  if df['Votações'][s] == 0:\n",
        "    print('Melhor verificar:')\n",
        "    print (df[titulo][s])\n",
        "    df['Votações'][s]=1\n",
        "  #print('Total:',df['Votações'][s])"
      ]
    },
    {
      "cell_type": "code",
      "execution_count": null,
      "metadata": {
        "id": "GPki5_ZLpz1n"
      },
      "outputs": [],
      "source": [
        "if resp=='s' or resp=='S':\n",
        "  imprima_contagens(y)"
      ]
    },
    {
      "cell_type": "code",
      "source": [
        "#Marcando tipos de acórdãos\n",
        "\n",
        "for i in range (0,len(df)):\n",
        "\n",
        "  try:\n",
        "\n",
        "    if 'AgR' in df[titulo][i]:\n",
        "      df['Tipo'][i]='AgR'\n",
        "          \n",
        "    elif 'ED' in df[titulo][i]:\n",
        "      df['Tipo'][i]='ED'\n",
        "    \n",
        "    elif 'EI' in df[titulo][i]:\n",
        "      df['Tipo'][i]='EI'\n",
        "    \n",
        "    elif 'MC' in df[titulo][i]:\n",
        "      df['Tipo'][i]='MC'\n",
        "\n",
        "    elif 'QO' in df[titulo][i]:\n",
        "      df['Tipo'][i]='QO'\n",
        "\n",
        "    elif 'EI-AgR' in df[titulo][i]:\n",
        "      df['Tipo'][i]='EI-AgR'\n",
        "\n",
        "    elif 'JULG' in df[titulo][i]:\n",
        "      df['Tipo'][i]='Outros'\n",
        "\n",
        "    else:\n",
        "      df['Tipo'][i]='Principal'\n",
        "\n",
        "\n",
        "  \n",
        "  except KeyError:\n",
        "    print(\"Erro ignorado em: \")\n",
        "    print (i)\n",
        "    #print (df['HC'][i])"
      ],
      "metadata": {
        "id": "QdRtG1zi9dSL"
      },
      "execution_count": null,
      "outputs": []
    },
    {
      "cell_type": "markdown",
      "source": [
        "#ESCOLHA 2"
      ],
      "metadata": {
        "id": "cd5YkyLoK8gD"
      }
    },
    {
      "cell_type": "code",
      "source": [
        "quantidade=0\n",
        "for a in range (0,len(df)):\n",
        "  if df['Votações por Maioria'][a]>0 and df['Votações Unânimes'][a]>0 and df['Tipo'][a]=='Principal':\n",
        "    quantidade+=1\n",
        "\n",
        "print('CASOS DE DECISÕES MÚLTIPLAS ONDE OCORRE UNANIMIDADES E DECISÕES POR MAIORIA DENTRE AS VOTAÇÕES FINAIS')\n",
        "print('Total de acórdãos a serem verificados; ', quantidade)\n",
        "\n",
        "print('Deseja fazer a contagem manual? Digite s para sim ou n para não')\n",
        "escolha = input()\n",
        "#escolha='S'   "
      ],
      "metadata": {
        "id": "OzECbdzzN5-d",
        "colab": {
          "base_uri": "https://localhost:8080/"
        },
        "outputId": "4e281173-3dc1-4c1c-f8eb-15785c9c86b8"
      },
      "execution_count": null,
      "outputs": [
        {
          "name": "stdout",
          "output_type": "stream",
          "text": [
            "CASOS DE DECISÕES MÚLTIPLAS ONDE OCORRE UNANIMIDADES E DECISÕES POR MAIORIA DENTRE AS VOTAÇÕES FINAIS\n",
            "Total de acórdãos a serem verificados;  54\n",
            "Deseja fazer a contagem manual? Digite s para sim ou n para não\n",
            "N\n"
          ]
        }
      ]
    },
    {
      "cell_type": "markdown",
      "source": [
        "# ESCOLHA 3 -  Atribuição manual sobre votação unânime ou por maioria nos casos de decisões múltiplas"
      ],
      "metadata": {
        "id": "MdhDteBFSv0z"
      }
    },
    {
      "cell_type": "code",
      "source": [
        "#decisão manual sobre votação unânime em casos de decisões múltiplas\n",
        "contador=1\n",
        "if escolha == 's' or escolha =='S':\n",
        "  for a in range (0,len(df)):\n",
        "    #if df['Votações por Maioria'][a]>0 and df['Votações Unânimes'][a]>0 and df['Tipo'][a]=='Principal':\n",
        "    #Se já constar como unãnime é pq a lista prévia foi usada, então não verifico.\n",
        "    if df['Votações por Maioria'][a]>0 and df['Votações Unânimes'][a]>0 and df['Tipo'][a]=='Principal' and df['Unanimidade'][a]!='Sim':\n",
        "      print('-'*40)\n",
        "      print('')\n",
        "      print('')\n",
        "      print (df[titulo][a])\n",
        "      print (df['Sentenca'][a])\n",
        "      print('')\n",
        "      print('')    \n",
        "      opcao = 0\n",
        "      while opcao ==0:\n",
        "        print('*'*100)\n",
        "        print('Caso ',contador,' de ',quantidade)\n",
        "        print('Marque 1 se deseja considerar apenas a votação unânime e 2 caso queira que seja contada uma votação em que ocorreu uma decisão por maioria')\n",
        "        print(\"1 - Votação principal foi unânime\")\n",
        "        print(\"2 - Votação principal foi por maioria\")\n",
        "        opcao = input (\"Digite o número e pressione ENTER: \")\n",
        "        contador+=1\n",
        "        if opcao == \"1\":\n",
        "          print(\"Votação será tratada como caso de unanimidade!\")\n",
        "          df['Unanimidade'][a]='Sim'\n",
        "          df['Contagem'][a]='Automática(semi)'\n",
        "\n",
        "        elif choice == \"2\":\n",
        "          print(\"Votação será tratada como decisão por maioria!\")\n",
        "          df['Unanimidade'][a]='Não'\n",
        "          df['Contagem'][a]='Automática(semi)'\n",
        "\n",
        "      print('Opções registradas!')                "
      ],
      "metadata": {
        "id": "oSOnqr7d9xyp"
      },
      "execution_count": null,
      "outputs": []
    },
    {
      "cell_type": "markdown",
      "metadata": {
        "id": "WRip9lEKfYbG"
      },
      "source": [
        "#Marcando votações unânimes"
      ]
    },
    {
      "cell_type": "code",
      "source": [
        "dissid=0\n",
        "concord=0\n",
        "for c in range(0,len(df)):\n",
        "\n",
        "##print(sentenca2)\n",
        "  \n",
        "  if \"UNANIMEMENTE\" in df['Sentenca'][c] or \"UNÂNIME\" in df['Sentenca'][c] or \"UNANIMIDADE\" in df['Sentenca'][c] or \"UNÃNIME\" in df['Sentenca'][c]:\n",
        "    if df['Votações por Maioria'][c]>0 and df['Votações Unânimes'][c]>0 and df['Unanimidade'][c]!='Sim' and df['Tipo'][c]=='Principal':\n",
        "        df['Unanimidade'][c]='A Escolher'\n",
        "        print('A decidir: ',df[titulo][c])\n",
        "    \n",
        "    elif df['Votações por Maioria'][c]==0 and df['Votações Unânimes'][c]>0:\n",
        "        df['Unanimidade'][c]='Sim'\n",
        "        concord+=1\n",
        "\n",
        "    if df['Unanimidade'][c]=='':\n",
        "        df['Unanimidade'][c]='Não'\n",
        "        dissid+=1     "
      ],
      "metadata": {
        "id": "hgLYybglYrXk",
        "colab": {
          "base_uri": "https://localhost:8080/"
        },
        "outputId": "aaf7e48b-fc45-4648-c062-df40c3c6190e"
      },
      "execution_count": null,
      "outputs": [
        {
          "output_type": "stream",
          "name": "stdout",
          "text": [
            "A decidir:  ADI 6395\n",
            "A decidir:  ADI 2534\n",
            "A decidir:  ADI 2575\n",
            "A decidir:  ADI 3133\n",
            "A decidir:  ADI 1251\n",
            "A decidir:  ADI 4219\n",
            "A decidir:  ADI 3419\n",
            "A decidir:  ADI 4545\n",
            "A decidir:  ADI 6032\n",
            "A decidir:  ADI 6211\n",
            "A decidir:  ADI 282\n",
            "A decidir:  ADI 4769\n",
            "A decidir:  ADI 2324\n",
            "A decidir:  ADI 5938\n",
            "A decidir:  ADI 5897\n",
            "A decidir:  ADI 5855\n",
            "A decidir:  ADI 2998\n",
            "A decidir:  ADI 5709\n",
            "A decidir:  ADI 825\n",
            "A decidir:  ADI 5352\n",
            "A decidir:  ADI 5111\n",
            "A decidir:  ADI 4874\n",
            "A decidir:  ADI 3943\n",
            "A decidir:  ADI 4641\n",
            "A decidir:  ADI 4639\n",
            "A decidir:  ADI 4481\n",
            "A decidir:  ADI 3708\n",
            "A decidir:  ADI 4628\n",
            "A decidir:  ADI 429\n",
            "A decidir:  ADI 3202\n",
            "A decidir:  ADI 2556\n",
            "A decidir:  ADI 4375\n",
            "A decidir:  ADI 4364\n",
            "A decidir:  ADI 4391\n",
            "A decidir:  ADI 4356\n",
            "A decidir:  ADI 4426\n",
            "A decidir:  ADI 2332\n",
            "A decidir:  ADI 6630\n",
            "A decidir:  ADI 5763\n",
            "A decidir:  ADI 4269\n",
            "A decidir:  ADI 803\n",
            "A decidir:  ADI 2921\n",
            "A decidir:  ADI 4764\n",
            "A decidir:  ADI 5540\n",
            "A decidir:  ADI 3662\n",
            "A decidir:  ADI 2028\n",
            "A decidir:  ADI 5287\n",
            "A decidir:  ADI 2859\n"
          ]
        }
      ]
    },
    {
      "cell_type": "code",
      "source": [
        "df['Unanimidade'].replace([''],'Não',inplace=True)"
      ],
      "metadata": {
        "id": "hYTRTaAhBA05"
      },
      "execution_count": null,
      "outputs": []
    },
    {
      "cell_type": "code",
      "source": [
        "df['Unanimidade'].value_counts()"
      ],
      "metadata": {
        "id": "cFbsUlw1_4fz",
        "colab": {
          "base_uri": "https://localhost:8080/"
        },
        "outputId": "15090ef6-0444-4799-cfe1-262dc4fd8ff0"
      },
      "execution_count": null,
      "outputs": [
        {
          "output_type": "execute_result",
          "data": {
            "text/plain": [
              "Sim           1361\n",
              "Não            832\n",
              "A Escolher      48\n",
              "Name: Unanimidade, dtype: int64"
            ]
          },
          "metadata": {},
          "execution_count": 45
        }
      ]
    },
    {
      "cell_type": "code",
      "execution_count": null,
      "metadata": {
        "id": "JvZ0_WKtiONV"
      },
      "outputs": [],
      "source": [
        "if resp =='s':\n",
        "  print(df['Unanimidade'][y])\n",
        "  print(df['Sentenca'][y])"
      ]
    },
    {
      "cell_type": "markdown",
      "source": [
        "#ESCOLHA 4 - Inclusões manuais (PLEITO ANALISADO)"
      ],
      "metadata": {
        "id": "CwVcFFejqjfp"
      }
    },
    {
      "cell_type": "code",
      "source": [
        "df['Unanimidade'].value_counts()"
      ],
      "metadata": {
        "id": "4V4E8c1s5a1M",
        "colab": {
          "base_uri": "https://localhost:8080/"
        },
        "outputId": "42e53900-23bb-4f78-e918-3113e409724c"
      },
      "execution_count": null,
      "outputs": [
        {
          "output_type": "execute_result",
          "data": {
            "text/plain": [
              "Sim           1361\n",
              "Não            832\n",
              "A Escolher      48\n",
              "Name: Unanimidade, dtype: int64"
            ]
          },
          "metadata": {},
          "execution_count": 47
        }
      ]
    },
    {
      "cell_type": "code",
      "source": [
        "## TEMP JEF - acho que vai ficar em definitivo\n",
        "\n",
        "#Seleção manual de Pleito a ser analisado (Casos mais complexos em que há múltiplas decisões)\n",
        "print('Deseja escolher os trechos da decisão final que serão utilizados na contagem de votos automática? Digite s para Sim.')\n",
        "escolher=input()\n",
        "#escolher='s'\n",
        "cont2=0\n",
        "if escolher == 's' or escolher =='S':\n",
        "  \n",
        "  for i in range (0,len(df)):\n",
        "    ## Mudar isso quando for fazer o dataset definitivo pq com o Principal marcado abaixo, os demais podem não ser bem contados\n",
        "    if df['Unanimidade'][i]=='A Escolher' and df['Tipo'][i]=='Principal':\n",
        "      print('-'*200)\n",
        "      print('*'*200)\n",
        "      cont2+=1\n",
        "      print('Operação: ',cont2)\n",
        "      print('Copie, do texto abaixo, o trecho  a ser utilizado para a contagem, cole na caixa,')\n",
        "      print('inclua o ponto final ou digite um ponto final se não houver no trecho colado. Pressione ENTER: ')\n",
        "      print('')\n",
        "      print('*'*200)  \n",
        "      print('')\n",
        "      print(df[titulo][i])\n",
        "      print(df['Sentenca'][i])\n",
        "      print('')\n",
        "      print('')\n",
        "      print('')\n",
        "       \n",
        "      df['Pleito Analisado'][i]=input()\n",
        "      print('Texto inserido: ',df['Pleito Analisado'][i])\n",
        "      df['Contagem'][a]='Automática(semi)'\n",
        "      if \"UNANIMEMENTE\" in df['Pleito Analisado'][i] or \"UNÂNIME\" in df['Pleito Analisado'][i] or \"UNANIMIDADE\" in df['Pleito Analisado'][i] or \"UNÃNIME\" in df['Pleito Analisado'][i]:\n",
        "        df['Unanimidade'][i]='Sim'\n",
        "      else:\n",
        "        df['Unanimidade'][i]='Não'"
      ],
      "metadata": {
        "id": "wRbQ6tGLadt2",
        "colab": {
          "base_uri": "https://localhost:8080/"
        },
        "outputId": "5a7868fd-e513-4845-c4e6-3c68a4f8ebc3"
      },
      "execution_count": null,
      "outputs": [
        {
          "name": "stdout",
          "output_type": "stream",
          "text": [
            "Deseja escolher os trechos da decisão final que serão utilizados na contagem de votos automática? Digite s para Sim.\n",
            "N\n"
          ]
        }
      ]
    },
    {
      "cell_type": "markdown",
      "source": [
        "#Contagem manual (continuação)"
      ],
      "metadata": {
        "id": "rIxBO8xRujeo"
      }
    },
    {
      "cell_type": "markdown",
      "metadata": {
        "id": "KlgHsDRBnT7D"
      },
      "source": [
        "**Criando lista de ministros relacionados ao acórdão**"
      ]
    },
    {
      "cell_type": "code",
      "execution_count": null,
      "metadata": {
        "id": "da0pg3m-ncgf"
      },
      "outputs": [],
      "source": [
        "for m in range(0,len(df2)):\n",
        "  ministro = (df2['Ministro nome'][m])\n",
        "  for c in range(0,len(df)):\n",
        "    j=df['Data de julgamento'][c]\n",
        "    i=df2['inicio'][m]\n",
        "    f=df2['fim'][m]\n",
        "    if ministro in df['Sentenca'][c]:\n",
        "      if ministro not in df['Relacionados-nomes'][c]:\n",
        "        df['Relacionados-nomes'][c]=df['Relacionados-nomes'][c]+(\" | \")\n",
        "        df['Relacionados-nomes'][c]=df['Relacionados-nomes'][c]+(ministro)\n",
        "        df['Relacionados'][c]+=1\n",
        "    if j >= i and j <= f:\n",
        "      if ministro not in df['Relacionados-nomes'][c]:\n",
        "        df['Relacionados-nomes'][c]=df['Relacionados-nomes'][c]+(\" | \")\n",
        "        df['Relacionados-nomes'][c]=df['Relacionados-nomes'][c]+(ministro)\n",
        "        df['Relacionados'][c]+=1  "
      ]
    },
    {
      "cell_type": "code",
      "execution_count": null,
      "metadata": {
        "id": "0w70UFNonYQV",
        "colab": {
          "base_uri": "https://localhost:8080/"
        },
        "outputId": "48e719da-572c-4a85-c0df-889afdf5f39b"
      },
      "outputs": [
        {
          "output_type": "stream",
          "name": "stdout",
          "text": [
            "Votações com dissidências:  10\n",
            "Votações unânimes:  1355\n"
          ]
        }
      ],
      "source": [
        "print ('Votações com dissidências: ',dissid)\n",
        "print ('Votações unânimes: ', concord)\n",
        "\n",
        "#relat = open('relatórios.txt', 'r')\n",
        "#linhas = relat.readlines()\n",
        "linhas.append(\"      \")\n",
        "linhas.append(\"*******************************\")\n",
        "linhas.append(f'Votações com dissidências: {dissid}')\n",
        "linhas.append(f'Votações Unânimes: {concord}')"
      ]
    },
    {
      "cell_type": "code",
      "source": [
        "print(('Votações Unânimes (quando maior que 1 se refere a casos de decisões múltiplas)'))\n",
        "df['Votações Unânimes'].value_counts()"
      ],
      "metadata": {
        "id": "JpIV5dDfc-RD",
        "colab": {
          "base_uri": "https://localhost:8080/"
        },
        "outputId": "2a15ac8b-6fbc-459c-fc24-61f4e07e0796"
      },
      "execution_count": null,
      "outputs": [
        {
          "output_type": "stream",
          "name": "stdout",
          "text": [
            "Votações Unânimes (quando maior que 1 se refere a casos de decisões múltiplas)\n"
          ]
        },
        {
          "output_type": "execute_result",
          "data": {
            "text/plain": [
              "1    1409\n",
              "0     824\n",
              "2       8\n",
              "Name: Votações Unânimes, dtype: int64"
            ]
          },
          "metadata": {},
          "execution_count": 51
        }
      ]
    },
    {
      "cell_type": "code",
      "source": [
        "print(('Votações Majoritárias (quando maior que 1 se refere a casos de decisões múltiplas)'))\n",
        "df['Votações por Maioria'].value_counts()"
      ],
      "metadata": {
        "id": "Vi9qiG3jeOLN",
        "colab": {
          "base_uri": "https://localhost:8080/"
        },
        "outputId": "ced2956b-b562-4d6f-fe85-4934a6fb4a60"
      },
      "execution_count": null,
      "outputs": [
        {
          "output_type": "stream",
          "name": "stdout",
          "text": [
            "Votações Majoritárias (quando maior que 1 se refere a casos de decisões múltiplas)\n"
          ]
        },
        {
          "output_type": "execute_result",
          "data": {
            "text/plain": [
              "0    1382\n",
              "1     833\n",
              "2      22\n",
              "3       4\n",
              "Name: Votações por Maioria, dtype: int64"
            ]
          },
          "metadata": {},
          "execution_count": 52
        }
      ]
    },
    {
      "cell_type": "code",
      "source": [
        "#Caso o campo Pleito Analisado ainda esteja vazio, ele receberá o mesmo valor de Sentenca\n",
        "for i in range (0,len(df)):\n",
        "  if df['Pleito Analisado'][i]=='':\n",
        "    df['Pleito Analisado'][i]=df['Sentenca'][i]"
      ],
      "metadata": {
        "id": "nuccKBlOejp1"
      },
      "execution_count": null,
      "outputs": []
    },
    {
      "cell_type": "markdown",
      "metadata": {
        "id": "u-Ep5vhQIGkM"
      },
      "source": [
        "**Atribuindo -1 Aos vencidos em cada HC onde não houve unanimidade**"
      ]
    },
    {
      "cell_type": "code",
      "source": [
        "#Derrotados apontados pela expressão \"CONTRA O VOTO\"\n",
        "cont_derrotas=0\n",
        "for m in range(0,len(df2)):\n",
        "  ministro = (df2['Ministro nome'][m])\n",
        "  vencidos=\"\"\n",
        "  print('-'*200)\n",
        "  print(ministro)\n",
        "  print('')\n",
        "  print('') \n",
        "  \n",
        "  for c in range(0,len(df)):\n",
        "    \n",
        "    if df['Unanimidade'][c] == 'Não' and 'CONTRA O VOTO' in df['Pleito Analisado'][c]:              \n",
        "      venc1=df['Pleito Analisado'][c].split(\"CONTRA O VOTO\")\n",
        "      venc2=venc1[-1]\n",
        "      venc3=venc2.split(\".\")\n",
        "      vencidos=venc3[0]\n",
        "      #print('Captura: ',venc2)\n",
        "      #vencidos=(venc4.replace(\" \", \"_\"))\n",
        "      if ministro in vencidos and df[ministro][c] != -1:\n",
        "        relator = df['Relator'][c]\n",
        "        df[ministro][c]=-1\n",
        "        print(vencidos)\n",
        "        df['Lista de Vencidos'][c]=df['Lista de Vencidos'][c]+(\" | \")\n",
        "        df['Lista de Vencidos'][c]=df['Lista de Vencidos'][c]+(ministro)\n",
        "        print(ministro,' vencido no Acórdão ',df[titulo][c],'Indice: ',c)\n",
        "        cont_derrotas+=1\n",
        "        if ('ELATOR' in vencidos or 'ELATORA' in vencidos) and df[relator][c]!=-1 and relator in vencidos:\n",
        "          df['Informacoes'][c] = df['Informacoes'][c] + 'Conferir voto do Relator: ' + relator  \n",
        "          print('PODE HAVER ERRO NO VOTO DO RELATOR: ',ministro)"
      ],
      "metadata": {
        "id": "z0PlOPhTn-Lb",
        "colab": {
          "base_uri": "https://localhost:8080/"
        },
        "outputId": "b53bdb78-a451-4635-c743-5984418ec254"
      },
      "execution_count": null,
      "outputs": [
        {
          "output_type": "stream",
          "name": "stdout",
          "text": [
            "--------------------------------------------------------------------------------------------------------------------------------------------------------------------------------------------------------\n",
            "NUNES MARQUES\n",
            "\n",
            "\n",
            "--------------------------------------------------------------------------------------------------------------------------------------------------------------------------------------------------------\n",
            "ANDRÉ MENDONÇA\n",
            "\n",
            "\n",
            "--------------------------------------------------------------------------------------------------------------------------------------------------------------------------------------------------------\n",
            "ALEXANDRE DE MORAES\n",
            "\n",
            "\n",
            "--------------------------------------------------------------------------------------------------------------------------------------------------------------------------------------------------------\n",
            "DIAS TOFFOLI\n",
            "\n",
            "\n",
            "--------------------------------------------------------------------------------------------------------------------------------------------------------------------------------------------------------\n",
            "ROBERTO BARROSO\n",
            "\n",
            "\n",
            "--------------------------------------------------------------------------------------------------------------------------------------------------------------------------------------------------------\n",
            "EDSON FACHIN\n",
            "\n",
            "\n",
            "--------------------------------------------------------------------------------------------------------------------------------------------------------------------------------------------------------\n",
            "GILMAR MENDES\n",
            "\n",
            "\n",
            "--------------------------------------------------------------------------------------------------------------------------------------------------------------------------------------------------------\n",
            "CÁRMEN LÚCIA\n",
            "\n",
            "\n",
            "--------------------------------------------------------------------------------------------------------------------------------------------------------------------------------------------------------\n",
            "LUIZ FUX\n",
            "\n",
            "\n",
            " DO SENHOR MINISTRO LUIZ FUX (RELATOR)\n",
            "LUIZ FUX  vencido no Acórdão  ADI 4078 Indice:  1887\n",
            "--------------------------------------------------------------------------------------------------------------------------------------------------------------------------------------------------------\n",
            "RICARDO LEWANDOWSKI\n",
            "\n",
            "\n",
            "--------------------------------------------------------------------------------------------------------------------------------------------------------------------------------------------------------\n",
            "ROSA WEBER\n",
            "\n",
            "\n",
            "--------------------------------------------------------------------------------------------------------------------------------------------------------------------------------------------------------\n",
            "MARCO AURÉLIO\n",
            "\n",
            "\n",
            " DO SENHOR MINISTRO MARCO AURÉLIO, QUE PRONUNCIAVA A INCONSTITUCIONALIDADE COM EFICÁCIA EX TUNC\n",
            "MARCO AURÉLIO  vencido no Acórdão  ADI 4270 Indice:  1866\n",
            " DO SENHOR MINISTRO MARCO AURÉLIO\n",
            "MARCO AURÉLIO  vencido no Acórdão  ADI 3712 AgR Indice:  1870\n",
            " DO SENHOR MINISTRO MARCO AURÉLIO, QUE JULGAVA PROCEDENTE O PEDIDO COMO AÇÃO DIRETA DE INCONSTITUCIONALIDADE\n",
            "MARCO AURÉLIO  vencido no Acórdão  ADI 4163 Indice:  1872\n",
            " DO SENHOR MINISTRO MARCO AURÉLIO\n",
            "MARCO AURÉLIO  vencido no Acórdão  ADI 4638 MC-Ref Indice:  1877\n",
            " DO SENHOR MINISTRO MARCO AURÉLIO\n",
            "MARCO AURÉLIO  vencido no Acórdão  ADI 2012 Indice:  1891\n",
            " DO SENHOR MINISTRO MARCO AURÉLIO\n",
            "MARCO AURÉLIO  vencido no Acórdão  ADI 2415 Indice:  1898\n",
            " DO SENHOR MINISTRO MARCO AURÉLIO\n",
            "MARCO AURÉLIO  vencido no Acórdão  ADI 4432 Indice:  1946\n",
            " DO SENHOR MINISTRO MARCO AURÉLIO\n",
            "MARCO AURÉLIO  vencido no Acórdão  ADI 3783 Indice:  1959\n",
            " DO SENHOR MINISTRO MARCO AURÉLIO\n",
            "MARCO AURÉLIO  vencido no Acórdão  ADI 3661 Indice:  1961\n",
            " DO SENHOR MINISTRO MARCO AURÉLIO, QUE A JULGAVA PREJUDICADA\n",
            "MARCO AURÉLIO  vencido no Acórdão  ADI 3306 Indice:  1963\n",
            " DO SENHOR MINISTRO MARCO AURÉLIO\n",
            "MARCO AURÉLIO  vencido no Acórdão  ADI 3905 Indice:  1964\n",
            " DO SENHOR MINISTRO MARCO AURÉLIO\n",
            "MARCO AURÉLIO  vencido no Acórdão  ADI 874 Indice:  1981\n",
            "--------------------------------------------------------------------------------------------------------------------------------------------------------------------------------------------------------\n",
            "CELSO DE MELLO\n",
            "\n",
            "\n",
            "--------------------------------------------------------------------------------------------------------------------------------------------------------------------------------------------------------\n",
            "TEORI ZAVASCKI\n",
            "\n",
            "\n",
            "--------------------------------------------------------------------------------------------------------------------------------------------------------------------------------------------------------\n",
            "JOAQUIM BARBOSA\n",
            "\n",
            "\n",
            " DO SENHOR MINISTRO JOAQUIM BARBOSA\n",
            "JOAQUIM BARBOSA  vencido no Acórdão  ADI 255 Indice:  1966\n",
            "--------------------------------------------------------------------------------------------------------------------------------------------------------------------------------------------------------\n",
            "AYRES BRITTO\n",
            "\n",
            "\n",
            " DO SENHOR MINISTRO AYRES BRITTO (RELATOR)\n",
            "AYRES BRITTO  vencido no Acórdão  ADI 3343 Indice:  1900\n",
            " DO SENHOR MINISTRO AYRES BRITTO (RELATOR)\n",
            "AYRES BRITTO  vencido no Acórdão  ADI 4478 Indice:  1901\n",
            " DO SENHOR MINISTRO AYRES BRITTO\n",
            "AYRES BRITTO  vencido no Acórdão  ADI 3847 Indice:  1902\n",
            "--------------------------------------------------------------------------------------------------------------------------------------------------------------------------------------------------------\n",
            "CEZAR PELUSO\n",
            "\n",
            "\n",
            " DO SENHOR MINISTRO CEZAR PELUSO (PRESIDENTE), QUE JULGAVA PROCEDENTE A AÇÃO\n",
            "CEZAR PELUSO  vencido no Acórdão  ADI 4029 Indice:  1867\n",
            " DO SENHOR MINISTRO CEZAR PELUSO (PRESIDENTE)\n",
            "CEZAR PELUSO  vencido no Acórdão  ADI 4424 Indice:  1876\n",
            "--------------------------------------------------------------------------------------------------------------------------------------------------------------------------------------------------------\n",
            "ELLEN GRACIE\n",
            "\n",
            "\n",
            "--------------------------------------------------------------------------------------------------------------------------------------------------------------------------------------------------------\n",
            "EROS GRAU\n",
            "\n",
            "\n",
            "--------------------------------------------------------------------------------------------------------------------------------------------------------------------------------------------------------\n",
            "MENEZES DIREITO\n",
            "\n",
            "\n",
            "--------------------------------------------------------------------------------------------------------------------------------------------------------------------------------------------------------\n",
            "SEPÚLVEDA PERTENCE\n",
            "\n",
            "\n",
            "--------------------------------------------------------------------------------------------------------------------------------------------------------------------------------------------------------\n",
            "NELSON JOBIM\n",
            "\n",
            "\n",
            "--------------------------------------------------------------------------------------------------------------------------------------------------------------------------------------------------------\n",
            "CARLOS VELLOSO\n",
            "\n",
            "\n",
            "--------------------------------------------------------------------------------------------------------------------------------------------------------------------------------------------------------\n",
            "MAURÍCIO CORRÊA\n",
            "\n",
            "\n",
            "--------------------------------------------------------------------------------------------------------------------------------------------------------------------------------------------------------\n",
            "ILMAR GALVÃO\n",
            "\n",
            "\n",
            "--------------------------------------------------------------------------------------------------------------------------------------------------------------------------------------------------------\n",
            "SYDNEY SANCHES\n",
            "\n",
            "\n",
            "--------------------------------------------------------------------------------------------------------------------------------------------------------------------------------------------------------\n",
            "MOREIRA ALVES\n",
            "\n",
            "\n",
            "--------------------------------------------------------------------------------------------------------------------------------------------------------------------------------------------------------\n",
            "NÉRI DA SILVEIRA\n",
            "\n",
            "\n",
            "--------------------------------------------------------------------------------------------------------------------------------------------------------------------------------------------------------\n",
            "OCTAVIO GALLOTTI\n",
            "\n",
            "\n",
            "--------------------------------------------------------------------------------------------------------------------------------------------------------------------------------------------------------\n",
            "FRANCISCO REZEK\n",
            "\n",
            "\n"
          ]
        }
      ]
    },
    {
      "cell_type": "code",
      "source": [
        "# Derrotados apontados pela expressão \"CONTRA OS VOTOS\"\n",
        "for m in range(0,len(df2)):\n",
        "  ministro = (df2['Ministro nome'][m])\n",
        "  vencidos=\"\"\n",
        "  print('-'*200)\n",
        "  print(ministro)\n",
        "  print('')\n",
        "  print('') \n",
        "  \n",
        "  for c in range(0,len(df)):\n",
        "    \n",
        "    if df['Unanimidade'][c] == 'Não' and 'CONTRA OS VOTOS' in df['Pleito Analisado'][c]:              \n",
        "      venc1=df['Pleito Analisado'][c].split(\"CONTRA OS VOTOS\")\n",
        "      venc2=venc1[-1]\n",
        "      venc3=venc2.split(\".\")\n",
        "      vencidos=venc3[0]\n",
        "      #print('Captura: ',venc2)\n",
        "      #vencidos=(venc4.replace(\" \", \"_\"))\n",
        "      if ministro in vencidos and df[ministro][c] != -1:\n",
        "        relator = df['Relator'][c]\n",
        "        df[ministro][c]=-1\n",
        "        print(vencidos)\n",
        "        df['Lista de Vencidos'][c]=df['Lista de Vencidos'][c]+(\" | \")\n",
        "        df['Lista de Vencidos'][c]=df['Lista de Vencidos'][c]+(ministro)\n",
        "        print(ministro,' vencido no Acórdão ',df[titulo][c],'Indice: ',c)\n",
        "        cont_derrotas+=1 \n",
        "        if ('ELATOR' in vencidos or 'ELATORA' in vencidos) and df[relator][c]!=-1 and relator in vencidos:\n",
        "          df['Informacoes'][c] = df['Informacoes'][c] + 'Conferir voto do Relator: ' + relator  \n",
        "          print('PODE HAVER ERRO NO VOTO DO RELATOR: ',ministro)"
      ],
      "metadata": {
        "id": "3e2Lh7dSskki",
        "colab": {
          "base_uri": "https://localhost:8080/"
        },
        "outputId": "53580d25-2c57-49b9-83f6-4e078164e865"
      },
      "execution_count": null,
      "outputs": [
        {
          "output_type": "stream",
          "name": "stdout",
          "text": [
            "--------------------------------------------------------------------------------------------------------------------------------------------------------------------------------------------------------\n",
            "NUNES MARQUES\n",
            "\n",
            "\n",
            "--------------------------------------------------------------------------------------------------------------------------------------------------------------------------------------------------------\n",
            "ANDRÉ MENDONÇA\n",
            "\n",
            "\n",
            "--------------------------------------------------------------------------------------------------------------------------------------------------------------------------------------------------------\n",
            "ALEXANDRE DE MORAES\n",
            "\n",
            "\n",
            "--------------------------------------------------------------------------------------------------------------------------------------------------------------------------------------------------------\n",
            "DIAS TOFFOLI\n",
            "\n",
            "\n",
            " DOS SENHORES MINISTROS DIAS TOFFOLI, QUE A JULGAVA PARCIALMENTE PROCEDENTE; GILMAR MENDES, QUE A JULGAVA TOTALMENTE PROCEDENTE, E CELSO DE MELLO E CEZAR PELUSO (PRESIDENTE), QUE A JULGAVAM PARCIALMENTE PROCEDENTE EM EXTENSÕES DIFERENTES\n",
            "DIAS TOFFOLI  vencido no Acórdão  ADI 4578 Indice:  1875\n",
            "--------------------------------------------------------------------------------------------------------------------------------------------------------------------------------------------------------\n",
            "ROBERTO BARROSO\n",
            "\n",
            "\n",
            "--------------------------------------------------------------------------------------------------------------------------------------------------------------------------------------------------------\n",
            "EDSON FACHIN\n",
            "\n",
            "\n",
            "--------------------------------------------------------------------------------------------------------------------------------------------------------------------------------------------------------\n",
            "GILMAR MENDES\n",
            "\n",
            "\n",
            " DOS SENHORES MINISTROS DIAS TOFFOLI, QUE A JULGAVA PARCIALMENTE PROCEDENTE; GILMAR MENDES, QUE A JULGAVA TOTALMENTE PROCEDENTE, E CELSO DE MELLO E CEZAR PELUSO (PRESIDENTE), QUE A JULGAVAM PARCIALMENTE PROCEDENTE EM EXTENSÕES DIFERENTES\n",
            "GILMAR MENDES  vencido no Acórdão  ADI 4578 Indice:  1875\n",
            "--------------------------------------------------------------------------------------------------------------------------------------------------------------------------------------------------------\n",
            "CÁRMEN LÚCIA\n",
            "\n",
            "\n",
            " DOS SENHORES MINISTROS MARCO AURÉLIO E CÁRMEN LÚCIA, QUE JULGAVAM TOTALMENTE PROCEDENTE A AÇÃO\n",
            "CÁRMEN LÚCIA  vencido no Acórdão  ADI 374 Indice:  1865\n",
            " DA SENHORA MINISTRA CÁRMEN LÚCIA E DO SENHOR MINISTRO CELSO DE MELLO, QUE A JULGAVAM PROCEDENTE\n",
            "CÁRMEN LÚCIA  vencido no Acórdão  ADI 484 Indice:  1889\n",
            " DOS SENHORES MINISTROS MENEZES DIREITO E CÁRMEN LÚCIA\n",
            "CÁRMEN LÚCIA  vencido no Acórdão  ADI 2872 Indice:  1915\n",
            " DOS SENHORES MINISTROS RICARDO LEWANDOWSKI (RELATOR), CÁRMEN LÚCIA, JOAQUIM BARBOSA E ELLEN GRACIE\n",
            "CÁRMEN LÚCIA  vencido no Acórdão  ADI 4264 MC Indice:  1967\n",
            "PODE HAVER ERRO NO VOTO DO RELATOR:  CÁRMEN LÚCIA\n",
            "--------------------------------------------------------------------------------------------------------------------------------------------------------------------------------------------------------\n",
            "LUIZ FUX\n",
            "\n",
            "\n",
            " DOS SENHORES MINISTROS LUIZ FUX, QUE O FAZIA EM MENOR EXTENSÃO, E AYRES BRITTO, QUE O FAZIA EM MAIOR EXTENSÃO\n",
            "LUIZ FUX  vencido no Acórdão  ADI 4429 Indice:  1878\n",
            "--------------------------------------------------------------------------------------------------------------------------------------------------------------------------------------------------------\n",
            "RICARDO LEWANDOWSKI\n",
            "\n",
            "\n",
            " DOS SENHORES MINISTROS RELATOR, RICARDO LEWANDOWSKI E CELSO DE MELLO\n",
            "RICARDO LEWANDOWSKI  vencido no Acórdão  ADI 4638 MC-Ref Indice:  1877\n",
            " DOS SENHORES MINISTROS JOAQUIM BARBOSA (RELATOR) E RICARDO LEWANDOWSKI\n",
            "RICARDO LEWANDOWSKI  vencido no Acórdão  ADI 4167 Indice:  1947\n",
            "PODE HAVER ERRO NO VOTO DO RELATOR:  RICARDO LEWANDOWSKI\n",
            " DOS SENHORES MINISTROS RICARDO LEWANDOWSKI (RELATOR), CÁRMEN LÚCIA, JOAQUIM BARBOSA E ELLEN GRACIE\n",
            "RICARDO LEWANDOWSKI  vencido no Acórdão  ADI 4264 MC Indice:  1967\n",
            " DOS SENHORES MINISTROS NELSON JOBIM, RICARDO LEWANDOWSKI, JOAQUIM BARBOSA E AYRES BRITTO\n",
            "RICARDO LEWANDOWSKI  vencido no Acórdão  ADI 1648 Indice:  1977\n",
            "--------------------------------------------------------------------------------------------------------------------------------------------------------------------------------------------------------\n",
            "ROSA WEBER\n",
            "\n",
            "\n",
            "--------------------------------------------------------------------------------------------------------------------------------------------------------------------------------------------------------\n",
            "MARCO AURÉLIO\n",
            "\n",
            "\n",
            " DOS SENHORES MINISTROS MARCO AURÉLIO E CÁRMEN LÚCIA, QUE JULGAVAM TOTALMENTE PROCEDENTE A AÇÃO\n",
            "MARCO AURÉLIO  vencido no Acórdão  ADI 374 Indice:  1865\n",
            " DOS SENHORES MINISTROS AYRES BRITTO, MARCO AURÉLIO E CEZAR PELUSO (PRESIDENTE)\n",
            "MARCO AURÉLIO  vencido no Acórdão  ADI 4568 Indice:  1890\n",
            " DOS SENHORES MINISTROS MARCO AURÉLIO E PRESIDENTE, MINISTRO CEZAR PELUSO\n",
            "MARCO AURÉLIO  vencido no Acórdão  ADI 3463 Indice:  1892\n",
            " DOS SENHORES MINISTROS AYRES BRITTO, MARCO AURÉLIO E CELSO DE MELLO\n",
            "MARCO AURÉLIO  vencido no Acórdão  ADI 3138 Indice:  1899\n",
            " DOS SENHORES MINISTROS MARCO AURÉLIO E AYRES BRITTO\n",
            "MARCO AURÉLIO  vencido no Acórdão  ADI 4533 MC Indice:  1903\n",
            "--------------------------------------------------------------------------------------------------------------------------------------------------------------------------------------------------------\n",
            "CELSO DE MELLO\n",
            "\n",
            "\n",
            " DOS SENHORES MINISTROS DIAS TOFFOLI, QUE A JULGAVA PARCIALMENTE PROCEDENTE; GILMAR MENDES, QUE A JULGAVA TOTALMENTE PROCEDENTE, E CELSO DE MELLO E CEZAR PELUSO (PRESIDENTE), QUE A JULGAVAM PARCIALMENTE PROCEDENTE EM EXTENSÕES DIFERENTES\n",
            "CELSO DE MELLO  vencido no Acórdão  ADI 4578 Indice:  1875\n",
            " DOS SENHORES MINISTROS RELATOR, RICARDO LEWANDOWSKI E CELSO DE MELLO\n",
            "CELSO DE MELLO  vencido no Acórdão  ADI 4638 MC-Ref Indice:  1877\n",
            " DA SENHORA MINISTRA CÁRMEN LÚCIA E DO SENHOR MINISTRO CELSO DE MELLO, QUE A JULGAVAM PROCEDENTE\n",
            "CELSO DE MELLO  vencido no Acórdão  ADI 484 Indice:  1889\n",
            " DOS SENHORES MINISTROS AYRES BRITTO, MARCO AURÉLIO E CELSO DE MELLO\n",
            "CELSO DE MELLO  vencido no Acórdão  ADI 3138 Indice:  1899\n",
            "--------------------------------------------------------------------------------------------------------------------------------------------------------------------------------------------------------\n",
            "TEORI ZAVASCKI\n",
            "\n",
            "\n",
            "--------------------------------------------------------------------------------------------------------------------------------------------------------------------------------------------------------\n",
            "JOAQUIM BARBOSA\n",
            "\n",
            "\n",
            " DOS SENHORES MINISTROS AYRES BRITTO E JOAQUIM BARBOSA\n",
            "JOAQUIM BARBOSA  vencido no Acórdão  ADI 4603 MC Indice:  1942\n",
            " DOS SENHORES MINISTROS JOAQUIM BARBOSA (RELATOR) E RICARDO LEWANDOWSKI\n",
            "JOAQUIM BARBOSA  vencido no Acórdão  ADI 4167 Indice:  1947\n",
            " DOS SENHORES MINISTROS RICARDO LEWANDOWSKI (RELATOR), CÁRMEN LÚCIA, JOAQUIM BARBOSA E ELLEN GRACIE\n",
            "JOAQUIM BARBOSA  vencido no Acórdão  ADI 4264 MC Indice:  1967\n",
            " DOS SENHORES MINISTROS NELSON JOBIM, RICARDO LEWANDOWSKI, JOAQUIM BARBOSA E AYRES BRITTO\n",
            "JOAQUIM BARBOSA  vencido no Acórdão  ADI 1648 Indice:  1977\n",
            "--------------------------------------------------------------------------------------------------------------------------------------------------------------------------------------------------------\n",
            "AYRES BRITTO\n",
            "\n",
            "\n",
            " DOS SENHORES MINISTROS LUIZ FUX, QUE O FAZIA EM MENOR EXTENSÃO, E AYRES BRITTO, QUE O FAZIA EM MAIOR EXTENSÃO\n",
            "AYRES BRITTO  vencido no Acórdão  ADI 4429 Indice:  1878\n",
            " DOS SENHORES MINISTROS AYRES BRITTO, MARCO AURÉLIO E CEZAR PELUSO (PRESIDENTE)\n",
            "AYRES BRITTO  vencido no Acórdão  ADI 4568 Indice:  1890\n",
            " DOS SENHORES MINISTROS AYRES BRITTO, MARCO AURÉLIO E CELSO DE MELLO\n",
            "AYRES BRITTO  vencido no Acórdão  ADI 3138 Indice:  1899\n",
            " DOS SENHORES MINISTROS MARCO AURÉLIO E AYRES BRITTO\n",
            "AYRES BRITTO  vencido no Acórdão  ADI 4533 MC Indice:  1903\n",
            " DOS SENHORES MINISTROS AYRES BRITTO E JOAQUIM BARBOSA\n",
            "AYRES BRITTO  vencido no Acórdão  ADI 4603 MC Indice:  1942\n",
            " DOS SENHORES MINISTROS NELSON JOBIM, RICARDO LEWANDOWSKI, JOAQUIM BARBOSA E AYRES BRITTO\n",
            "AYRES BRITTO  vencido no Acórdão  ADI 1648 Indice:  1977\n",
            "--------------------------------------------------------------------------------------------------------------------------------------------------------------------------------------------------------\n",
            "CEZAR PELUSO\n",
            "\n",
            "\n",
            " DOS SENHORES MINISTROS DIAS TOFFOLI, QUE A JULGAVA PARCIALMENTE PROCEDENTE; GILMAR MENDES, QUE A JULGAVA TOTALMENTE PROCEDENTE, E CELSO DE MELLO E CEZAR PELUSO (PRESIDENTE), QUE A JULGAVAM PARCIALMENTE PROCEDENTE EM EXTENSÕES DIFERENTES\n",
            "CEZAR PELUSO  vencido no Acórdão  ADI 4578 Indice:  1875\n",
            " DOS SENHORES MINISTROS AYRES BRITTO, MARCO AURÉLIO E CEZAR PELUSO (PRESIDENTE)\n",
            "CEZAR PELUSO  vencido no Acórdão  ADI 4568 Indice:  1890\n",
            " DOS SENHORES MINISTROS MARCO AURÉLIO E PRESIDENTE, MINISTRO CEZAR PELUSO\n",
            "CEZAR PELUSO  vencido no Acórdão  ADI 3463 Indice:  1892\n",
            "--------------------------------------------------------------------------------------------------------------------------------------------------------------------------------------------------------\n",
            "ELLEN GRACIE\n",
            "\n",
            "\n",
            " DOS SENHORES MINISTROS RICARDO LEWANDOWSKI (RELATOR), CÁRMEN LÚCIA, JOAQUIM BARBOSA E ELLEN GRACIE\n",
            "ELLEN GRACIE  vencido no Acórdão  ADI 4264 MC Indice:  1967\n",
            "--------------------------------------------------------------------------------------------------------------------------------------------------------------------------------------------------------\n",
            "EROS GRAU\n",
            "\n",
            "\n",
            "--------------------------------------------------------------------------------------------------------------------------------------------------------------------------------------------------------\n",
            "MENEZES DIREITO\n",
            "\n",
            "\n",
            " DOS SENHORES MINISTROS MENEZES DIREITO E CÁRMEN LÚCIA\n",
            "MENEZES DIREITO  vencido no Acórdão  ADI 2872 Indice:  1915\n",
            "--------------------------------------------------------------------------------------------------------------------------------------------------------------------------------------------------------\n",
            "SEPÚLVEDA PERTENCE\n",
            "\n",
            "\n",
            "--------------------------------------------------------------------------------------------------------------------------------------------------------------------------------------------------------\n",
            "NELSON JOBIM\n",
            "\n",
            "\n",
            " DOS SENHORES MINISTROS NELSON JOBIM, RICARDO LEWANDOWSKI, JOAQUIM BARBOSA E AYRES BRITTO\n",
            "NELSON JOBIM  vencido no Acórdão  ADI 1648 Indice:  1977\n",
            "--------------------------------------------------------------------------------------------------------------------------------------------------------------------------------------------------------\n",
            "CARLOS VELLOSO\n",
            "\n",
            "\n",
            "--------------------------------------------------------------------------------------------------------------------------------------------------------------------------------------------------------\n",
            "MAURÍCIO CORRÊA\n",
            "\n",
            "\n",
            "--------------------------------------------------------------------------------------------------------------------------------------------------------------------------------------------------------\n",
            "ILMAR GALVÃO\n",
            "\n",
            "\n",
            "--------------------------------------------------------------------------------------------------------------------------------------------------------------------------------------------------------\n",
            "SYDNEY SANCHES\n",
            "\n",
            "\n",
            "--------------------------------------------------------------------------------------------------------------------------------------------------------------------------------------------------------\n",
            "MOREIRA ALVES\n",
            "\n",
            "\n",
            "--------------------------------------------------------------------------------------------------------------------------------------------------------------------------------------------------------\n",
            "NÉRI DA SILVEIRA\n",
            "\n",
            "\n",
            "--------------------------------------------------------------------------------------------------------------------------------------------------------------------------------------------------------\n",
            "OCTAVIO GALLOTTI\n",
            "\n",
            "\n",
            "--------------------------------------------------------------------------------------------------------------------------------------------------------------------------------------------------------\n",
            "FRANCISCO REZEK\n",
            "\n",
            "\n"
          ]
        }
      ]
    },
    {
      "cell_type": "code",
      "execution_count": null,
      "metadata": {
        "id": "E56J5wDSWDxP"
      },
      "outputs": [],
      "source": [
        "# Derrotados apontados pela expressão vencido(a)(s)\n",
        "for m in range(0,len(df2)):\n",
        "  ministro = (df2['Ministro nome'][m])\n",
        "  vencidos=\"\"\n",
        "  #print('-'*200)\n",
        "  #print(ministro)\n",
        "  #print('')\n",
        "  #print('') \n",
        "  \n",
        "  for c in range(0,len(df)):\n",
        "    if df['Unanimidade'][c] == 'Não':              \n",
        "      venc1=df['Pleito Analisado'][c].split(\"ENCID\")\n",
        "      venc2=venc1[-1]\n",
        "      venc3=venc2.split(\".\")\n",
        "      vencidos=venc3[0]\n",
        "      #print('Captura: ',venc2)\n",
        "      #vencidos=(venc4.replace(\" \", \"_\"))\n",
        "      if ministro in vencidos and df[ministro][c] != -1:\n",
        "        relator = df['Relator'][c]\n",
        "        df[ministro][c]=-1\n",
        "        df['Lista de Vencidos'][c]=df['Lista de Vencidos'][c]+(\" | \")\n",
        "        df['Lista de Vencidos'][c]=df['Lista de Vencidos'][c]+(ministro)\n",
        "        #print(ministro,' vencido no Acórdão ',df[titulo][c],'Indice: ',c)\n",
        "        cont_derrotas+=1\n",
        "        if ('ELATOR' in vencidos or 'ELATORA' in vencidos) and df[relator][c]!=-1 and relator in vencidos:\n",
        "          df['Informacoes'][c] = df['Informacoes'][c] + 'Conferir voto do Relator: ' + relator  \n",
        "          #print('*'*200)\n",
        "          #print('PODE HAVER ERRO NO VOTO DO RELATOR: ',ministro)  \n",
        "          #print(df[titulo][c])\n",
        "          #print('')\n",
        "          #print('')            "
      ]
    },
    {
      "cell_type": "markdown",
      "metadata": {
        "id": "ZYJs_PD6UqKQ"
      },
      "source": [
        "**Zerando votos de impedidos**"
      ]
    },
    {
      "cell_type": "code",
      "execution_count": null,
      "metadata": {
        "id": "UzmKrLmKUoVI"
      },
      "outputs": [],
      "source": [
        "cont_imp=0\n",
        "linhas.append(\"      \")\n",
        "linhas.append(\"Relação de Impedidos\")\n",
        "for m in range(0,len(df2)):\n",
        "  ministro = (df2['Ministro nome'][m])\n",
        "  for c in range(0,len(df)):\n",
        "    if 'IMPEDID' in df['Sentenca'][c]:\n",
        "      imp1=df['Sentenca'][c].split(\"IMPEDID\")\n",
        "      imp2=imp1[-1]\n",
        "      imp3=imp2.split(\".\")\n",
        "      impedidos=imp3[0]\n",
        "      #impedidos=(imp4.replace(\" \", \"_\"))\n",
        "      if ministro in impedidos:\n",
        "        #print('Ausente: ',ministro, ' HC: ',df['HC'][c])\n",
        "        df[ministro][c]=0\n",
        "        df['Impedidos'][c]+=1\n",
        "        df['Não votaram'][c]=df['Não votaram'][c]+' | '+ministro+'(IMP)'\n",
        "        cont_imp+=1\n",
        "        #aviso=(f' | {ministro} em impedimento')\n",
        "        #if aviso not in df['Informacoes'][c]:\n",
        "         # df['Informacoes'][c]=(df['Informacoes'][c]+aviso)       "
      ]
    },
    {
      "cell_type": "code",
      "execution_count": null,
      "metadata": {
        "id": "BD1WPw2PmwJE",
        "colab": {
          "base_uri": "https://localhost:8080/"
        },
        "outputId": "0a694c73-3ba3-4e6e-feba-c7946013f41c"
      },
      "outputs": [
        {
          "output_type": "stream",
          "name": "stdout",
          "text": [
            "Impedimentos:  101\n"
          ]
        }
      ],
      "source": [
        "print('Impedimentos: ',cont_imp)\n",
        "linhas.append(\"      \")\n",
        "linhas.append(\"*******************************\")\n",
        "linhas.append(f'Impedimentos: {cont_imp}')"
      ]
    },
    {
      "cell_type": "markdown",
      "source": [
        "#ESCOLHA 5 - Ação Manual para inclusão de votantes em casos de sucessão dupla"
      ],
      "metadata": {
        "id": "hl500xdfEDRa"
      }
    },
    {
      "cell_type": "code",
      "source": [
        "conta_s=0\n",
        "\n",
        "for c in range(0,len(df)):\n",
        "  texto=df['Sentenca'][c]\n",
        "  if 'SUCED' in texto and 'POR SUA VEZ' in texto:\n",
        "    conta_s+=1\n",
        "\n",
        "print(conta_s)"
      ],
      "metadata": {
        "colab": {
          "base_uri": "https://localhost:8080/"
        },
        "id": "Vn4JR58LEqYy",
        "outputId": "6032ce0b-a239-4a35-ab2a-f7469afa9b0d"
      },
      "execution_count": null,
      "outputs": [
        {
          "output_type": "stream",
          "name": "stdout",
          "text": [
            "0\n"
          ]
        }
      ]
    },
    {
      "cell_type": "code",
      "execution_count": null,
      "metadata": {
        "id": "s4cS5KqrghFb",
        "colab": {
          "base_uri": "https://localhost:8080/"
        },
        "outputId": "9735d04a-42f0-4d79-cd25-8cf35e6c7145"
      },
      "outputs": [
        {
          "output_type": "stream",
          "name": "stdout",
          "text": [
            "Ausente por sucessão:  NUNES MARQUES  Acórdão:  ADI 2435 Indeice:  142\n",
            "*******\n",
            " | NUNES MARQUES não votou (sucessão)\n",
            "Ausente por sucessão:  NUNES MARQUES  Acórdão:  ADI 2798 Indeice:  185\n",
            "*******\n",
            " | NUNES MARQUES não votou (sucessão)\n",
            "Ausente por sucessão:  NUNES MARQUES  Acórdão:  ADI 6406 MC Indeice:  233\n",
            "*******\n",
            " | NUNES MARQUES não votou (sucessão)\n",
            "Ausente por sucessão:  NUNES MARQUES  Acórdão:  ADI 3594 Indeice:  371\n",
            "*******\n",
            " | NUNES MARQUES não votou (sucessão)\n",
            "Ausente por sucessão:  NUNES MARQUES  Acórdão:  ADI 4621 Indeice:  907\n",
            "*******\n",
            " | NUNES MARQUES não votou (sucessão)\n",
            "Ausente por sucessão:  ALEXANDRE DE MORAES  Acórdão:  ADI 3184 Indeice:  537\n",
            "*******\n",
            " | ALEXANDRE DE MORAES não votou (sucessão)\n",
            "Ausente por sucessão:  ALEXANDRE DE MORAES  Acórdão:  ADI 3133 Indeice:  648\n",
            "*******\n",
            " | ALEXANDRE DE MORAES não votou (sucessão)\n",
            "Ausente por sucessão:  ALEXANDRE DE MORAES  Acórdão:  ADI 3396 AgR Indeice:  687\n",
            "*******\n",
            " | ALEXANDRE DE MORAES não votou (sucessão)\n",
            "Ausente por sucessão:  ALEXANDRE DE MORAES  Acórdão:  ADI 3239 Indeice:  1554\n",
            "*******\n",
            " | ALEXANDRE DE MORAES não votou (sucessão)\n",
            "Ausente por sucessão:  DIAS TOFFOLI  Acórdão:  ADI 3154 Indeice:  246\n",
            "*******\n",
            " | DIAS TOFFOLI não votou (sucessão)\n",
            "Ausente por sucessão:  DIAS TOFFOLI  Acórdão:  ADI 1251 Indeice:  684\n",
            "*******\n",
            " | DIAS TOFFOLI não votou (sucessão)\n",
            "Ausente por sucessão:  DIAS TOFFOLI  Acórdão:  ADI 2314 Indeice:  1611\n",
            "*******\n",
            " | DIAS TOFFOLI não votou (sucessão)\n",
            "Ausente por sucessão:  DIAS TOFFOLI  Acórdão:  ADI 3726 Indeice:  1662\n",
            "*******\n",
            " | DIAS TOFFOLI não votou (sucessão)\n",
            "Ausente por sucessão:  DIAS TOFFOLI  Acórdão:  ADI 1229 MC Indeice:  1685\n",
            "*******\n",
            " | DIAS TOFFOLI não votou (sucessão)\n",
            "Ausente por sucessão:  DIAS TOFFOLI  Acórdão:  ADI 2588 Indeice:  1688\n",
            "*******\n",
            " | DIAS TOFFOLI não votou (sucessão)\n",
            "Ausente por sucessão:  DIAS TOFFOLI  Acórdão:  ADI 2340 Indeice:  1693\n",
            "*******\n",
            " | DIAS TOFFOLI não votou (sucessão)\n",
            "Ausente por sucessão:  DIAS TOFFOLI  Acórdão:  ADI 2669 Indeice:  1847\n",
            "*******\n",
            " | DIAS TOFFOLI não votou (sucessão)\n",
            "Ausente por sucessão:  DIAS TOFFOLI  Acórdão:  ADI 484 Indeice:  1889\n",
            "*******\n",
            " | DIAS TOFFOLI não votou (sucessão)\n",
            "Ausente por sucessão:  DIAS TOFFOLI  Acórdão:  ADI 1648 Indeice:  1977\n",
            "*******\n",
            " | DIAS TOFFOLI não votou (sucessão)\n",
            "Ausente por sucessão:  DIAS TOFFOLI  Acórdão:  ADI 2675 Indeice:  2168\n",
            "*******\n",
            " | DIAS TOFFOLI não votou (sucessão)\n",
            "Ausente por sucessão:  DIAS TOFFOLI  Acórdão:  ADI 2777 Indeice:  2169\n",
            "*******\n",
            " | DIAS TOFFOLI não votou (sucessão)\n",
            "Ausente por sucessão:  ROBERTO BARROSO  Acórdão:  ADI 3396 AgR Indeice:  687\n",
            "*******\n",
            " | ROBERTO BARROSO não votou (sucessão)\n",
            "Ausente por sucessão:  ROBERTO BARROSO  Acórdão:  ADI 2314 Indeice:  1611\n",
            "*******\n",
            " | ROBERTO BARROSO não votou (sucessão)\n",
            "Ausente por sucessão:  ROBERTO BARROSO  Acórdão:  ADI 1923 Indeice:  1626\n",
            "*******\n",
            " | ROBERTO BARROSO não votou (sucessão)\n",
            "Ausente por sucessão:  ROBERTO BARROSO  Acórdão:  ADI 2615 Indeice:  1639\n",
            "*******\n",
            " | ROBERTO BARROSO não votou (sucessão)\n",
            "Ausente por sucessão:  ROBERTO BARROSO  Acórdão:  ADI 3726 Indeice:  1662\n",
            "*******\n",
            " | ROBERTO BARROSO não votou (sucessão)\n",
            "Ausente por sucessão:  ROBERTO BARROSO  Acórdão:  ADI 3357 Indeice:  2081\n",
            "*******\n",
            " | ROBERTO BARROSO não votou (sucessão)\n",
            "Ausente por sucessão:  ROBERTO BARROSO  Acórdão:  ADI 2921 Indeice:  2106\n",
            "*******\n",
            " | ROBERTO BARROSO não votou (sucessão)\n",
            "Ausente por sucessão:  ROBERTO BARROSO  Acórdão:  ADI 2404 Indeice:  2181\n",
            "*******\n",
            " | ROBERTO BARROSO não votou (sucessão)\n",
            "Ausente por sucessão:  EDSON FACHIN  Acórdão:  ADI 1251 Indeice:  684\n",
            "*******\n",
            " | EDSON FACHIN não votou (sucessão)\n",
            "Ausente por sucessão:  EDSON FACHIN  Acórdão:  ADI 2314 Indeice:  1611\n",
            "*******\n",
            " | EDSON FACHIN não votou (sucessão)\n",
            "Ausente por sucessão:  EDSON FACHIN  Acórdão:  ADI 2777 Indeice:  2169\n",
            "*******\n",
            " | EDSON FACHIN não votou (sucessão)\n",
            "Ausente por sucessão:  CÁRMEN LÚCIA  Acórdão:  ADI 2588 Indeice:  1688\n",
            "*******\n",
            " | CÁRMEN LÚCIA não votou (sucessão)\n",
            "Ausente por sucessão:  CÁRMEN LÚCIA  Acórdão:  ADI 2077 MC Indeice:  1692\n",
            "*******\n",
            " | CÁRMEN LÚCIA não votou (sucessão)\n",
            "Voto antes de aposentadoria (por isso o sucessor não pôde votar):  CÁRMEN LÚCIA  Acórdão:  ADI 2669 Indice:  1847\n",
            "*******\n",
            "Ausente por sucessão:  CÁRMEN LÚCIA  Acórdão:  ADI 1648 Indeice:  1977\n",
            "*******\n",
            " | CÁRMEN LÚCIA não votou (sucessão)\n",
            "Ausente por sucessão:  CÁRMEN LÚCIA  Acórdão:  ADI 2675 Indeice:  2168\n",
            "*******\n",
            " | CÁRMEN LÚCIA não votou (sucessão)\n",
            "Ausente por sucessão:  CÁRMEN LÚCIA  Acórdão:  ADI 2777 Indeice:  2169\n",
            "*******\n",
            " | CÁRMEN LÚCIA não votou (sucessão)\n",
            "Ausente por sucessão:  LUIZ FUX  Acórdão:  ADI 2314 Indeice:  1611\n",
            "*******\n",
            " | LUIZ FUX não votou (sucessão)\n",
            "Ausente por sucessão:  LUIZ FUX  Acórdão:  ADI 2615 Indeice:  1639\n",
            "*******\n",
            " | LUIZ FUX não votou (sucessão)\n",
            "Ausente por sucessão:  LUIZ FUX  Acórdão:  ADI 3726 Indeice:  1662\n",
            "*******\n",
            " | LUIZ FUX não votou (sucessão)\n",
            "Ausente por sucessão:  LUIZ FUX  Acórdão:  ADI 2729 Indeice:  1669\n",
            "*******\n",
            " | LUIZ FUX não votou (sucessão)\n",
            "Ausente por sucessão:  LUIZ FUX  Acórdão:  ADI 1229 MC Indeice:  1685\n",
            "*******\n",
            " | LUIZ FUX não votou (sucessão)\n",
            "Ausente por sucessão:  LUIZ FUX  Acórdão:  ADI 2588 Indeice:  1688\n",
            "*******\n",
            " | LUIZ FUX não votou (sucessão)\n",
            "Ausente por sucessão:  LUIZ FUX  Acórdão:  ADI 2077 MC Indeice:  1692\n",
            "*******\n",
            " | LUIZ FUX não votou (sucessão)\n",
            "Ausente por sucessão:  LUIZ FUX  Acórdão:  ADI 2340 Indeice:  1693\n",
            "*******\n",
            " | LUIZ FUX não votou (sucessão)\n",
            "Ausente por sucessão:  LUIZ FUX  Acórdão:  ADI 2886 Indeice:  1824\n",
            "*******\n",
            " | LUIZ FUX não votou (sucessão)\n",
            "Ausente por sucessão:  LUIZ FUX  Acórdão:  ADI 484 Indeice:  1889\n",
            "*******\n",
            " | LUIZ FUX não votou (sucessão)\n",
            "Ausente por sucessão:  LUIZ FUX  Acórdão:  ADI 3356 Indeice:  2079\n",
            "*******\n",
            " | LUIZ FUX não votou (sucessão)\n",
            "Ausente por sucessão:  LUIZ FUX  Acórdão:  ADI 2675 Indeice:  2168\n",
            "*******\n",
            " | LUIZ FUX não votou (sucessão)\n",
            "Ausente por sucessão:  LUIZ FUX  Acórdão:  ADI 2777 Indeice:  2169\n",
            "*******\n",
            " | LUIZ FUX não votou (sucessão)\n",
            "Ausente por sucessão:  RICARDO LEWANDOWSKI  Acórdão:  ADI 2314 Indeice:  1611\n",
            "*******\n",
            " | RICARDO LEWANDOWSKI não votou (sucessão)\n",
            "Ausente por sucessão:  RICARDO LEWANDOWSKI  Acórdão:  ADI 2615 Indeice:  1639\n",
            "*******\n",
            " | RICARDO LEWANDOWSKI não votou (sucessão)\n",
            "Ausente por sucessão:  RICARDO LEWANDOWSKI  Acórdão:  ADI 2729 Indeice:  1669\n",
            "*******\n",
            " | RICARDO LEWANDOWSKI não votou (sucessão)\n",
            "Ausente por sucessão:  RICARDO LEWANDOWSKI  Acórdão:  ADI 1229 MC Indeice:  1685\n",
            "*******\n",
            " | RICARDO LEWANDOWSKI não votou (sucessão)\n",
            "Ausente por sucessão:  RICARDO LEWANDOWSKI  Acórdão:  ADI 1491 MC Indeice:  1820\n",
            "*******\n",
            " | RICARDO LEWANDOWSKI não votou (sucessão)\n",
            "Ausente por sucessão:  RICARDO LEWANDOWSKI  Acórdão:  ADI 2886 Indeice:  1824\n",
            "*******\n",
            " | RICARDO LEWANDOWSKI não votou (sucessão)\n",
            "Ausente por sucessão:  RICARDO LEWANDOWSKI  Acórdão:  ADI 2675 Indeice:  2168\n",
            "*******\n",
            " | RICARDO LEWANDOWSKI não votou (sucessão)\n",
            "Ausente por sucessão:  ROSA WEBER  Acórdão:  ADI 4281 Indeice:  197\n",
            "*******\n",
            " | ROSA WEBER não votou (sucessão)\n",
            "Ausente por sucessão:  ROSA WEBER  Acórdão:  ADI 1251 Indeice:  684\n",
            "*******\n",
            " | ROSA WEBER não votou (sucessão)\n",
            "Ausente por sucessão:  ROSA WEBER  Acórdão:  ADI 2314 Indeice:  1611\n",
            "*******\n",
            " | ROSA WEBER não votou (sucessão)\n",
            "Ausente por sucessão:  ROSA WEBER  Acórdão:  ADI 4171 Indeice:  1622\n",
            "*******\n",
            " | ROSA WEBER não votou (sucessão)\n",
            "Ausente por sucessão:  ROSA WEBER  Acórdão:  ADI 3726 Indeice:  1662\n",
            "*******\n",
            " | ROSA WEBER não votou (sucessão)\n",
            "Ausente por sucessão:  ROSA WEBER  Acórdão:  ADI 2588 Indeice:  1688\n",
            "*******\n",
            " | ROSA WEBER não votou (sucessão)\n",
            "Ausente por sucessão:  ROSA WEBER  Acórdão:  ADI 2675 Indeice:  2168\n",
            "*******\n",
            " | ROSA WEBER não votou (sucessão)\n",
            "Ausente por sucessão:  ROSA WEBER  Acórdão:  ADI 2777 Indeice:  2169\n",
            "*******\n",
            " | ROSA WEBER não votou (sucessão)\n",
            "Voto antes de aposentadoria (por isso o sucessor não pôde votar):  CELSO DE MELLO  Acórdão:  ADI 2435 Indice:  142\n",
            "*******\n",
            "Voto antes de aposentadoria (por isso o sucessor não pôde votar):  CELSO DE MELLO  Acórdão:  ADI 2798 Indice:  185\n",
            "*******\n",
            "Voto antes de aposentadoria (por isso o sucessor não pôde votar):  CELSO DE MELLO  Acórdão:  ADI 6406 MC Indice:  233\n",
            "*******\n",
            "Voto antes de aposentadoria (por isso o sucessor não pôde votar):  CELSO DE MELLO  Acórdão:  ADI 3594 Indice:  371\n",
            "*******\n",
            "Voto antes de aposentadoria (por isso o sucessor não pôde votar):  CELSO DE MELLO  Acórdão:  ADI 4621 Indice:  907\n",
            "*******\n",
            "Voto antes de aposentadoria (por isso o sucessor não pôde votar):  TEORI ZAVASCKI  Acórdão:  ADI 3239 Indice:  1554\n",
            "*******\n",
            "Ausente por sucessão:  TEORI ZAVASCKI  Acórdão:  ADI 2314 Indeice:  1611\n",
            "*******\n",
            " | TEORI ZAVASCKI não votou (sucessão)\n",
            "Ausente por sucessão:  TEORI ZAVASCKI  Acórdão:  ADI 2615 Indeice:  1639\n",
            "*******\n",
            " | TEORI ZAVASCKI não votou (sucessão)\n",
            "Ausente por sucessão:  TEORI ZAVASCKI  Acórdão:  ADI 3477 Indeice:  1642\n",
            "*******\n",
            " | TEORI ZAVASCKI não votou (sucessão)\n",
            "Ausente por sucessão:  TEORI ZAVASCKI  Acórdão:  ADI 3726 Indeice:  1662\n",
            "*******\n",
            " | TEORI ZAVASCKI não votou (sucessão)\n",
            "Ausente por sucessão:  TEORI ZAVASCKI  Acórdão:  ADI 2588 Indeice:  1688\n",
            "*******\n",
            " | TEORI ZAVASCKI não votou (sucessão)\n",
            "Ausente por sucessão:  TEORI ZAVASCKI  Acórdão:  ADI 2675 Indeice:  2168\n",
            "*******\n",
            " | TEORI ZAVASCKI não votou (sucessão)\n",
            "Ausente por sucessão:  TEORI ZAVASCKI  Acórdão:  ADI 2777 Indeice:  2169\n",
            "*******\n",
            " | TEORI ZAVASCKI não votou (sucessão)\n",
            "Voto antes de aposentadoria (por isso o sucessor não pôde votar):  JOAQUIM BARBOSA  Acórdão:  ADI 1251 Indice:  684\n",
            "*******\n",
            "Voto antes de aposentadoria (por isso o sucessor não pôde votar):  JOAQUIM BARBOSA  Acórdão:  ADI 2314 Indice:  1611\n",
            "*******\n",
            "Já tinha registrado\n",
            "Voto antes de aposentadoria (por isso o sucessor não pôde votar):  JOAQUIM BARBOSA  Acórdão:  ADI 2675 Indice:  2168\n",
            "*******\n",
            "Voto antes de aposentadoria (por isso o sucessor não pôde votar):  JOAQUIM BARBOSA  Acórdão:  ADI 2777 Indice:  2169\n",
            "*******\n",
            "Voto antes de aposentadoria (por isso o sucessor não pôde votar):  AYRES BRITTO  Acórdão:  ADI 3396 AgR Indice:  687\n",
            "*******\n",
            "Já tinha registrado\n",
            "Voto antes de aposentadoria (por isso o sucessor não pôde votar):  AYRES BRITTO  Acórdão:  ADI 1923 Indice:  1626\n",
            "*******\n",
            "Já tinha registrado\n",
            "Voto antes de aposentadoria (por isso o sucessor não pôde votar):  AYRES BRITTO  Acórdão:  ADI 2615 Indice:  1639\n",
            "*******\n",
            "Já tinha registrado\n",
            "Voto antes de aposentadoria (por isso o sucessor não pôde votar):  AYRES BRITTO  Acórdão:  ADI 3726 Indice:  1662\n",
            "*******\n",
            "Voto antes de aposentadoria (por isso o sucessor não pôde votar):  AYRES BRITTO  Acórdão:  ADI 3357 Indice:  2081\n",
            "*******\n",
            "Voto antes de aposentadoria (por isso o sucessor não pôde votar):  AYRES BRITTO  Acórdão:  ADI 2921 Indice:  2106\n",
            "*******\n",
            "Voto antes de aposentadoria (por isso o sucessor não pôde votar):  AYRES BRITTO  Acórdão:  ADI 2404 Indice:  2181\n",
            "*******\n",
            "Voto antes de aposentadoria (por isso o sucessor não pôde votar):  CEZAR PELUSO  Acórdão:  ADI 3184 Indice:  537\n",
            "*******\n",
            "Já tinha registrado\n",
            "Voto antes de aposentadoria (por isso o sucessor não pôde votar):  CEZAR PELUSO  Acórdão:  ADI 3133 Indice:  648\n",
            "*******\n",
            "Voto antes de aposentadoria (por isso o sucessor não pôde votar):  CEZAR PELUSO  Acórdão:  ADI 3396 AgR Indice:  687\n",
            "*******\n",
            "Voto antes de aposentadoria (por isso o sucessor não pôde votar):  CEZAR PELUSO  Acórdão:  ADI 2314 Indice:  1611\n",
            "*******\n",
            "Voto antes de aposentadoria (por isso o sucessor não pôde votar):  CEZAR PELUSO  Acórdão:  ADI 2615 Indice:  1639\n",
            "*******\n",
            "Voto antes de aposentadoria (por isso o sucessor não pôde votar):  CEZAR PELUSO  Acórdão:  ADI 3477 Indice:  1642\n",
            "*******\n",
            "Já tinha registrado\n",
            "Voto antes de aposentadoria (por isso o sucessor não pôde votar):  CEZAR PELUSO  Acórdão:  ADI 3726 Indice:  1662\n",
            "*******\n",
            "Voto antes de aposentadoria (por isso o sucessor não pôde votar):  CEZAR PELUSO  Acórdão:  ADI 2675 Indice:  2168\n",
            "*******\n",
            "Voto antes de aposentadoria (por isso o sucessor não pôde votar):  CEZAR PELUSO  Acórdão:  ADI 2777 Indice:  2169\n",
            "*******\n",
            "Voto antes de aposentadoria (por isso o sucessor não pôde votar):  ELLEN GRACIE  Acórdão:  ADI 4281 Indice:  197\n",
            "*******\n",
            "Voto antes de aposentadoria (por isso o sucessor não pôde votar):  ELLEN GRACIE  Acórdão:  ADI 1251 Indice:  684\n",
            "*******\n",
            "Voto antes de aposentadoria (por isso o sucessor não pôde votar):  ELLEN GRACIE  Acórdão:  ADI 2314 Indice:  1611\n",
            "*******\n",
            "Já tinha registrado\n",
            "Voto antes de aposentadoria (por isso o sucessor não pôde votar):  ELLEN GRACIE  Acórdão:  ADI 4171 Indice:  1622\n",
            "*******\n",
            "Voto antes de aposentadoria (por isso o sucessor não pôde votar):  ELLEN GRACIE  Acórdão:  ADI 3726 Indice:  1662\n",
            "*******\n",
            "Voto antes de aposentadoria (por isso o sucessor não pôde votar):  ELLEN GRACIE  Acórdão:  ADI 2675 Indice:  2168\n",
            "*******\n",
            "Já tinha registrado\n",
            "Voto antes de aposentadoria (por isso o sucessor não pôde votar):  ELLEN GRACIE  Acórdão:  ADI 2777 Indice:  2169\n",
            "*******\n",
            "Já tinha registrado\n",
            "Voto antes de aposentadoria (por isso o sucessor não pôde votar):  EROS GRAU  Acórdão:  ADI 2314 Indice:  1611\n",
            "*******\n",
            "Já tinha registrado\n",
            "Voto antes de aposentadoria (por isso o sucessor não pôde votar):  EROS GRAU  Acórdão:  ADI 2615 Indice:  1639\n",
            "*******\n",
            "Voto antes de aposentadoria (por isso o sucessor não pôde votar):  EROS GRAU  Acórdão:  ADI 3726 Indice:  1662\n",
            "*******\n",
            "Voto antes de aposentadoria (por isso o sucessor não pôde votar):  EROS GRAU  Acórdão:  ADI 2729 Indice:  1669\n",
            "*******\n",
            "Voto antes de aposentadoria (por isso o sucessor não pôde votar):  EROS GRAU  Acórdão:  ADI 2077 MC Indice:  1692\n",
            "*******\n",
            "Voto antes de aposentadoria (por isso o sucessor não pôde votar):  EROS GRAU  Acórdão:  ADI 2340 Indice:  1693\n",
            "*******\n",
            "Voto antes de aposentadoria (por isso o sucessor não pôde votar):  EROS GRAU  Acórdão:  ADI 2886 Indice:  1824\n",
            "*******\n",
            "Voto antes de aposentadoria (por isso o sucessor não pôde votar):  EROS GRAU  Acórdão:  ADI 484 Indice:  1889\n",
            "*******\n",
            "Voto antes de aposentadoria (por isso o sucessor não pôde votar):  EROS GRAU  Acórdão:  ADI 3356 Indice:  2079\n",
            "*******\n",
            "Já tinha registrado\n",
            "Voto antes de aposentadoria (por isso o sucessor não pôde votar):  EROS GRAU  Acórdão:  ADI 2675 Indice:  2168\n",
            "*******\n",
            "Já tinha registrado\n",
            "Voto antes de aposentadoria (por isso o sucessor não pôde votar):  EROS GRAU  Acórdão:  ADI 2777 Indice:  2169\n",
            "*******\n",
            "Já tinha registrado\n",
            "Voto antes de aposentadoria (por isso o sucessor não pôde votar):  MENEZES DIREITO  Acórdão:  ADI 3154 Indice:  246\n",
            "*******\n",
            "Voto antes de aposentadoria (por isso o sucessor não pôde votar):  MENEZES DIREITO  Acórdão:  ADI 1251 Indice:  684\n",
            "*******\n",
            "Voto antes de aposentadoria (por isso o sucessor não pôde votar):  MENEZES DIREITO  Acórdão:  ADI 2314 Indice:  1611\n",
            "*******\n",
            "Voto antes de aposentadoria (por isso o sucessor não pôde votar):  MENEZES DIREITO  Acórdão:  ADI 3726 Indice:  1662\n",
            "*******\n",
            "Voto antes de aposentadoria (por isso o sucessor não pôde votar):  MENEZES DIREITO  Acórdão:  ADI 2340 Indice:  1693\n",
            "*******\n",
            "Voto antes de aposentadoria (por isso o sucessor não pôde votar):  MENEZES DIREITO  Acórdão:  ADI 2669 Indice:  1847\n",
            "*******\n",
            "Voto antes de aposentadoria (por isso o sucessor não pôde votar):  MENEZES DIREITO  Acórdão:  ADI 484 Indice:  1889\n",
            "*******\n",
            "Voto antes de aposentadoria (por isso o sucessor não pôde votar):  MENEZES DIREITO  Acórdão:  ADI 1648 Indice:  1977\n",
            "*******\n",
            "Voto antes de aposentadoria (por isso o sucessor não pôde votar):  SEPÚLVEDA PERTENCE  Acórdão:  ADI 2669 Indice:  1847\n",
            "*******\n",
            "Já tinha registrado\n",
            "Voto antes de aposentadoria (por isso o sucessor não pôde votar):  SEPÚLVEDA PERTENCE  Acórdão:  ADI 2675 Indice:  2168\n",
            "*******\n",
            "Já tinha registrado\n",
            "Voto antes de aposentadoria (por isso o sucessor não pôde votar):  SEPÚLVEDA PERTENCE  Acórdão:  ADI 2777 Indice:  2169\n",
            "*******\n",
            "Já tinha registrado\n",
            "Voto antes de aposentadoria (por isso o sucessor não pôde votar):  NELSON JOBIM  Acórdão:  ADI 2077 MC Indice:  1692\n",
            "*******\n",
            "Voto antes de aposentadoria (por isso o sucessor não pôde votar):  NELSON JOBIM  Acórdão:  ADI 1648 Indice:  1977\n",
            "*******\n",
            "Já tinha registrado\n",
            "Voto antes de aposentadoria (por isso o sucessor não pôde votar):  NELSON JOBIM  Acórdão:  ADI 2675 Indice:  2168\n",
            "*******\n",
            "Já tinha registrado\n",
            "Voto antes de aposentadoria (por isso o sucessor não pôde votar):  NELSON JOBIM  Acórdão:  ADI 2777 Indice:  2169\n",
            "*******\n",
            "Já tinha registrado\n",
            "Voto antes de aposentadoria (por isso o sucessor não pôde votar):  CARLOS VELLOSO  Acórdão:  ADI 2314 Indice:  1611\n",
            "*******\n",
            "Já tinha registrado\n",
            "Voto antes de aposentadoria (por isso o sucessor não pôde votar):  CARLOS VELLOSO  Acórdão:  ADI 2615 Indice:  1639\n",
            "*******\n",
            "Voto antes de aposentadoria (por isso o sucessor não pôde votar):  CARLOS VELLOSO  Acórdão:  ADI 2729 Indice:  1669\n",
            "*******\n",
            "Voto antes de aposentadoria (por isso o sucessor não pôde votar):  CARLOS VELLOSO  Acórdão:  ADI 1491 MC Indice:  1820\n",
            "*******\n",
            "Já tinha registrado\n",
            "Voto antes de aposentadoria (por isso o sucessor não pôde votar):  CARLOS VELLOSO  Acórdão:  ADI 2886 Indice:  1824\n",
            "*******\n",
            "Voto antes de aposentadoria (por isso o sucessor não pôde votar):  CARLOS VELLOSO  Acórdão:  ADI 2675 Indice:  2168\n",
            "*******\n"
          ]
        }
      ],
      "source": [
        "#Tratando votações com sucessões\n",
        "\n",
        "for m in range(0,len(df2)):\n",
        "  ministro = (df2['Ministro nome'][m])  \n",
        "  \n",
        "  for c in range(0,len(df)):\n",
        "    texto=df['Sentenca'][c]\n",
        "    if 'SUCED' in texto:      \n",
        "      #Pegar apenas a frase que tem as sucessões = filtro1\n",
        "      filtro1=[sentence + '.' for sentence in texto.split('.') if 'SUCED' in sentence]\n",
        "      #print('1: ',filtro1)\n",
        "      #filtro2 é aconversão da lista para string\n",
        "      filtro2=str(filtro1).strip('[]')\n",
        "      #print('2: ',filtro2)\n",
        "      #filtro3 (nova lista com novo split)\n",
        "      filtro3=filtro2.split(\"SUCED\")\n",
        "      sucessores=filtro3[0]\n",
        "      votantes=filtro3[1]\n",
        "      acordao=df[titulo][c] \n",
        "\n",
        "      if ministro in sucessores:\n",
        "        print('Ausente por sucessão: ',ministro, ' Acórdão: ',df[titulo][c], 'Indeice: ',c)\n",
        "        print('*******')\n",
        "        if ministro not in df['Não votaram'][c]:\n",
        "          df['Não votaram'][c]=df['Não votaram'][c]+' | '+ ministro+'(NV-SUCES)' \n",
        "        if df[ministro][c]==0:\n",
        "          print('Já tinha registrado')\n",
        "        df[ministro][c]=0\n",
        "        aviso=(f' | {ministro} não votou (sucessão)')\n",
        "        print(aviso)\n",
        "        \n",
        "\n",
        "      if ministro in votantes:\n",
        "        print('Voto antes de aposentadoria (por isso o sucessor não pôde votar): ',ministro, ' Acórdão: ',df[titulo][c], 'Indice: ',c)\n",
        "        print('*******')\n",
        "        if df[ministro][c]==1 or df[ministro][c]==-1:\n",
        "          print('Já tinha registrado')\n",
        "        else:\n",
        "          if df[ministro][c]==2 or df[ministro][c]==0:\n",
        "            df[ministro][c]=1\n",
        "            df['Lista de Vencedores'][c]=df['Lista de Vencedores'][c]+' | '+ ministro+'(APOSENTADO)' "
      ]
    },
    {
      "cell_type": "markdown",
      "metadata": {
        "id": "uYSGD8_Daazw"
      },
      "source": [
        "# Tratando ausências"
      ]
    },
    {
      "cell_type": "code",
      "execution_count": null,
      "metadata": {
        "id": "p_aWV7Q-jzYg"
      },
      "outputs": [],
      "source": [
        "cont_aus=0\n",
        "linhas.append(\"      \")\n",
        "linhas.append(\"Relação de Ausentes\")"
      ]
    },
    {
      "cell_type": "code",
      "execution_count": null,
      "metadata": {
        "id": "3orezOnfSn5E"
      },
      "outputs": [],
      "source": [
        "#zerando demais ausentes\n",
        "#lista de ausências que não devem ser contadas (quando ministro falta em um julgamento ou assentada, mas já profiriu voto)\n",
        "\n",
        "vencidos=\"\"\n",
        "nao_ausente=\"\"\n",
        "\n",
        "for m in range(0,len(df2)):\n",
        "  ministro = (df2['Ministro nome'][m])\n",
        "   \n",
        "    \n",
        "  for c in range(0,len(df)):\n",
        "    contar_aus=\"s\"\n",
        "    ##if y==c and ministro =='GILMAR MENDES':\n",
        "      ##print(ministro)\n",
        "      ##print(df[ministro][c])\n",
        "      \n",
        "  #for c in range(1168,1172):\n",
        "    \n",
        "    texto=df['Sentenca'][c]\n",
        "    if 'AUSENTES, NESTA ASSENTADA' in df['Sentenca'][c] or 'AUSENTE, NESTA ASSENTADA' in df['Sentenca'][c] or 'AUSENTE NESTA ASSENTADA' in df['Sentenca'][c] or 'AUSENTES NESTA ASSENTADA' in df['Sentenca'][c]:\n",
        "      #Pegar frase em que aparecem os ausentes na última assentada \n",
        "      filtro_aus=[sentence + '.' for sentence in texto.split('.') if 'NESTA ASSENTADA' in sentence]\n",
        "      #Variável abaixo é a conversão da lista acima para string\n",
        "      filtro_aus2=str(filtro_aus).strip('[]')\n",
        "      if ministro in filtro_aus2:\n",
        "        contar_aus='n'\n",
        "        \n",
        "\n",
        "    if 'AUSENTES, NESTE JULGAMENTO' in df['Sentenca'][c] or 'AUSENTE, NESTE JULGAMENTO' in df['Sentenca'][c] or 'AUSENTE NESTE JULGAMENTO' in df['Sentenca'][c] or 'NESTE JULGAMENTO' in df['Sentenca'][c]:\n",
        "      #Pegar frase em que aparecem os ausentes na última assentada \n",
        "      filtro_aus=[sentence + '.' for sentence in texto.split('.') if 'NESTE JULGAMENTO' in sentence]\n",
        "      #Variável abaixo é a conversão da lista acima para string\n",
        "      filtro_aus2=str(filtro_aus).strip('[]')\n",
        "      if ministro in filtro_aus2:\n",
        "        contar_aus='n'     \n",
        "    \n",
        "    if contar_aus=='s':\n",
        "      if 'AUSENTE' in df['Sentenca'][c] or 'AUSENTES' in df['Sentenca'][c]:                      \n",
        "        aus1=df['Sentenca'][c].split(\"AUSENTE\")        \n",
        "        aus2=aus1[-1]\n",
        "        aus3=aus2.split(\".\")\n",
        "        ausentes=aus3[0]\n",
        "        #ausentes=(aus4.replace(\" \", \"_\"))\n",
        "        \n",
        "        if ministro in ausentes:\n",
        "          ##if y==c and ministro =='GILMAR MENDES':\n",
        "            ##print('Entrou no Filtro Final')\n",
        "            ##print(df[ministro][c])\n",
        "          #print('Ausente: ',ministro, ' HC: ',df['HC'][c])\n",
        "          #print('*******')\n",
        "          df[ministro][c]=0\n",
        "          df['Não votaram'][c]=df['Não votaram'][c]+' | '+ministro +'(AUS)'+ ' | '\n",
        "          df['Ausentes'][c]+=1\n",
        "          #df['Não votaram'][c]=df['Não votaram'][c]+' | '+ministro+'(AUS)'\n",
        "          cont_aus+=1\n",
        "          #aviso=(f' | {ministro} ausente')\n",
        "          #if aviso not in df['Informacoes'][c]:\n",
        "            #df['Informacoes'][c]=(df['Informacoes'][c]+aviso)        \n",
        "\n",
        "      \n"
      ]
    },
    {
      "cell_type": "code",
      "execution_count": null,
      "metadata": {
        "id": "x6aYtjzWH0if",
        "colab": {
          "base_uri": "https://localhost:8080/"
        },
        "outputId": "7ffc86c3-341b-47b4-8beb-2fb4ccc90b0d"
      },
      "outputs": [
        {
          "output_type": "stream",
          "name": "stdout",
          "text": [
            "Total de ausencias:  805\n"
          ]
        }
      ],
      "source": [
        "print('Total de ausencias: ',cont_aus)\n",
        "linhas.append(\"      \")\n",
        "linhas.append(\"*******************************\")\n",
        "linhas.append(f'Ausências: {cont_aus}')"
      ]
    },
    {
      "cell_type": "code",
      "execution_count": null,
      "metadata": {
        "id": "Do_daY7TNYdX",
        "colab": {
          "base_uri": "https://localhost:8080/"
        },
        "outputId": "d1a5fe86-6629-4192-c7f1-13d1248643cb"
      },
      "outputs": [
        {
          "output_type": "stream",
          "name": "stdout",
          "text": [
            "Ausente:  ALEXANDRE DE MORAES  HC:  ADI 5970\n",
            "ADI 5970\n",
            "ALEXANDRE DE MORAES já identificado como vencido\n",
            "Ausente:  DIAS TOFFOLI  HC:  ADI 5870\n",
            "Ausente:  DIAS TOFFOLI  HC:  ADI 6051 ED\n",
            "Ausente:  DIAS TOFFOLI  HC:  ADI 6097\n",
            "Ausente:  DIAS TOFFOLI  HC:  ADI 6275\n",
            "Ausente:  DIAS TOFFOLI  HC:  ADI 2974\n",
            "Ausente:  DIAS TOFFOLI  HC:  ADI 5819 AgR\n",
            "Ausente:  DIAS TOFFOLI  HC:  ADI 5011\n",
            "Ausente:  DIAS TOFFOLI  HC:  ADI 2217\n",
            "Ausente:  DIAS TOFFOLI  HC:  ADI 4389 ED-AgR-ED\n",
            "Ausente:  DIAS TOFFOLI  HC:  ADI 5999 AgR\n",
            "Ausente:  DIAS TOFFOLI  HC:  ADI 3108\n",
            "Ausente:  DIAS TOFFOLI  HC:  ADI 3423\n",
            "Ausente:  DIAS TOFFOLI  HC:  ADI 4729\n",
            "Ausente:  DIAS TOFFOLI  HC:  ADI 5615\n",
            "Ausente:  DIAS TOFFOLI  HC:  ADI 959\n",
            "Ausente:  DIAS TOFFOLI  HC:  ADI 2040\n",
            "Ausente:  DIAS TOFFOLI  HC:  ADI 3951\n",
            "Ausente:  DIAS TOFFOLI  HC:  ADI 6244\n",
            "Ausente:  DIAS TOFFOLI  HC:  ADI 5612\n",
            "Ausente:  DIAS TOFFOLI  HC:  ADI 6234 AgR-ED\n",
            "Ausente:  DIAS TOFFOLI  HC:  ADI 2861\n",
            "Ausente:  DIAS TOFFOLI  HC:  ADI 3782\n",
            "Ausente:  DIAS TOFFOLI  HC:  ADI 5267 ED\n",
            "Ausente:  DIAS TOFFOLI  HC:  ADI 3840\n",
            "Ausente:  DIAS TOFFOLI  HC:  ADI 2680\n",
            "Ausente:  DIAS TOFFOLI  HC:  ADI 2416\n",
            "Ausente:  DIAS TOFFOLI  HC:  ADI 255\n",
            "Ausente:  ROBERTO BARROSO  HC:  ADI 5003\n",
            "Ausente:  ROBERTO BARROSO  HC:  ADI 4941\n",
            "Ausente:  ROBERTO BARROSO  HC:  ADI 4693\n",
            "Ausente:  ROBERTO BARROSO  HC:  ADI 5462\n",
            "Ausente:  ROBERTO BARROSO  HC:  ADI 5140\n",
            "Ausente:  ROBERTO BARROSO  HC:  ADI 5016\n",
            "Ausente:  EDSON FACHIN  HC:  ADI 5367\n",
            "ADI 5367\n",
            "EDSON FACHIN já identificado como vencido\n",
            "Ausente:  EDSON FACHIN  HC:  ADI 6362\n",
            "Ausente:  GILMAR MENDES  HC:  ADI 2530\n",
            "Ausente:  GILMAR MENDES  HC:  ADI 2658\n",
            "Ausente:  GILMAR MENDES  HC:  ADI 3550\n",
            "Ausente:  GILMAR MENDES  HC:  ADI 5803\n",
            "Ausente:  GILMAR MENDES  HC:  ADI 5704\n",
            "Ausente:  GILMAR MENDES  HC:  ADI 5450\n",
            "Ausente:  GILMAR MENDES  HC:  ADI 4758\n",
            "Ausente:  GILMAR MENDES  HC:  ADI 2365\n",
            "Ausente:  GILMAR MENDES  HC:  ADI 4389 ED-AgR\n",
            "Ausente:  GILMAR MENDES  HC:  ADI 4555\n",
            "Ausente:  GILMAR MENDES  HC:  ADI 6053 AgR\n",
            "Ausente:  GILMAR MENDES  HC:  ADI 6077 AgR\n",
            "Ausente:  GILMAR MENDES  HC:  ADI 3713\n",
            "Ausente:  GILMAR MENDES  HC:  ADI 5916\n",
            "Ausente:  GILMAR MENDES  HC:  ADI 5323\n",
            "Ausente:  GILMAR MENDES  HC:  ADI 4908\n",
            "Ausente:  GILMAR MENDES  HC:  ADI 5243\n",
            "Ausente:  GILMAR MENDES  HC:  ADI 4345\n",
            "Ausente:  GILMAR MENDES  HC:  ADI 1246\n",
            "Ausente:  GILMAR MENDES  HC:  ADI 5007\n",
            "Ausente:  GILMAR MENDES  HC:  ADI 3829\n",
            "Ausente:  GILMAR MENDES  HC:  ADI 4633\n",
            "Ausente:  GILMAR MENDES  HC:  ADI 5725\n",
            "Ausente:  GILMAR MENDES  HC:  ADI 3666\n",
            "Ausente:  GILMAR MENDES  HC:  ADI 5593 AgR\n",
            "Ausente:  GILMAR MENDES  HC:  ADI 5158\n",
            "Ausente:  GILMAR MENDES  HC:  ADI 5575\n",
            "Ausente:  GILMAR MENDES  HC:  ADI 4169\n",
            "Ausente:  GILMAR MENDES  HC:  ADI 4601\n",
            "Ausente:  GILMAR MENDES  HC:  ADI 4227 ED\n",
            "Ausente:  GILMAR MENDES  HC:  ADI 5260\n",
            "Ausente:  GILMAR MENDES  HC:  ADI 4693\n",
            "Ausente:  GILMAR MENDES  HC:  ADI 4171 ED\n",
            "Ausente:  GILMAR MENDES  HC:  ADI 5307\n",
            "Ausente:  GILMAR MENDES  HC:  ADI 5462\n",
            "Ausente:  GILMAR MENDES  HC:  ADI 5140\n",
            "Ausente:  GILMAR MENDES  HC:  ADI 5344\n",
            "Ausente:  GILMAR MENDES  HC:  ADI 4382\n",
            "Ausente:  GILMAR MENDES  HC:  ADI 5275\n",
            "Ausente:  GILMAR MENDES  HC:  ADI 5044\n",
            "Ausente:  GILMAR MENDES  HC:  ADI 5016\n",
            "Ausente:  CÁRMEN LÚCIA  HC:  ADI 5277\n",
            "Ausente:  CÁRMEN LÚCIA  HC:  ADI 346\n",
            "Ausente:  CÁRMEN LÚCIA  HC:  ADI 4776\n",
            "Ausente:  CÁRMEN LÚCIA  HC:  ADI 4219 ED\n",
            "Ausente:  CÁRMEN LÚCIA  HC:  ADI 3536\n",
            "Ausente:  CÁRMEN LÚCIA  HC:  ADI 4705\n",
            "Ausente:  CÁRMEN LÚCIA  HC:  ADI 3145\n",
            "Ausente:  CÁRMEN LÚCIA  HC:  ADI 4021\n",
            "Ausente:  CÁRMEN LÚCIA  HC:  ADI 3786\n",
            "Ausente:  CÁRMEN LÚCIA  HC:  ADI 3845\n",
            "Ausente:  CÁRMEN LÚCIA  HC:  ADI 4662 ED\n",
            "Ausente:  CÁRMEN LÚCIA  HC:  ADI 1531\n",
            "Ausente:  CÁRMEN LÚCIA  HC:  ADI 5610\n",
            "Ausente:  CÁRMEN LÚCIA  HC:  ADI 3446\n",
            "Ausente:  CÁRMEN LÚCIA  HC:  ADI 2964\n",
            "Ausente:  CÁRMEN LÚCIA  HC:  ADI 4816\n",
            "Ausente:  CÁRMEN LÚCIA  HC:  ADI 3698\n",
            "Ausente:  CÁRMEN LÚCIA  HC:  ADI 751\n",
            "Ausente:  CÁRMEN LÚCIA  HC:  ADI 5373 MC\n",
            "Ausente:  CÁRMEN LÚCIA  HC:  ADI 5521\n",
            "Ausente:  CÁRMEN LÚCIA  HC:  ADI 3072\n",
            "Ausente:  CÁRMEN LÚCIA  HC:  ADI 5176\n",
            "Ausente:  CÁRMEN LÚCIA  HC:  ADI 4961\n",
            "Ausente:  CÁRMEN LÚCIA  HC:  ADI 1450\n",
            "Ausente:  CÁRMEN LÚCIA  HC:  ADI 1606\n",
            "Ausente:  CÁRMEN LÚCIA  HC:  ADI 5723\n",
            "Ausente:  CÁRMEN LÚCIA  HC:  ADI 1283\n",
            "Ausente:  CÁRMEN LÚCIA  HC:  ADI 5535\n",
            "Ausente:  CÁRMEN LÚCIA  HC:  ADI 5473\n",
            "Ausente:  CÁRMEN LÚCIA  HC:  ADI 5393\n",
            "Ausente:  CÁRMEN LÚCIA  HC:  ADI 4243\n",
            "Ausente:  CÁRMEN LÚCIA  HC:  ADI 255\n",
            "Ausente:  LUIZ FUX  HC:  ADI 4945\n",
            "Ausente:  LUIZ FUX  HC:  ADI 6053 AgR\n",
            "Ausente:  LUIZ FUX  HC:  ADI 6077 AgR\n",
            "Ausente:  LUIZ FUX  HC:  ADI 2964\n",
            "Ausente:  LUIZ FUX  HC:  ADI 4816\n",
            "Ausente:  LUIZ FUX  HC:  ADI 3698\n",
            "Ausente:  LUIZ FUX  HC:  ADI 751\n",
            "Ausente:  LUIZ FUX  HC:  ADI 5521\n",
            "Ausente:  LUIZ FUX  HC:  ADI 3072\n",
            "Ausente:  LUIZ FUX  HC:  ADI 5176\n",
            "Ausente:  LUIZ FUX  HC:  ADI 2416\n",
            "Ausente:  LUIZ FUX  HC:  ADI 255\n",
            "Ausente:  LUIZ FUX  HC:  ADI 6087\n",
            "Ausente:  RICARDO LEWANDOWSKI  HC:  ADI 5450\n",
            "Ausente:  RICARDO LEWANDOWSKI  HC:  ADI 2964\n",
            "Ausente:  RICARDO LEWANDOWSKI  HC:  ADI 4816\n",
            "Ausente:  RICARDO LEWANDOWSKI  HC:  ADI 3698\n",
            "Ausente:  RICARDO LEWANDOWSKI  HC:  ADI 751\n",
            "Ausente:  RICARDO LEWANDOWSKI  HC:  ADI 5373 MC\n",
            "Ausente:  RICARDO LEWANDOWSKI  HC:  ADI 5521\n",
            "Ausente:  RICARDO LEWANDOWSKI  HC:  ADI 3072\n",
            "Ausente:  RICARDO LEWANDOWSKI  HC:  ADI 5176\n",
            "Ausente:  RICARDO LEWANDOWSKI  HC:  ADI 4606\n",
            "Ausente:  RICARDO LEWANDOWSKI  HC:  ADI 5617 ED\n",
            "ADI 5617 ED\n",
            "RICARDO LEWANDOWSKI já identificado como vencido\n",
            "Ausente:  ROSA WEBER  HC:  ADI 3884\n",
            "Ausente:  ROSA WEBER  HC:  ADI 5599\n",
            "Ausente:  ROSA WEBER  HC:  ADI 5757 AgR-ED\n",
            "Ausente:  ROSA WEBER  HC:  ADI 5501\n",
            "Ausente:  ROSA WEBER  HC:  ADI 5145 AgR\n",
            "Ausente:  ROSA WEBER  HC:  ADI 5610\n",
            "Ausente:  ROSA WEBER  HC:  ADI 4348\n",
            "Ausente:  ROSA WEBER  HC:  ADI 2501 ED\n",
            "Ausente:  CELSO DE MELLO  HC:  ADI 6233\n",
            "Ausente:  CELSO DE MELLO  HC:  ADI 5483\n",
            "Ausente:  CELSO DE MELLO  HC:  ADI 3336\n",
            "Ausente:  CELSO DE MELLO  HC:  ADI 5856\n",
            "Ausente:  CELSO DE MELLO  HC:  ADI 4740\n",
            "Ausente:  CELSO DE MELLO  HC:  ADI 4178\n",
            "Ausente:  CELSO DE MELLO  HC:  ADI 6112 AgR\n",
            "Ausente:  CELSO DE MELLO  HC:  ADI 1926\n",
            "Ausente:  CELSO DE MELLO  HC:  ADI 3199\n",
            "Ausente:  CELSO DE MELLO  HC:  ADI 4818\n",
            "Ausente:  CELSO DE MELLO  HC:  ADI 3931\n",
            "Ausente:  CELSO DE MELLO  HC:  ADI 1764\n",
            "Ausente:  CELSO DE MELLO  HC:  ADI 6068\n",
            "Ausente:  CELSO DE MELLO  HC:  ADI 5250\n",
            "Ausente:  CELSO DE MELLO  HC:  ADI 5391\n",
            "Ausente:  CELSO DE MELLO  HC:  ADI 5099\n",
            "Ausente:  CELSO DE MELLO  HC:  ADI 3150 ED\n",
            "Ausente:  CELSO DE MELLO  HC:  ADI 6025\n",
            "Ausente:  CELSO DE MELLO  HC:  ADI 6234 AgR\n",
            "Ausente:  CELSO DE MELLO  HC:  ADI 5475\n",
            "Ausente:  CELSO DE MELLO  HC:  ADI 5922 AgR\n",
            "Ausente:  CELSO DE MELLO  HC:  ADI 5817\n",
            "Ausente:  CELSO DE MELLO  HC:  ADI 3775\n",
            "Ausente:  CELSO DE MELLO  HC:  ADI 6222\n",
            "Ausente:  CELSO DE MELLO  HC:  ADI 5480\n",
            "Ausente:  CELSO DE MELLO  HC:  ADI 3760\n",
            "Ausente:  CELSO DE MELLO  HC:  ADI 4673\n",
            "Ausente:  CELSO DE MELLO  HC:  ADI 1825\n",
            "Ausente:  CELSO DE MELLO  HC:  ADI 3996\n",
            "Ausente:  CELSO DE MELLO  HC:  ADI 3948\n",
            "Ausente:  CELSO DE MELLO  HC:  ADI 3536 ED\n",
            "Ausente:  CELSO DE MELLO  HC:  ADI 5856 ED\n",
            "Ausente:  CELSO DE MELLO  HC:  ADI 5747\n",
            "Ausente:  CELSO DE MELLO  HC:  ADI 3961\n",
            "Ausente:  CELSO DE MELLO  HC:  ADI 6314 AgR\n",
            "Ausente:  CELSO DE MELLO  HC:  ADI 5456\n",
            "Ausente:  CELSO DE MELLO  HC:  ADI 3981\n",
            "Ausente:  CELSO DE MELLO  HC:  ADI 5267\n",
            "Ausente:  CELSO DE MELLO  HC:  ADI 4883\n",
            "Ausente:  CELSO DE MELLO  HC:  ADI 3395\n",
            "Ausente:  CELSO DE MELLO  HC:  ADI 4221\n",
            "Ausente:  CELSO DE MELLO  HC:  ADI 5996\n",
            "Ausente:  CELSO DE MELLO  HC:  ADI 5029\n",
            "Ausente:  CELSO DE MELLO  HC:  ADI 5505\n",
            "Ausente:  CELSO DE MELLO  HC:  ADI 3579\n",
            "Ausente:  CELSO DE MELLO  HC:  ADI 3921\n",
            "Ausente:  CELSO DE MELLO  HC:  ADI 5750 ED-AgR\n",
            "Ausente:  CELSO DE MELLO  HC:  ADI 5484\n",
            "Ausente:  CELSO DE MELLO  HC:  ADI 5735 ED\n",
            "Ausente:  CELSO DE MELLO  HC:  ADI 4883 ED\n",
            "Ausente:  CELSO DE MELLO  HC:  ADI 5454\n",
            "Ausente:  CELSO DE MELLO  HC:  ADI 5735 ED-segundos\n",
            "Ausente:  CELSO DE MELLO  HC:  ADI 6233 ED\n",
            "Ausente:  CELSO DE MELLO  HC:  ADI 3395 ED\n",
            "Ausente:  CELSO DE MELLO  HC:  ADI 5041 ED\n",
            "Ausente:  CELSO DE MELLO  HC:  ADI 6253 AgR\n",
            "Ausente:  CELSO DE MELLO  HC:  ADI 5041 ED-segundos\n",
            "Ausente:  CELSO DE MELLO  HC:  ADI 5452\n",
            "Ausente:  CELSO DE MELLO  HC:  ADI 2908 ED\n",
            "Ausente:  CELSO DE MELLO  HC:  ADI 5416\n",
            "Ausente:  CELSO DE MELLO  HC:  ADI 2923\n",
            "Ausente:  CELSO DE MELLO  HC:  ADI 6327 MC-Ref\n",
            "Ausente:  CELSO DE MELLO  HC:  ADI 6068 ED\n",
            "Ausente:  CELSO DE MELLO  HC:  ADI 6190\n",
            "Ausente:  CELSO DE MELLO  HC:  ADI 2914\n",
            "Ausente:  CELSO DE MELLO  HC:  ADI 5547\n",
            "Ausente:  CELSO DE MELLO  HC:  ADI 2916\n",
            "Ausente:  CELSO DE MELLO  HC:  ADI 5951 ED\n",
            "Ausente:  CELSO DE MELLO  HC:  ADI 6051\n",
            "Ausente:  CELSO DE MELLO  HC:  ADI 5960\n",
            "Ausente:  CELSO DE MELLO  HC:  ADI 6073\n",
            "Ausente:  CELSO DE MELLO  HC:  ADI 5221\n",
            "Ausente:  CELSO DE MELLO  HC:  ADI 5685 ED\n",
            "Ausente:  CELSO DE MELLO  HC:  ADI 4480\n",
            "Ausente:  CELSO DE MELLO  HC:  ADI 5594\n",
            "Ausente:  CELSO DE MELLO  HC:  ADI 6031\n",
            "Ausente:  CELSO DE MELLO  HC:  ADI 3042\n",
            "Ausente:  CELSO DE MELLO  HC:  ADI 4733 ED\n",
            "Ausente:  CELSO DE MELLO  HC:  ADI 2917\n",
            "Ausente:  CELSO DE MELLO  HC:  ADI 6397 MC-Ref\n",
            "Ausente:  CELSO DE MELLO  HC:  ADI 3029\n",
            "Ausente:  CELSO DE MELLO  HC:  ADI 3155\n",
            "Ausente:  CELSO DE MELLO  HC:  ADI 4796\n",
            "Ausente:  CELSO DE MELLO  HC:  ADI 3326\n",
            "Ausente:  CELSO DE MELLO  HC:  ADI 5392\n",
            "Ausente:  CELSO DE MELLO  HC:  ADI 4868\n",
            "Ausente:  CELSO DE MELLO  HC:  ADI 6195\n",
            "Ausente:  CELSO DE MELLO  HC:  ADI 4484\n",
            "Ausente:  CELSO DE MELLO  HC:  ADI 3723\n",
            "Ausente:  CELSO DE MELLO  HC:  ADI 1924\n",
            "Ausente:  CELSO DE MELLO  HC:  ADI 4463 AgR\n",
            "Ausente:  CELSO DE MELLO  HC:  ADI 4530\n",
            "Ausente:  CELSO DE MELLO  HC:  ADI 5889\n",
            "Ausente:  CELSO DE MELLO  HC:  ADI 3502\n",
            "Ausente:  CELSO DE MELLO  HC:  ADI 6278 AgR\n",
            "Ausente:  CELSO DE MELLO  HC:  ADI 5661\n",
            "Ausente:  CELSO DE MELLO  HC:  ADI 3954 AgR\n",
            "Ausente:  CELSO DE MELLO  HC:  ADI 6166\n",
            "Ausente:  CELSO DE MELLO  HC:  ADI 5493\n",
            "Ausente:  CELSO DE MELLO  HC:  ADI 4069\n",
            "Ausente:  CELSO DE MELLO  HC:  ADI 6196\n",
            "Ausente:  CELSO DE MELLO  HC:  ADI 345\n",
            "Ausente:  CELSO DE MELLO  HC:  ADI 3940\n",
            "Ausente:  CELSO DE MELLO  HC:  ADI 5746 AgR\n",
            "Ausente:  CELSO DE MELLO  HC:  ADI 6444 AgR\n",
            "Ausente:  CELSO DE MELLO  HC:  ADI 1862\n",
            "Ausente:  CELSO DE MELLO  HC:  ADI 3504\n",
            "Ausente:  CELSO DE MELLO  HC:  ADI 4223\n",
            "Ausente:  CELSO DE MELLO  HC:  ADI 4673 ED\n",
            "Ausente:  CELSO DE MELLO  HC:  ADI 2790\n",
            "Ausente:  CELSO DE MELLO  HC:  ADI 6395\n",
            "Ausente:  CELSO DE MELLO  HC:  ADI 5467 ED\n",
            "Ausente:  CELSO DE MELLO  HC:  ADI 6222 ED\n",
            "Ausente:  CELSO DE MELLO  HC:  ADI 2546\n",
            "Ausente:  CELSO DE MELLO  HC:  ADI 5461 AgR-ED\n",
            "Ausente:  CELSO DE MELLO  HC:  ADI 2691\n",
            "Ausente:  CELSO DE MELLO  HC:  ADI 4298\n",
            "Ausente:  CELSO DE MELLO  HC:  ADI 5872 ED\n",
            "Ausente:  CELSO DE MELLO  HC:  ADI 1302\n",
            "Ausente:  CELSO DE MELLO  HC:  ADI 2168\n",
            "Ausente:  CELSO DE MELLO  HC:  ADI 3261\n",
            "Ausente:  CELSO DE MELLO  HC:  ADI 861\n",
            "Ausente:  CELSO DE MELLO  HC:  ADI 6193\n",
            "Ausente:  CELSO DE MELLO  HC:  ADI 5878 AgR-ED\n",
            "Ausente:  CELSO DE MELLO  HC:  ADI 6226\n",
            "Ausente:  CELSO DE MELLO  HC:  ADI 6368 AgR\n",
            "Ausente:  CELSO DE MELLO  HC:  ADI 6240 AgR-ED-ED\n",
            "Ausente:  CELSO DE MELLO  HC:  ADI 5026\n",
            "Ausente:  CELSO DE MELLO  HC:  ADI 5852\n",
            "Ausente:  CELSO DE MELLO  HC:  ADI 3629\n",
            "Ausente:  CELSO DE MELLO  HC:  ADI 4539 ED\n",
            "Ausente:  CELSO DE MELLO  HC:  ADI 2534\n",
            "Ausente:  CELSO DE MELLO  HC:  ADI 2807\n",
            "Ausente:  CELSO DE MELLO  HC:  ADI 4445 ED\n",
            "Ausente:  CELSO DE MELLO  HC:  ADI 5013\n",
            "Ausente:  CELSO DE MELLO  HC:  ADI 3552 ED-ED\n",
            "Ausente:  CELSO DE MELLO  HC:  ADI 4388\n",
            "Ausente:  CELSO DE MELLO  HC:  ADI 4213 AgR\n",
            "Ausente:  CELSO DE MELLO  HC:  ADI 4985 ED\n",
            "Ausente:  CELSO DE MELLO  HC:  ADI 3671\n",
            "Ausente:  CELSO DE MELLO  HC:  ADI 6159\n",
            "Ausente:  CELSO DE MELLO  HC:  ADI 1485\n",
            "Ausente:  CELSO DE MELLO  HC:  ADI 6204\n",
            "Ausente:  CELSO DE MELLO  HC:  ADI 4351\n",
            "Ausente:  CELSO DE MELLO  HC:  ADI 4573\n",
            "Ausente:  CELSO DE MELLO  HC:  ADI 4943\n",
            "Ausente:  CELSO DE MELLO  HC:  ADI 5400\n",
            "Ausente:  CELSO DE MELLO  HC:  ADI 3874 ED\n",
            "Ausente:  CELSO DE MELLO  HC:  ADI 3880\n",
            "Ausente:  CELSO DE MELLO  HC:  ADI 6244 ED\n",
            "Ausente:  CELSO DE MELLO  HC:  ADI 238 ED\n",
            "Ausente:  CELSO DE MELLO  HC:  ADI 6094\n",
            "Ausente:  CELSO DE MELLO  HC:  ADI 5709 ED\n",
            "Ausente:  CELSO DE MELLO  HC:  ADI 4262\n",
            "Ausente:  CELSO DE MELLO  HC:  ADI 5580\n",
            "Ausente:  CELSO DE MELLO  HC:  ADI 5628\n",
            "Ausente:  CELSO DE MELLO  HC:  ADI 4254\n",
            "Ausente:  CELSO DE MELLO  HC:  ADI 5333\n",
            "Ausente:  CELSO DE MELLO  HC:  ADI 1052\n",
            "Ausente:  CELSO DE MELLO  HC:  ADI 5929\n",
            "Ausente:  CELSO DE MELLO  HC:  ADI 2259\n",
            "Ausente:  CELSO DE MELLO  HC:  ADI 6244 ED-segundos\n",
            "Ausente:  CELSO DE MELLO  HC:  ADI 3577\n",
            "Ausente:  CELSO DE MELLO  HC:  ADI 5722\n",
            "Ausente:  CELSO DE MELLO  HC:  ADI 4907\n",
            "Ausente:  CELSO DE MELLO  HC:  ADI 6079 AgR\n",
            "Ausente:  CELSO DE MELLO  HC:  ADI 5537\n",
            "Ausente:  CELSO DE MELLO  HC:  ADI 3680\n",
            "Ausente:  CELSO DE MELLO  HC:  ADI 4411\n",
            "Ausente:  CELSO DE MELLO  HC:  ADI 6296 MC-Ref\n",
            "Ausente:  CELSO DE MELLO  HC:  ADI 3355\n",
            "Ausente:  CELSO DE MELLO  HC:  ADI 5114\n",
            "Ausente:  CELSO DE MELLO  HC:  ADI 4702\n",
            "Ausente:  CELSO DE MELLO  HC:  ADI 6316 MC-Ref\n",
            "Ausente:  CELSO DE MELLO  HC:  ADI 3222\n",
            "Ausente:  CELSO DE MELLO  HC:  ADI 5002\n",
            "Ausente:  CELSO DE MELLO  HC:  ADI 5719\n",
            "Ausente:  CELSO DE MELLO  HC:  ADI 4089\n",
            "Ausente:  CELSO DE MELLO  HC:  ADI 5441\n",
            "Ausente:  CELSO DE MELLO  HC:  ADI 3692\n",
            "Ausente:  CELSO DE MELLO  HC:  ADI 5402\n",
            "Ausente:  CELSO DE MELLO  HC:  ADI 3676\n",
            "Ausente:  CELSO DE MELLO  HC:  ADI 6007\n",
            "Ausente:  CELSO DE MELLO  HC:  ADI 4090\n",
            "Ausente:  CELSO DE MELLO  HC:  ADI 5121\n",
            "Ausente:  CELSO DE MELLO  HC:  ADI 5830\n",
            "Ausente:  CELSO DE MELLO  HC:  ADI 4985\n",
            "Ausente:  CELSO DE MELLO  HC:  ADI 4648\n",
            "Ausente:  CELSO DE MELLO  HC:  ADI 2077\n",
            "Ausente:  CELSO DE MELLO  HC:  ADI 4659\n",
            "Ausente:  CELSO DE MELLO  HC:  ADI 3984\n",
            "Ausente:  CELSO DE MELLO  HC:  ADI 5778\n",
            "Ausente:  CELSO DE MELLO  HC:  ADI 2319\n",
            "Ausente:  CELSO DE MELLO  HC:  ADI 5467\n",
            "Ausente:  CELSO DE MELLO  HC:  ADI 6072\n",
            "Ausente:  CELSO DE MELLO  HC:  ADI 3779\n",
            "Ausente:  CELSO DE MELLO  HC:  ADI 3866\n",
            "Ausente:  CELSO DE MELLO  HC:  ADI 1777\n",
            "Ausente:  CELSO DE MELLO  HC:  ADI 5663\n",
            "Ausente:  CELSO DE MELLO  HC:  ADI 5171\n",
            "Ausente:  CELSO DE MELLO  HC:  ADI 1724\n",
            "Ausente:  CELSO DE MELLO  HC:  ADI 5184\n",
            "Ausente:  CELSO DE MELLO  HC:  ADI 3499\n",
            "Ausente:  CELSO DE MELLO  HC:  ADI 3653\n",
            "Ausente:  CELSO DE MELLO  HC:  ADI 2357\n",
            "Ausente:  CELSO DE MELLO  HC:  ADI 4272\n",
            "Ausente:  CELSO DE MELLO  HC:  ADI 4401\n",
            "Ausente:  CELSO DE MELLO  HC:  ADI 4695\n",
            "Ausente:  CELSO DE MELLO  HC:  ADI 4939 AgR\n",
            "Ausente:  CELSO DE MELLO  HC:  ADI 5739\n",
            "Ausente:  CELSO DE MELLO  HC:  ADI 1629\n",
            "Ausente:  CELSO DE MELLO  HC:  ADI 1229\n",
            "Ausente:  CELSO DE MELLO  HC:  ADI 5700\n",
            "Ausente:  CELSO DE MELLO  HC:  ADI 5876\n",
            "Ausente:  CELSO DE MELLO  HC:  ADI 1147\n",
            "Ausente:  CELSO DE MELLO  HC:  ADI 5082 ED\n",
            "Ausente:  CELSO DE MELLO  HC:  ADI 2752\n",
            "Ausente:  CELSO DE MELLO  HC:  ADI 3456\n",
            "Ausente:  CELSO DE MELLO  HC:  ADI 3874\n",
            "Ausente:  CELSO DE MELLO  HC:  ADI 3966\n",
            "Ausente:  CELSO DE MELLO  HC:  ADI 5572\n",
            "Ausente:  CELSO DE MELLO  HC:  ADI 5833\n",
            "Ausente:  CELSO DE MELLO  HC:  ADI 3994\n",
            "Ausente:  CELSO DE MELLO  HC:  ADI 4143\n",
            "Ausente:  CELSO DE MELLO  HC:  ADI 3174\n",
            "Ausente:  CELSO DE MELLO  HC:  ADI 5142\n",
            "Ausente:  CELSO DE MELLO  HC:  ADI 2828\n",
            "Ausente:  CELSO DE MELLO  HC:  ADI 2299\n",
            "Ausente:  CELSO DE MELLO  HC:  ADI 5461 AgR\n",
            "Ausente:  CELSO DE MELLO  HC:  ADI 5495 AgR-ED\n",
            "Ausente:  CELSO DE MELLO  HC:  ADI 2700\n",
            "Ausente:  CELSO DE MELLO  HC:  ADI 5873\n",
            "Ausente:  CELSO DE MELLO  HC:  ADI 3774\n",
            "Ausente:  CELSO DE MELLO  HC:  ADI 3434\n",
            "Ausente:  CELSO DE MELLO  HC:  ADI 2986\n",
            "Ausente:  CELSO DE MELLO  HC:  ADI 4944\n",
            "Ausente:  CELSO DE MELLO  HC:  ADI 4403\n",
            "Ausente:  CELSO DE MELLO  HC:  ADI 5267 AgR\n",
            "Ausente:  CELSO DE MELLO  HC:  ADI 4826\n",
            "Ausente:  CELSO DE MELLO  HC:  ADI 4088\n",
            "Ausente:  CELSO DE MELLO  HC:  ADI 4580\n",
            "Ausente:  CELSO DE MELLO  HC:  ADI 422\n",
            "Ausente:  CELSO DE MELLO  HC:  ADI 4416\n",
            "Ausente:  CELSO DE MELLO  HC:  ADI 4338\n",
            "Ausente:  CELSO DE MELLO  HC:  ADI 4062\n"
          ]
        }
      ],
      "source": [
        "#Não Participantes (verificação pela expressão \"não part\")\n",
        "for m in range(0,len(df2)):\n",
        "  ministro = (df2['Ministro nome'][m])\n",
        "  vencidos=\"\"\n",
        "  for c in range(0,len(df)):\n",
        "    if 'NÃO PART' in df['Sentenca'][c] and 'POR SUCED' not in df['Sentenca'][c]:\n",
        "      #print('ENTROU EM 1')\n",
        "      aus1=df['Sentenca'][c].split(\"NÃO PART\")\n",
        "      aus2=aus1[-1]\n",
        "      aus3=aus2.split(\".\")\n",
        "      ausentes=aus3[0]\n",
        "      #ausentes=(aus4.replace(\" \", \"_\"))\n",
        "      if ministro in ausentes:\n",
        "        print('Ausente: ',ministro, ' HC: ',df[titulo][c])\n",
        "        if df[ministro][c]==-1:\n",
        "          print(df[titulo][c])\n",
        "          print(f'{ministro} já identificado como vencido')\n",
        "        else:          \n",
        "          df[ministro][c]=0\n",
        "          #print(df[titulo][c])\n",
        "          #print('Não votou: ',ministro)          \n",
        "          df['Não votaram'][c]=df['Não votaram'][c]+' | '+ministro+'(NP)'       "
      ]
    },
    {
      "cell_type": "code",
      "execution_count": null,
      "metadata": {
        "id": "4jk2axwwXZMX",
        "colab": {
          "base_uri": "https://localhost:8080/"
        },
        "outputId": "10e479bf-17cb-45dd-adcb-4753b28145b5"
      },
      "outputs": [
        {
          "output_type": "stream",
          "name": "stdout",
          "text": [
            "MARCO AURÉLIO já identificado como vencido\n",
            "TEORI ZAVASCKI já identificado como vencido\n",
            "TEORI ZAVASCKI já identificado como vencido\n",
            "MENEZES DIREITO já identificado como vencido\n",
            "MENEZES DIREITO já identificado como vencido\n"
          ]
        }
      ],
      "source": [
        "#Não Participantes (verificação pela expressão \"não vot\")\n",
        "for m in range(0,len(df2)):\n",
        "  ministro = (df2['Ministro nome'][m])\n",
        "  vencidos=\"\"\n",
        "  for c in range(0,len(df)):\n",
        "    if 'NÃO VOT' in df['Sentenca'][c] and 'POR SUCED' not in df['Sentenca'][c]:\n",
        "      aus1=df['Sentenca'][c].split(\"NÃO VOT\")\n",
        "      aus2=aus1[-1]\n",
        "      aus3=aus2.split(\".\")\n",
        "      ausentes=aus3[0]\n",
        "      #ausentes=(aus4.replace(\" \", \"_\"))\n",
        "      if ministro in ausentes:\n",
        "        #print('Ausente: ',ministro, ' HC: ',df['HC'][c])\n",
        "        if df[ministro][c]==-1:\n",
        "          #df['HC'][c]\n",
        "          print(f'{ministro} já identificado como vencido')\n",
        "        else:\n",
        "          df[ministro][c]=0\n",
        "          df['Não votaram'][c]=df['Não votaram'][c]+' | '+ministro+'(NV)'\n",
        "          \n",
        "          #df['Não Participantes'][c]+=1\n",
        "          #cont_np+=1\n",
        "          aviso=(f' | {ministro} pode ser não participante')\n",
        "          #print(aviso)\n",
        "          if aviso not in df['Informacoes'][c]:\n",
        "            df['Informacoes'][c]=(df['Informacoes'][c]+aviso)     "
      ]
    },
    {
      "cell_type": "markdown",
      "source": [
        "#ESCOLHA 6"
      ],
      "metadata": {
        "id": "lVjKP7hVNpd0"
      }
    },
    {
      "cell_type": "code",
      "source": [
        "#Tratando votações com sucessões de sucessões\n",
        "contador=0\n",
        "for c in range(0,len(df)):\n",
        "  #colunas=df.columns\n",
        "  texto=df['Sentenca'][c]  \n",
        "  if 'SUCED' in texto and 'POR SUA VEZ' in texto:\n",
        "    df['Contagem'][c]='Automática(semi)'\n",
        "    print('-'*200)\n",
        "    print('*'*200)\n",
        "    print('Operação: ',contador+1,' de ',conta_s)\n",
        "    contador+=1\n",
        "    print('Copie, das listas abaixo, os trechos onde há ministros que NÃO votaram') \n",
        "    print(df[titulo][c])\n",
        "    print('Indice: ',c)\n",
        "    texto = df['Sentenca'][c]\n",
        "    filtro = [sentence + '.' for sentence in texto.split('.') if 'POR SUA' in sentence]\n",
        "    print(filtro)\n",
        "    print('')\n",
        "    print('')\n",
        "    print('')\n",
        "    nv=input()\n",
        "    print('Copie, das listas abaixo, os trechos onde há ministros que VOTARAM neste caso antes de aposentar') \n",
        "    print(filtro)        \n",
        "    print('')\n",
        "    print('')\n",
        "    print('')\n",
        "    vot=input()\n",
        "    print('')\n",
        "    print('')\n",
        "    print('')\n",
        "    #print('Votantes: ',vot)\n",
        "    #print('Não votantes: ',nv)\n",
        "    for m in range (0,len(df2)):\n",
        "      ministro=df2['Ministro nome'][m]\n",
        "      if ministro in vot:\n",
        "        print('*******')\n",
        "        print('Ministro votante: ',ministro, ' Acórdão: ',df[titulo][c], 'Indice: ',c)\n",
        "        \n",
        "        if df[ministro][c]==1 or df[ministro][c]==-1:\n",
        "          print('Já tinha registrado como vencido') \n",
        "          print(df[ministro][c])       \n",
        "        \n",
        "        elif df[ministro][c]==2 or df[ministro][c]==0:\n",
        "          df[ministro][c]=1\n",
        "          print('Vencedor')\n",
        "          print('Antes: ',df['Não votaram'][c])\n",
        "          df['Não votaram'][c]=df['Não votaram'][c].replace(ministro,'')\n",
        "          print('Depois: ',df['Não votaram'][c])\n",
        "          df['Lista de Vencedores'][c]=df['Lista de Vencedores'][c]+' | '+ ministro+'(APOSENTADO)' \n",
        "        print('*******')\n",
        "\n",
        "      if ministro in nv:\n",
        "        print('*******')\n",
        "        print('Não votante (caso sucessão): ',ministro, ' Acórdão: ',df[titulo][c], 'Indice: ',c)\n",
        "        \n",
        "        if df[ministro][c]==1 or df[ministro][c]==-1:\n",
        "          print(ministro,' Já tinha registrado um voto.')\n",
        "          print(df[ministro][c])\n",
        "\n",
        "        else:\n",
        "          df[ministro][c]=0\n",
        "          print('Não participação registrada')\n",
        "          df['Não votaram'][c]=df['Não votaram'][c]+' | '+ ministro+'(NV-SUCES)' \n",
        "        print('*******')"
      ],
      "metadata": {
        "id": "i27CGHYMCS8D"
      },
      "execution_count": null,
      "outputs": []
    },
    {
      "cell_type": "markdown",
      "metadata": {
        "id": "o2nV3xzLnssu"
      },
      "source": [
        "**Atribuindo 1 aos Vencedores**"
      ]
    },
    {
      "cell_type": "code",
      "execution_count": null,
      "metadata": {
        "id": "HRU2hlLT7vaU"
      },
      "outputs": [],
      "source": [
        "for m in range(0,len(df2)):\n",
        "  #print(df2['Ministro_nome'][m])\n",
        "  ministro = (df2['Ministro nome'][m])\n",
        "  for c in range (0,len(df)):\n",
        "    j=df['Data de julgamento'][c]\n",
        "    i=df2['inicio'][m]\n",
        "    f=df2['fim'][m]\n",
        "    if j >= i and j <= f:\n",
        "      #print('estava na corte no julgamento', df['HC'][c])\n",
        "      if (df[ministro][c]) >1:\n",
        "        df[ministro][c]=1\n",
        "        \n",
        "        df['Lista de Vencedores'][c]=df['Lista de Vencedores'][c]+(\" | \")\n",
        "        df['Lista de Vencedores'][c]=df['Lista de Vencedores'][c]+(ministro)\n",
        "    "
      ]
    },
    {
      "cell_type": "code",
      "execution_count": null,
      "metadata": {
        "id": "foCYXYSJsgwI",
        "colab": {
          "base_uri": "https://localhost:8080/"
        },
        "outputId": "c578ab43-d3a4-4b59-fc9a-3e38c707737d"
      },
      "outputs": [
        {
          "output_type": "stream",
          "name": "stdout",
          "text": [
            "ATENÇÃO! Pode haver ex-ministro no texto!\n",
            "ADI 4667\n"
          ]
        }
      ],
      "source": [
        "# Atribuindo vitória a ministro citado que não tenha tido voto computado ainda\n",
        "for m in range(0,len(df2)):\n",
        "  ministro = (df2['Ministro nome'][m])\n",
        "  for c in range(0,len(df)):\n",
        "    if ministro in df['Relacionados-nomes'][c] and df[ministro][c]>1:\n",
        "      if (f'DR. {ministro}') in df['Sentenca'][c]:\n",
        "        print('ATENÇÃO! Pode haver ex-ministro no texto!')\n",
        "        print (df[titulo][c])\n",
        "      else:\n",
        "        df[ministro][c]=1      \n",
        "        df['Lista de Vencedores'][c]=df['Lista de Vencedores'][c]+ministro\n",
        "          #print(ministro)\n",
        "          #print(df[titulo][c])  "
      ]
    },
    {
      "cell_type": "markdown",
      "source": [
        "#Tratando Empates - ESCOLHA 7"
      ],
      "metadata": {
        "id": "LUEDUNaF9w7w"
      }
    },
    {
      "cell_type": "code",
      "execution_count": null,
      "metadata": {
        "id": "5pmt1Wajy-RL",
        "colab": {
          "base_uri": "https://localhost:8080/"
        },
        "outputId": "17aa5998-77ae-4320-a471-297fb1cf60f1"
      },
      "outputs": [
        {
          "name": "stdout",
          "output_type": "stream",
          "text": [
            " | ATENÇÃO, Empate identificado  em  ADI 5358\n",
            "--------------------------------------------------------------------------------------------------------------------------------------------------------------------------------------------------------\n",
            "********************************************************************************************************************************************************************************************************\n",
            "Copie, do texto abaixo, o trecho com nome dos ministros vencedores\n",
            "Pressione ENTER: \n",
            "\n",
            "********************************************************************************************************************************************************************************************************\n",
            "\n",
            "ADI 5358\n",
            "O TRIBUNAL, POR MAIORIA, CONFIRMOU A MEDIDA CAUTELAR E JULGOU PROCEDENTE O PEDIDO, PARA DECLARAR A INCONSTITUCIONALIDADE DO ART. 10, §§ 1º E 2º, DA LEI Nº 5.810/1994 DO ESTADO DO PARÁ, FIXANDO A SEGUINTE TESE DE JULGAMENTO: “É INCONSTITUCIONAL A FIXAÇÃO DE CRITÉRIO DE DESEMPATE EM CONCURSOS PÚBLICOS QUE FAVOREÇA CANDIDATOS QUE PERTENCEM AO SERVIÇO PÚBLICO DE UM DETERMINADO ENTE FEDERATIVO”, NOS TERMOS DO VOTO DO RELATOR, VENCIDO O MINISTRO MARCO AURÉLIO. PLENÁRIO, SESSÃO VIRTUAL DE 20.11.2020 A 27.11.2020.\n",
            "\n",
            "\n",
            "\n",
            "Cole trecho com nome dos Min. vencedoresEROS GRAU CÁRMEN LÚCIA JOAQUIM BARBOSA GILMAR MENDES EDSON FACHIN RICARDO LEWANDOWSKI\n",
            "Copie, do texto abaixo, o trecho com nome dos ministros vencidos\n",
            "Pressione ENTER: \n",
            "\n",
            "********************************************************************************************************************************************************************************************************\n",
            "\n",
            "O TRIBUNAL, POR MAIORIA, CONFIRMOU A MEDIDA CAUTELAR E JULGOU PROCEDENTE O PEDIDO, PARA DECLARAR A INCONSTITUCIONALIDADE DO ART. 10, §§ 1º E 2º, DA LEI Nº 5.810/1994 DO ESTADO DO PARÁ, FIXANDO A SEGUINTE TESE DE JULGAMENTO: “É INCONSTITUCIONAL A FIXAÇÃO DE CRITÉRIO DE DESEMPATE EM CONCURSOS PÚBLICOS QUE FAVOREÇA CANDIDATOS QUE PERTENCEM AO SERVIÇO PÚBLICO DE UM DETERMINADO ENTE FEDERATIVO”, NOS TERMOS DO VOTO DO RELATOR, VENCIDO O MINISTRO MARCO AURÉLIO. PLENÁRIO, SESSÃO VIRTUAL DE 20.11.2020 A 27.11.2020.\n",
            "\n",
            "\n",
            "\n",
            "Cole trecho com nome dos Min. vencidosEDSON FACHIN MARCO AURÉLIO CELSO DE MELLO DIAS TOFFOLI\n"
          ]
        }
      ],
      "source": [
        "#Identificando empates\n",
        "for c in range(0,len(df)):\n",
        "  if \"EMPATE\" in df['Pleito Analisado'][c]:\n",
        "    texto=(' | ATENÇÃO, Empate identificado')\n",
        "    df['Informacoes'][c]=(df['Informacoes'][c]+texto) \n",
        "    print(texto,' em ',df[titulo][c])   \n",
        "    linhas.append(texto)\n",
        "    linhas.append(df[titulo][c])\n",
        "    linhas.append(\"      \")\n",
        "    \n",
        "    df['Contagem'][c]\n",
        "    print('-'*200)\n",
        "    print('*'*200)\n",
        "    print('Copie, do texto abaixo, o trecho com nome dos ministros vencedores')\n",
        "    print('Pressione ENTER: ')\n",
        "    print('')\n",
        "    print('*'*200)  \n",
        "    print('')\n",
        "    print(df[titulo][c])\n",
        "    print(df['Pleito Analisado'][c])\n",
        "    print('')\n",
        "    print('')\n",
        "    print('')\n",
        "    texto_vencedores = input ('Cole trecho com nome dos Min. vencedores')\n",
        "\n",
        "    print('Copie, do texto abaixo, o trecho com nome dos ministros vencidos')\n",
        "    print('Pressione ENTER: ')\n",
        "    print('')\n",
        "    print('*'*200)  \n",
        "    print('')\n",
        "    print(df['Pleito Analisado'][c])\n",
        "    print('')\n",
        "    print('')\n",
        "    print('')\n",
        "    texto_vencidos = input ('Cole trecho com nome dos Min. vencidos')\n",
        "\n",
        "    df['Unanimidade'][c]='Não'\n",
        "    \n",
        "    \n",
        "    for m in range (0,len(df2)):\n",
        "      ministro = (df2['Ministro nome'][m])\n",
        "      if ministro in texto_vencedores:\n",
        "        df['Lista de Vencedores'][c]=df['Lista de Vencedores'][c]+(\" | \")\n",
        "        df['Lista de Vencedores'][c]=df['Lista de Vencedores'][c]+(ministro)\n",
        "        df[ministro][c]=1\n",
        "\n",
        "      if ministro in texto_vencidos:\n",
        "        df['Lista de Vencidos'][c]=df['Lista de Vencidos'][c]+(\" | \")\n",
        "        df['Lista de Vencidos'][c]=df['Lista de Vencidos'][c]+(ministro)\n",
        "        df[ministro][c]=-1    "
      ]
    },
    {
      "cell_type": "code",
      "execution_count": null,
      "metadata": {
        "id": "yOK014Hq-hvA",
        "colab": {
          "base_uri": "https://localhost:8080/"
        },
        "outputId": "e1f98952-5336-40ce-9de3-94b6e1bbb9a2"
      },
      "outputs": [
        {
          "output_type": "stream",
          "name": "stdout",
          "text": [
            "Já foi processado um voto para ALEXANDRE DE MORAES\n",
            "Já foi processado um voto para DIAS TOFFOLI\n",
            "Já foi processado um voto para DIAS TOFFOLI\n",
            "Já foi processado um voto para ROBERTO BARROSO\n",
            "Já foi processado um voto para EDSON FACHIN\n",
            "Já foi processado um voto para EDSON FACHIN\n",
            "Já foi processado um voto para GILMAR MENDES\n",
            "Já foi processado um voto para GILMAR MENDES\n",
            "Já foi processado um voto para GILMAR MENDES\n",
            "Já foi processado um voto para CÁRMEN LÚCIA\n",
            "Já foi processado um voto para RICARDO LEWANDOWSKI\n",
            "Já foi processado um voto para RICARDO LEWANDOWSKI\n",
            "Já foi processado um voto para JOAQUIM BARBOSA\n"
          ]
        }
      ],
      "source": [
        "#Nova verificação de ministros vencidos (acho que pode ser desnecessária, mantida por precaução)\n",
        "\n",
        "\n",
        "for m in range(0,len(df2)):\n",
        "  ministro = (df2['Ministro nome'][m])\n",
        "\n",
        "  for c in range(0,len(df)):\n",
        "    #print(df['HC'][c])\n",
        "    if 'PARCIALMENTE VENCID' in df['Sentenca'][c] or 'VENCIDO, PARCIALMENTE' in df['Sentenca'][c] or 'VENCIDOS, PARCIALMENTE' in df['Sentenca'][c] or 'VENCIDAS, PARCIALMENTE' in df['Sentenca'][c]:\n",
        "      texto=df['Sentenca'][c]\n",
        "      #Pegar apenas a frase que tem os vencidos parcialmente = filtro1\n",
        "      filtro1=[sentence + '.' for sentence in texto.split('.') if 'PARCIAL' in sentence]\n",
        "      #filtro2 é aconversão da lista para string\n",
        "      filtro2=str(filtro1).strip('[]')\n",
        "      #print('2: ',filtro2)\n",
        "      if 'PARCIAL' in filtro2 and 'QUE' in filtro2:\n",
        "        if re.search(\"PARCIALMENTE(.*?) QUE\", filtro2) is not None:\n",
        "          #print(df[titulo][c])\n",
        "          filtro3=re.search(\"PARCIALMENTE(.*?) QUE\", filtro2).group(1)\n",
        "        #print('3: ',filtro3)\n",
        "          if 'VENCIDOS PARCIALMENTE' in filtro2 or 'VENCIDAS PARCIALMENTE' in filtro2 or 'VENCIDO PARCIALMENTE' in filtro2 or 'VENCIDA PARCIALMENTE' in filtro2:\n",
        "            filtro3=re.search(\"PARCIALMENTE*(.*?) QUE\", filtro2).group(1)\n",
        "          \n",
        "      if ministro in filtro2 and ministro not in filtro3:\n",
        "       \n",
        "        if df[ministro][c]!=2:\n",
        "          print(f'Já foi processado um voto para {ministro}')\n",
        "        else:\n",
        "          df[ministro][c]=-1\n",
        "          df['Lista de Vencidos'][c]=df['Lista de Vencidos'][c]+(\" | \")\n",
        "          df['Lista de Vencidos'][c]=df['Lista de Vencidos'][c]+(ministro)\n",
        "          print(ministro,' vencido no acórdãoC ',df[titulo][c],'Indice: ',c)\n",
        "          cont_derrotas+=1\n",
        "          print('Vencido: ',ministro, ' Acórdão: ',df[titulo][c])\n",
        "          print('*******')        \n",
        "     "
      ]
    },
    {
      "cell_type": "code",
      "execution_count": null,
      "metadata": {
        "id": "aZjlOTX2xgrC"
      },
      "outputs": [],
      "source": [
        "#Excluindo coluna lista\n",
        "df.drop(['lista'],axis=1,inplace=True)"
      ]
    },
    {
      "cell_type": "code",
      "execution_count": null,
      "metadata": {
        "id": "pmYzU1iNUai0",
        "colab": {
          "base_uri": "https://localhost:8080/"
        },
        "outputId": "aa2e22eb-c40e-4ea4-9c26-f475cb95d275"
      },
      "outputs": [
        {
          "output_type": "stream",
          "name": "stdout",
          "text": [
            "42907\n"
          ]
        }
      ],
      "source": [
        "#Zerando demais ministros não participantes\n",
        "\n",
        "cont2=0\n",
        "\n",
        "for m in range(0,len(df2)):\n",
        "  #print(df2['Ministro_nome'][m])\n",
        "  ministro = (df2['Ministro nome'][m])\n",
        "  for c in range (0,len(df)):\n",
        "    if df[ministro][c] == 2:\n",
        "      df[ministro][c] = 0\n",
        "      cont2+=1\n",
        "\n",
        "print (cont2)"
      ]
    },
    {
      "cell_type": "markdown",
      "source": [
        "# Contagens de Vencedores, Vencidos, tipos de votações e verificações de erros"
      ],
      "metadata": {
        "id": "o1oJubYY7SHn"
      }
    },
    {
      "cell_type": "code",
      "source": [
        "#Contando não participantes\n",
        "for a in range (0,len(df)):\n",
        "  nps=0  \n",
        "  \n",
        "  for m in range(0,len(df2)):\n",
        "    #print('-'*20)\n",
        "    ministro = (df2['Ministro nome'][m])\n",
        "       \n",
        "    if ministro in df['Relacionados-nomes'][a]:\n",
        "      if ministro in df['Não votaram'][a]:\n",
        "        df['Não Participantes'][a]+=1\n",
        "        #print('perdeu')"
      ],
      "metadata": {
        "id": "sJQzV0vUY-5G"
      },
      "execution_count": null,
      "outputs": []
    },
    {
      "cell_type": "code",
      "execution_count": null,
      "metadata": {
        "id": "21HmXYjUMf4z"
      },
      "outputs": [],
      "source": [
        "#Calculando vencedores e vencidos\n",
        "for a in range (0,len(df)):\n",
        "  #print('*'*50)\n",
        "  #print('Acordao ',df[titulo][a])\n",
        "  #print('Vencedores no inicio: ',df['Vencedores'][a])\n",
        "  vitorias=0\n",
        "  derrotas=0\n",
        " \n",
        "  \n",
        "  for m in range(0,len(df2)):\n",
        "    #print('-'*20)\n",
        "    ministro = (df2['Ministro nome'][m])\n",
        "\n",
        "    if ministro in df['Não votaram'][a]:\n",
        "      df[ministro][a]=0\n",
        "       \n",
        "    if ministro in df['Relacionados-nomes'][a]:\n",
        "      #print(ministro)\n",
        "      if df[ministro][a]==-1:\n",
        "        #df['Vencidos'][a]+=1\n",
        "        derrotas+=1\n",
        "        #print('perdeu')\n",
        "        \n",
        "      elif df[ministro][a]==1:\n",
        "        #df['Vencedores'][a]+=1    \n",
        "        vitorias+=1\n",
        "        #print('ganhou')\n",
        "\n",
        "  #print('-'*10)\n",
        "  df['Vencedores'][a]=vitorias\n",
        "  df['Vencidos'][a]=derrotas\n",
        "  #print('Venceram: ',df['Vencedores'][a])\n",
        "  #print('perderam: ',df['Vencidos'][a])"
      ]
    },
    {
      "cell_type": "code",
      "source": [
        "if choice == 's':\n",
        "  imprima_contagens(y)"
      ],
      "metadata": {
        "id": "SXrWbul8hZ_M"
      },
      "execution_count": null,
      "outputs": []
    },
    {
      "cell_type": "code",
      "execution_count": null,
      "metadata": {
        "id": "MuLsNwFwvI9O"
      },
      "outputs": [],
      "source": [
        "for c in range(0,len(df)):\n",
        "  #Contando córuns e ministros relacionados não participantes\n",
        "  df['Quorum'][c]=df['Vencidos'][c]+df['Vencedores'][c]\n",
        "    \n",
        "  #verificando erros\n",
        "  if df['Unanimidade'][c]=='Sim'and df['Vencidos'][c]>0:\n",
        "    texto=(' | Erro em suposta unanimidade')\n",
        "    df['Informacoes'][c]=(df['Informacoes'][c]+texto) \n",
        "    print(texto,' em ',df['HC'][c])   \n",
        "    linhas.append(texto)\n",
        "    linhas.append(df['HC'][c])\n",
        "    linhas.append(\"      \")\n",
        "\n",
        "  if df['Vencedores'][c]==df['Vencidos'][c]:\n",
        "    texto=(' | Empate Identificado')\n",
        "    df['Informacoes'][c]=(df['Informacoes'][c]+texto) \n",
        "    print(texto,' em ',df[titulo][c])   \n",
        "    linhas.append(texto)\n",
        "    linhas.append(df[titulo][c])\n",
        "    linhas.append(\"      \")\n",
        "\n",
        "  if df['Vencedores'][c]<df['Vencidos'][c]:\n",
        "    texto=(' | ERRO mais vencidos que vencedores')\n",
        "    if texto not in df['Informacoes'][c]:\n",
        "      df['Informacoes'][c]=(df['Informacoes'][c]+texto) \n",
        "      print(texto,' em ',df[titulo][c])   \n",
        "      linhas.append(texto)\n",
        "      linhas.append(df[titulo][c])\n",
        "      linhas.append(\"      \")\n",
        "\n",
        "  if df['Quorum'][c]>11:\n",
        "    texto=(' | ERRO de quórum excedente')\n",
        "    if texto not in df['Informacoes'][c]:\n",
        "      df['Informacoes'][c]=(df['Informacoes'][c]+texto) \n",
        "      print(texto,' em ',df[titulo][c])   \n",
        "      linhas.append(texto)\n",
        "      linhas.append(df[titulo][c])\n",
        "      linhas.append(\"      \")\n",
        "\n",
        "  if \"SUCED\" in df['Sentenca'][c]:\n",
        "    texto=(' | ATENÇÃO, votação com sucessão de ministros')\n",
        "    if texto not in (df['Informacoes'][c]):\n",
        "      df['Informacoes'][c]=(df['Informacoes'][c]+texto) \n",
        "      print(texto,' em ',df[titulo][c])   \n",
        "      linhas.append(texto)\n",
        "      linhas.append(df[titulo][c])\n",
        "      linhas.append(\"      \") "
      ]
    },
    {
      "cell_type": "code",
      "source": [
        "#Total de votos por ministros\n",
        "cont_vot=0\n",
        "for m in range(0,len(df2)):\n",
        "      ministro = (df2['Ministro nome'][m])\n",
        "      l_min_df=df.columns\n",
        "      cont_vot=0\n",
        "      if ministro in l_min_df:\n",
        "        for i in range (0,len(df)):\n",
        "          if df[ministro][i] > 0:           \n",
        "            cont_vot+=1\n",
        "      print('*'*200)      \n",
        "      print(ministro)\n",
        "      print(cont_vot)\n",
        "      print('')\n",
        "      print('')"
      ],
      "metadata": {
        "id": "OCf5jyX_8I6l",
        "colab": {
          "base_uri": "https://localhost:8080/"
        },
        "outputId": "98a1da97-e8a9-4bbf-acc2-660764d44d17"
      },
      "execution_count": null,
      "outputs": [
        {
          "output_type": "stream",
          "name": "stdout",
          "text": [
            "********************************************************************************************************************************************************************************************************\n",
            "NUNES MARQUES\n",
            "617\n",
            "\n",
            "\n",
            "********************************************************************************************************************************************************************************************************\n",
            "ANDRÉ MENDONÇA\n",
            "157\n",
            "\n",
            "\n",
            "********************************************************************************************************************************************************************************************************\n",
            "ALEXANDRE DE MORAES\n",
            "1625\n",
            "\n",
            "\n",
            "********************************************************************************************************************************************************************************************************\n",
            "DIAS TOFFOLI\n",
            "1974\n",
            "\n",
            "\n",
            "********************************************************************************************************************************************************************************************************\n",
            "ROBERTO BARROSO\n",
            "1891\n",
            "\n",
            "\n",
            "********************************************************************************************************************************************************************************************************\n",
            "EDSON FACHIN\n",
            "1627\n",
            "\n",
            "\n",
            "********************************************************************************************************************************************************************************************************\n",
            "GILMAR MENDES\n",
            "1979\n",
            "\n",
            "\n",
            "********************************************************************************************************************************************************************************************************\n",
            "CÁRMEN LÚCIA\n",
            "2061\n",
            "\n",
            "\n",
            "********************************************************************************************************************************************************************************************************\n",
            "LUIZ FUX\n",
            "2080\n",
            "\n",
            "\n",
            "********************************************************************************************************************************************************************************************************\n",
            "RICARDO LEWANDOWSKI\n",
            "2042\n",
            "\n",
            "\n",
            "********************************************************************************************************************************************************************************************************\n",
            "ROSA WEBER\n",
            "1997\n",
            "\n",
            "\n",
            "********************************************************************************************************************************************************************************************************\n",
            "MARCO AURÉLIO\n",
            "1371\n",
            "\n",
            "\n",
            "********************************************************************************************************************************************************************************************************\n",
            "CELSO DE MELLO\n",
            "989\n",
            "\n",
            "\n",
            "********************************************************************************************************************************************************************************************************\n",
            "TEORI ZAVASCKI\n",
            "357\n",
            "\n",
            "\n",
            "********************************************************************************************************************************************************************************************************\n",
            "JOAQUIM BARBOSA\n",
            "159\n",
            "\n",
            "\n",
            "********************************************************************************************************************************************************************************************************\n",
            "AYRES BRITTO\n",
            "124\n",
            "\n",
            "\n",
            "********************************************************************************************************************************************************************************************************\n",
            "CEZAR PELUSO\n",
            "122\n",
            "\n",
            "\n",
            "********************************************************************************************************************************************************************************************************\n",
            "ELLEN GRACIE\n",
            "78\n",
            "\n",
            "\n",
            "********************************************************************************************************************************************************************************************************\n",
            "EROS GRAU\n",
            "8\n",
            "\n",
            "\n",
            "********************************************************************************************************************************************************************************************************\n",
            "MENEZES DIREITO\n",
            "8\n",
            "\n",
            "\n",
            "********************************************************************************************************************************************************************************************************\n",
            "SEPÚLVEDA PERTENCE\n",
            "1\n",
            "\n",
            "\n",
            "********************************************************************************************************************************************************************************************************\n",
            "NELSON JOBIM\n",
            "4\n",
            "\n",
            "\n",
            "********************************************************************************************************************************************************************************************************\n",
            "CARLOS VELLOSO\n",
            "4\n",
            "\n",
            "\n",
            "********************************************************************************************************************************************************************************************************\n",
            "MAURÍCIO CORRÊA\n",
            "1\n",
            "\n",
            "\n",
            "********************************************************************************************************************************************************************************************************\n",
            "ILMAR GALVÃO\n",
            "0\n",
            "\n",
            "\n",
            "********************************************************************************************************************************************************************************************************\n",
            "SYDNEY SANCHES\n",
            "0\n",
            "\n",
            "\n",
            "********************************************************************************************************************************************************************************************************\n",
            "MOREIRA ALVES\n",
            "0\n",
            "\n",
            "\n",
            "********************************************************************************************************************************************************************************************************\n",
            "NÉRI DA SILVEIRA\n",
            "1\n",
            "\n",
            "\n",
            "********************************************************************************************************************************************************************************************************\n",
            "OCTAVIO GALLOTTI\n",
            "0\n",
            "\n",
            "\n",
            "********************************************************************************************************************************************************************************************************\n",
            "FRANCISCO REZEK\n",
            "0\n",
            "\n",
            "\n"
          ]
        }
      ]
    },
    {
      "cell_type": "code",
      "execution_count": null,
      "metadata": {
        "id": "iN3VS1Hp_31a",
        "colab": {
          "base_uri": "https://localhost:8080/"
        },
        "outputId": "046a9410-5878-4bac-8441-e6753b1c31b1"
      },
      "outputs": [
        {
          "output_type": "stream",
          "name": "stdout",
          "text": [
            "Ministro sem votos computados:  ILMAR GALVÃO\n",
            "Ministro sem votos computados:  SYDNEY SANCHES\n",
            "Ministro sem votos computados:  MOREIRA ALVES\n",
            "Ministro sem votos computados:  OCTAVIO GALLOTTI\n",
            "Ministro sem votos computados:  FRANCISCO REZEK\n"
          ]
        }
      ],
      "source": [
        "#excluindo colunas de ministros que não votaram\n",
        "for m in range(0,len(df2)):\n",
        "      ministro = (df2['Ministro nome'][m])\n",
        "      l_min_df=df.columns\n",
        "      if ministro in l_min_df:\n",
        "        if len(df[ministro].unique())==1:\n",
        "          df.drop(ministro,axis=1,inplace=True)\n",
        "          print('Ministro sem votos computados: ',ministro)"
      ]
    },
    {
      "cell_type": "code",
      "execution_count": null,
      "metadata": {
        "id": "wQuWzakZ9vZW"
      },
      "outputs": [],
      "source": [
        "#criando dataset de relatórios\n",
        "\n",
        "relatorio = {\n",
        "    'Total': [0],\n",
        "    'Múltiplas_decisoes': [0],\n",
        "    'Erros': [0],\n",
        "    'Alertas': [0],\n",
        "    'Empates': [0],\n",
        "    'Acoes Manuais': [0],\n",
        "    'Acordaos': ['']    \n",
        "}\n",
        "\n",
        "# Criando um dataframe a partir de um dicionário do python\n",
        "df_rel = pd.DataFrame(relatorio)\n",
        "\n",
        "list_acordaos=[]\n"
      ]
    },
    {
      "cell_type": "code",
      "execution_count": null,
      "metadata": {
        "id": "VGNld5Qa-zen"
      },
      "outputs": [],
      "source": [
        "for c in range(0,len(df)):\n",
        "\n",
        "  if \"Múltiplas decisões\" in df['Informacoes'][c]:\n",
        "    df_rel['Múltiplas_decisoes'][0]+=1\n",
        "    list_acordaos.append(df[titulo][c])\n",
        "  \n",
        "  if \"ERRO\" in df['Informacoes'][c]:\n",
        "    df_rel['Erros'][0]+=1\n",
        "    list_acordaos.append(df[titulo][c])\n",
        "  \n",
        "  if \"ATENÇÃO\" in df['Informacoes'][c]:\n",
        "    df_rel['Alertas'][0]+=1\n",
        "    list_acordaos.append(df[titulo][c])\n",
        "\n",
        "  if \"Empate\" in df['Informacoes'][c]:\n",
        "    df_rel['Empates'][0]+=1\n",
        "    list_acordaos.append(df[titulo][c])\n",
        "\n",
        "df_rel['Total']=len(df.index)\n",
        "list_acordaos = list(dict.fromkeys(list_acordaos))\n",
        "df_rel['Acordaos'][0]=list_acordaos\n",
        "\n",
        "df_rel['Acoes Manuais'][0]=len(list_acordaos)"
      ]
    },
    {
      "cell_type": "markdown",
      "metadata": {
        "id": "U_kjBgaX8Pk-"
      },
      "source": [
        "# Salvando dataset no drive"
      ]
    },
    {
      "cell_type": "code",
      "execution_count": null,
      "metadata": {
        "id": "Z6ZUJmiqf8Zw",
        "colab": {
          "base_uri": "https://localhost:8080/"
        },
        "outputId": "ff1d8b9b-734b-4332-f66d-28141999d44b"
      },
      "outputs": [
        {
          "output_type": "execute_result",
          "data": {
            "text/plain": [
              "Ellipsis"
            ]
          },
          "metadata": {},
          "execution_count": 82
        }
      ],
      "source": [
        "#from datetime import date, datetime\n",
        "\n",
        "#data = datetime.today()\n",
        "hoje = data.strftime('%d-%m-%Y')\n",
        "hora = data.strftime('%H-%M')\n",
        "if classe==\"1\":\n",
        "  nome = 'ds-HCs'\n",
        "else:\n",
        "  nome = 'ds-ADIs'\n",
        "\n",
        "extens = '.csv'\n",
        "\n",
        "...\n",
        "#Ativar linha abaixo caso queira salvar df completo com a data no nome do arquivo\n",
        "#df.to_csv(f'{nome}-{hoje}{extens}', index = False)"
      ]
    },
    {
      "cell_type": "code",
      "execution_count": null,
      "metadata": {
        "id": "I5YmDYmR0WXD"
      },
      "outputs": [],
      "source": [
        "# open file in write mode\n",
        "with open(r'relatórios.txt', 'w') as fp:\n",
        "    fp.write('\\n'.join(linhas))"
      ]
    },
    {
      "cell_type": "code",
      "execution_count": null,
      "metadata": {
        "id": "9YW0_DLbtq1Z",
        "colab": {
          "base_uri": "https://localhost:8080/"
        },
        "outputId": "86ce126d-b692-45b6-965f-2f11a6a66a86"
      },
      "outputs": [
        {
          "output_type": "stream",
          "name": "stdout",
          "text": [
            "mv: cannot move 'relatórios.txt' to '/content/drive/MyDrive/Colab Notebooks/datasets/prod/relatsADIs-25-10-2022-20-20.txt': No such file or directory\n"
          ]
        }
      ],
      "source": [
        "##Salvando relatório (logs)\n",
        "if classe==\"1\":\n",
        "  !mv relatórios.txt '/content/drive/MyDrive/Colab Notebooks/datasets/prod/relatsHCs-{hoje}-{hora}.txt'\n",
        "else:\n",
        "  !mv relatórios.txt '/content/drive/MyDrive/Colab Notebooks/datasets/prod/relatsADIs-{hoje}-{hora}.txt'\n"
      ]
    },
    {
      "cell_type": "markdown",
      "source": [
        "#Inclusão de registros manuais"
      ],
      "metadata": {
        "id": "oQjyQxSdW9Tn"
      }
    },
    {
      "cell_type": "code",
      "execution_count": null,
      "metadata": {
        "id": "8Yl8A3rxp854"
      },
      "outputs": [],
      "source": [
        "#def incluir_manuais(classe):\n",
        "if classe=='1':\n",
        "  planilha=pd.ExcelFile('Manuais.xlsx')\n",
        "  df3=planilha.parse('HCs Manual')\n",
        "  #print (df3)\n",
        "elif classe=='2':\n",
        "  #print('Ainda não tem a planilha ADIs Manual')\n",
        "  planilha=pd.ExcelFile('Manuais.xlsx')\n",
        "  df3=planilha.parse('ADIs Manual')\n",
        "  #print (df3) \n",
        "  "
      ]
    },
    {
      "cell_type": "code",
      "source": [
        "df3['Lista de Vencidos']=df3['Lista de Vencidos'].astype(str)\n",
        "df3['Pleito Analisado']=df3['Sentenca']"
      ],
      "metadata": {
        "id": "CxvpjbYXkhDl"
      },
      "execution_count": null,
      "outputs": []
    },
    {
      "cell_type": "code",
      "execution_count": null,
      "metadata": {
        "id": "mfMu8dc1EzU_"
      },
      "outputs": [],
      "source": [
        "#Recriando colunas de ministros que foram apagadas para o caso delas existirem na contagem manual\n",
        "for m in range (0,len(df2)):\n",
        "  ministro=df2['Ministro nome'][m]\n",
        "  if ministro not in df:\n",
        "    #print(ministro)\n",
        "    #print('recriado')\n",
        "    df.insert(len(df.columns), ministro, 0)"
      ]
    },
    {
      "cell_type": "markdown",
      "source": [
        "#Aviso de manuais adicionados"
      ],
      "metadata": {
        "id": "VT0sEgcW_fr6"
      }
    },
    {
      "cell_type": "code",
      "execution_count": null,
      "metadata": {
        "id": "vfZhKbrWzDj5",
        "colab": {
          "base_uri": "https://localhost:8080/"
        },
        "outputId": "91a3c8fb-07ee-4e15-d0b1-ff45f8f155c8"
      },
      "outputs": [
        {
          "output_type": "stream",
          "name": "stdout",
          "text": [
            "Acordao alterado manualmente: \n",
            "ADI 2854\n",
            "Acordao alterado manualmente: \n",
            "ADI 3427\n",
            "Acordao alterado manualmente: \n",
            "ADI 4233\n",
            "Acordao alterado manualmente: \n",
            "ADI 5886\n",
            "Acordao alterado manualmente: \n",
            "ADI 5995\n",
            "Acordao alterado manualmente: \n",
            "ADI 5592\n",
            "Acordao alterado manualmente: \n",
            "ADI 1606\n",
            "Acordao alterado manualmente: \n",
            "ADI 4167\n",
            "Acordao alterado manualmente: \n",
            "ADI 3937\n",
            "Acordao alterado manualmente: \n",
            "ADI 750\n",
            "Acordao alterado manualmente: \n",
            "ADI 5939\n",
            "Acordao alterado manualmente: \n",
            "ADI 5946\n",
            "Acordao alterado manualmente: \n",
            "ADI 3567\n",
            "Acordao alterado manualmente: \n",
            "ADI 5135\n"
          ]
        }
      ],
      "source": [
        "#Anexando contagens manuais\n",
        "lista_index=[]\n",
        "for a in range(0,len(df3)):\n",
        "\n",
        "  if choice =='1':\n",
        "    acordao=df3['HC'][a]\n",
        "  else:\n",
        "    acordao=df3['ADI'][a]\n",
        "\n",
        "  for c in range(0,len(df)):\n",
        "    if choice =='1':\n",
        "      if acordao==df['HC'][c]:\n",
        "        print('Acordao alterado manualmente: ')\n",
        "        print(acordao)\n",
        "        lista_index.append(c)\n",
        "    if choice =='2':\n",
        "      if acordao==df['ADI'][c]:\n",
        "        print('Acordao alterado manualmente: ')\n",
        "        print(acordao)\n",
        "        lista_index.append(c)"
      ]
    },
    {
      "cell_type": "code",
      "execution_count": null,
      "metadata": {
        "id": "0ks6ildo1Spv"
      },
      "outputs": [],
      "source": [
        " #Apagando registros originais que serão substituídos pelos refeitos nas planilhas manuais\n",
        " for c in range(0,len(lista_index)):\n",
        "   df.drop((lista_index[c]), axis=0, inplace=True)"
      ]
    },
    {
      "cell_type": "markdown",
      "source": [
        "# Adequando registros manuais"
      ],
      "metadata": {
        "id": "xD7rRhn1BBnY"
      }
    },
    {
      "cell_type": "code",
      "source": [
        "#Convertendo nulos em zeros\n",
        "\n",
        "df3['Vencedores']=df3['Vencedores'].fillna(0)\n",
        "df3['Vencidos']=df3['Vencidos'].fillna(0)\n",
        "df3['Votações por Maioria']=df3['Votações por Maioria'].fillna(0)\n",
        "df3['Votações Unânimes']=df3['Votações Unânimes'].fillna(0)\n",
        "df3['Votações']=df3['Votações'].fillna(0)\n",
        "df3['Ausentes']=df3['Ausentes'].fillna(0)\n",
        "df3['Impedidos']=df3['Impedidos'].fillna(0)\n",
        "df3['Não Participantes']=df3['Não Participantes'].fillna(0)\n",
        "df3['Quorum']=df3['Quorum'].fillna(0)\n",
        "df3['Relacionados']=df3['Relacionados'].fillna(0)\n",
        "df3['Votações por Maioria']=df3['Votações por Maioria'].fillna(0)\n",
        "df3['Votações por Maioria']=df3['Votações por Maioria'].fillna(0)\n",
        "df3['Votações Unânimes']=df3['Votações Unânimes'].fillna(0)\n",
        "df3['Votações']=df3['Votações'].fillna(0)\n",
        "\n",
        "#Convertendo para tipo Inteiro\n",
        "df3['Vencedores']=df3['Vencedores'].astype(int)\n",
        "df3['Vencidos']=df3['Vencidos'].astype(int)\n",
        "df3['Votações por Maioria']=df3['Votações por Maioria'].astype(int)\n",
        "df3['Votações Unânimes']=df3['Votações Unânimes'].astype(int)\n",
        "df3['Votações']=df3['Votações'].astype(int)\n",
        "df3['Ausentes']=df3['Ausentes'].astype(int)\n",
        "df3['Não Participantes']=df3['Não Participantes'].astype(int)\n",
        "df3['Impedidos']=df3['Impedidos'].astype(int)\n",
        "df3['Quorum']=df3['Quorum'].astype(int)\n",
        "df3['Relacionados']=df3['Relacionados'].astype(int)\n",
        "df3['Votações por Maioria']=df3['Votações por Maioria'].astype(int)\n",
        "df3['Votações por Maioria']=df3['Votações por Maioria'].astype(int)\n",
        "df3['Votações Unânimes']=df3['Votações Unânimes'].astype(int)\n",
        "df3['Votações']=df3['Votações'].astype(int)      "
      ],
      "metadata": {
        "id": "5tcF2r-sA91G"
      },
      "execution_count": null,
      "outputs": []
    },
    {
      "cell_type": "code",
      "execution_count": null,
      "metadata": {
        "id": "iB1wQSD_7IVn"
      },
      "outputs": [],
      "source": [
        "#Acrescentando os registros manuais\n",
        "df=df.append(df3)"
      ]
    },
    {
      "cell_type": "code",
      "source": [
        "df = df.reset_index(drop=True)"
      ],
      "metadata": {
        "id": "nbTQDfthqcqb"
      },
      "execution_count": null,
      "outputs": []
    },
    {
      "cell_type": "code",
      "execution_count": null,
      "metadata": {
        "id": "NjdTF6PlYYwV"
      },
      "outputs": [],
      "source": [
        "#Trocando nulos para zero após mescla (acho que não precisa)\n",
        "\n",
        "for m in range(0,len(df2)):\n",
        "      ministro = (df2['Ministro nome'][m])\n",
        "      df[ministro] = df[ministro].fillna(0)\n",
        "      df[ministro] = df[ministro].fillna(0)\n",
        "      df['Ausentes']=df['Ausentes'].fillna(0)\n",
        "      df['Não Participantes']=df['Não Participantes'].fillna(0)\n",
        "      df['Quorum']=df['Quorum'].fillna(0)\n",
        "      df['Relacionados']=df['Relacionados'].fillna(0)\n",
        "      df['Votações por Maioria']=df['Votações por Maioria'].fillna(0)\n",
        "      df['Votações por Maioria']=df['Votações por Maioria'].fillna(0)\n",
        "      df['Votações Unânimes']=df['Votações Unânimes'].fillna(0)\n",
        "      df['Votações']=df['Votações'].fillna(0)"
      ]
    },
    {
      "cell_type": "code",
      "source": [
        "#Adequando casas decimais (formato int)após inclusão de votações exportadas das planilhas manuais\n",
        "for a in range (0,len(df)):\n",
        "  for i in range (0,len(df2)):\n",
        "    ministro=df2['Ministro nome'][i]\n",
        "    if ministro in df['Lista de Vencidos'][a] or ministro in df['Lista de Vencedores'][a]:\n",
        "      df[ministro]=df[ministro].astype(int)\n",
        "      "
      ],
      "metadata": {
        "id": "N_mcllCNXBx7"
      },
      "execution_count": null,
      "outputs": []
    },
    {
      "cell_type": "code",
      "execution_count": null,
      "metadata": {
        "id": "JcBXAlifFTWw",
        "colab": {
          "base_uri": "https://localhost:8080/"
        },
        "outputId": "0471a33c-23ad-4156-bbdb-de2efabd4da9"
      },
      "outputs": [
        {
          "output_type": "stream",
          "name": "stdout",
          "text": [
            "Ministro sem votos computados:  ILMAR GALVÃO\n",
            "Ministro sem votos computados:  SYDNEY SANCHES\n",
            "Ministro sem votos computados:  MOREIRA ALVES\n",
            "Ministro sem votos computados:  OCTAVIO GALLOTTI\n",
            "Ministro sem votos computados:  FRANCISCO REZEK\n"
          ]
        }
      ],
      "source": [
        "#excluindo colunas de ministros que não votaram (fazendo isso de novo após mescla com manuais)\n",
        "for m in range(0,len(df2)):\n",
        "      ministro = (df2['Ministro nome'][m])\n",
        "      l_min_df=df.columns\n",
        "      if ministro in l_min_df:\n",
        "        if len(df[ministro].unique())==1:\n",
        "          df.drop(ministro,axis=1,inplace=True)\n",
        "          print('Ministro sem votos computados: ',ministro)"
      ]
    },
    {
      "cell_type": "code",
      "execution_count": null,
      "metadata": {
        "id": "leA_t1dHOTDR"
      },
      "outputs": [],
      "source": [
        "df['Data de julgamento'] = pd.to_datetime(df['Data de julgamento'],format=\"%d/%m/%Y\")\n",
        "df['Data de publicação'] = pd.to_datetime(df['Data de publicação'],infer_datetime_format=True)\n",
        "#df['Data de pulicação'] = pd.to_datetime(df['Data de publicação'],format=\"%d/%m/%Y\")"
      ]
    },
    {
      "cell_type": "code",
      "execution_count": null,
      "metadata": {
        "id": "ddqjV4mw6M3Q"
      },
      "outputs": [],
      "source": [
        "#Após exclusões, reiniciando a indexação\n",
        "df = df.reset_index(drop=True)"
      ]
    },
    {
      "cell_type": "code",
      "execution_count": null,
      "metadata": {
        "id": "Isel9Hg6TnUw"
      },
      "outputs": [],
      "source": [
        "#Marcando tipos de acórdãos\n",
        "\n",
        "for i in range (0,len(df)):\n",
        "\n",
        "  try:\n",
        "\n",
        "    if 'AgR' in df[titulo][i]:\n",
        "      df['Tipo'][i]='AgR'\n",
        "          \n",
        "    elif 'ED' in df[titulo][i]:\n",
        "      df['Tipo'][i]='ED'\n",
        "    \n",
        "    elif 'EI' in df[titulo][i]:\n",
        "      df['Tipo'][i]='EI'\n",
        "    \n",
        "    elif 'MC' in df[titulo][i]:\n",
        "      df['Tipo'][i]='MC'\n",
        "\n",
        "    elif 'QO' in df[titulo][i]:\n",
        "      df['Tipo'][i]='QO'\n",
        "\n",
        "    elif 'EI-AgR' in df[titulo][i]:\n",
        "      df['Tipo'][i]='EI-AgR'\n",
        "\n",
        "    elif 'JULG' in df[titulo][i]:\n",
        "      df['Tipo'][i]='Outros'\n",
        "\n",
        "    else:\n",
        "      df['Tipo'][i]='Principal'\n",
        "\n",
        "\n",
        "  \n",
        "  except KeyError:\n",
        "    print(\"Erro ignorado em: \")\n",
        "    print (i)\n",
        "    #print (df['HC'][i])"
      ]
    },
    {
      "cell_type": "code",
      "source": [
        "#Inclusão de casos omitidos na contagem de votos não unânimes\n",
        "cont=0\n",
        "for c in range (0,len(df)):\n",
        "  if 'VENCID' in df['Pleito Analisado'][c] and df['Votações por Maioria'][c] == 0:\n",
        "    cont+=1\n",
        "    print('')\n",
        "    print(df[titulo][c])\n",
        "    print('Incluído')\n",
        "    df['Votações por Maioria'][c]=1\n",
        "    print(c) \n",
        "    print('')                                                                                                           #print('Excluido: ',(df[titulo][i]))                                                                                 \n",
        "print('Total de incluídos: ',cont)"
      ],
      "metadata": {
        "id": "Gxi26digH2G3",
        "colab": {
          "base_uri": "https://localhost:8080/"
        },
        "outputId": "c9de47bb-6508-4a87-90ca-25b04cd84ea7"
      },
      "execution_count": null,
      "outputs": [
        {
          "output_type": "stream",
          "name": "stdout",
          "text": [
            "\n",
            "ADI 5631\n",
            "Incluído\n",
            "310\n",
            "\n",
            "\n",
            "ADI 5142\n",
            "Incluído\n",
            "1283\n",
            "\n",
            "\n",
            "ADI 3659\n",
            "Incluído\n",
            "1416\n",
            "\n",
            "\n",
            "ADI 2087\n",
            "Incluído\n",
            "1511\n",
            "\n",
            "\n",
            "ADI 4552 MC\n",
            "Incluído\n",
            "1619\n",
            "\n",
            "\n",
            "ADI 2077 MC\n",
            "Incluído\n",
            "1682\n",
            "\n",
            "\n",
            "ADI 4372\n",
            "Incluído\n",
            "1684\n",
            "\n",
            "\n",
            "ADI 4400\n",
            "Incluído\n",
            "1686\n",
            "\n",
            "\n",
            "ADI 4102\n",
            "Incluído\n",
            "1722\n",
            "\n",
            "\n",
            "ADI 4876\n",
            "Incluído\n",
            "1819\n",
            "\n",
            "\n",
            "ADI 2416\n",
            "Incluído\n",
            "1841\n",
            "\n",
            "\n",
            "ADI 4414\n",
            "Incluído\n",
            "1851\n",
            "\n",
            "\n",
            "ADI 4696 MC\n",
            "Incluído\n",
            "1870\n",
            "\n",
            "\n",
            "ADI 4698 MC\n",
            "Incluído\n",
            "1871\n",
            "\n",
            "\n",
            "ADI 1241\n",
            "Incluído\n",
            "2161\n",
            "\n",
            "\n",
            "ADI 3792\n",
            "Incluído\n",
            "2163\n",
            "\n",
            "Total de incluídos:  16\n"
          ]
        }
      ]
    },
    {
      "cell_type": "markdown",
      "source": [
        "# Salvando versões dos datasets"
      ],
      "metadata": {
        "id": "fAglonTgJ-kg"
      }
    },
    {
      "cell_type": "code",
      "execution_count": null,
      "metadata": {
        "id": "r156Pt9l_rgX"
      },
      "outputs": [],
      "source": [
        "type(df['Informacoes'][21])\n",
        "df['Informacoes']=df['Informacoes'].astype(str)\n"
      ]
    },
    {
      "cell_type": "code",
      "execution_count": null,
      "metadata": {
        "id": "HBOElrjFCzkL"
      },
      "outputs": [],
      "source": [
        "#Salvando csv com todas as colunas - incluindo aquelas que não são de interesse para a pesquisa atual\n",
        "df.to_csv(f'{nome}-c{extens}', index = False)"
      ]
    },
    {
      "cell_type": "code",
      "execution_count": null,
      "metadata": {
        "id": "o806cvFKfmkD"
      },
      "outputs": [],
      "source": [
        "for i in range (0,len(df)):  \n",
        " if 'Dissidência por Extensão' in df['Informacoes'][i]:\n",
        "   df['Votações'][i]=(df['Votações'][i])+5 "
      ]
    },
    {
      "cell_type": "code",
      "execution_count": null,
      "metadata": {
        "id": "0VUuv-Uh2YM2"
      },
      "outputs": [],
      "source": [
        "df_m=df.drop(df[df.Votações <= 1].index)"
      ]
    },
    {
      "cell_type": "code",
      "execution_count": null,
      "metadata": {
        "id": "0ELIuPu-gQDs"
      },
      "outputs": [],
      "source": [
        "for i in range (0,len(df)):\n",
        "  if 'Dissidência por Extensão' in df['Informacoes'][i]:\n",
        "    df['Votações'][i]=(df['Votações'][i])-5"
      ]
    },
    {
      "cell_type": "code",
      "execution_count": null,
      "metadata": {
        "id": "AmPnUA3WyYUE",
        "colab": {
          "base_uri": "https://localhost:8080/"
        },
        "outputId": "03668ca5-008c-4387-d14a-879c69287bf9"
      },
      "outputs": [
        {
          "output_type": "stream",
          "name": "stdout",
          "text": [
            "Suspeição de erro em: \n",
            "ADI 5631\n",
            "********************\n",
            "Suspeição de erro em: \n",
            "ADI 5142\n",
            "********************\n",
            "Suspeição de erro em: \n",
            "ADI 5624 MC-Ref\n",
            "********************\n",
            "Suspeição de erro em: \n",
            "ADI 3659\n",
            "********************\n",
            "Suspeição de erro em: \n",
            "ADI 2087\n",
            "********************\n",
            "Suspeição de erro em: \n",
            "ADI 5163\n",
            "********************\n",
            "Suspeição de erro em: \n",
            "ADI 5028\n",
            "********************\n",
            "Suspeição de erro em: \n",
            "ADI 4965\n",
            "********************\n",
            "Suspeição de erro em: \n",
            "ADI 4947\n",
            "********************\n",
            "Suspeição de erro em: \n",
            "ADI 5020\n",
            "********************\n",
            "Suspeição de erro em: \n",
            "ADI 4414\n",
            "********************\n",
            "Suspeição de erro em: \n",
            "ADI 374\n",
            "********************\n",
            "Suspeição de erro em: \n",
            "ADI 4029\n",
            "********************\n",
            "Suspeição de erro em: \n",
            "ADI 4429\n",
            "********************\n",
            "Suspeição de erro em: \n",
            "ADI 4696 MC\n",
            "********************\n",
            "Suspeição de erro em: \n",
            "ADI 4698 MC\n",
            "********************\n",
            "Suspeição de erro em: \n",
            "ADI 4597 MC\n",
            "********************\n",
            "Suspeição de erro em: \n",
            "ADI 1241\n",
            "********************\n",
            "Suspeição de erro em: \n",
            "ADI 3792\n",
            "********************\n",
            "Suspeição de erro em: \n",
            "ADI 5577\n",
            "********************\n"
          ]
        }
      ],
      "source": [
        "for s in range (0,len(df)):\n",
        "  if (df['Votações por Maioria'][s] + df['Votações Unânimes'][s] != df['Votações'][s]) and (df['Vencedores'][s] != df['Vencidos'][s]):\n",
        "    print('Suspeição de erro em: ')\n",
        "    print (df[titulo][s])\n",
        "    print('*'*20)"
      ]
    },
    {
      "cell_type": "code",
      "execution_count": null,
      "metadata": {
        "id": "1BBzQ0uptnyW"
      },
      "outputs": [],
      "source": [
        "df_m = df_m.reset_index(drop=True)"
      ]
    },
    {
      "cell_type": "code",
      "execution_count": null,
      "metadata": {
        "id": "vHpIeWZk4fSY"
      },
      "outputs": [],
      "source": [
        "for i in range (0,len(df_m)):\n",
        "  if 'Dissidência por Extensão' in df_m['Informacoes'][i]:\n",
        "    df_m['Votações'][i]=(df_m['Votações'][i])-5"
      ]
    },
    {
      "cell_type": "code",
      "execution_count": null,
      "metadata": {
        "id": "BZX-bE-eMNRL"
      },
      "outputs": [],
      "source": [
        "for i in range (0,len(df_m)):\n",
        "  if df_m['Contagem'][i]!='Manual':\n",
        "    if 'EXTENSÃO' in df_m['Informacoes'][i]:\n",
        "      df_m['Contagem'][i]='A Conferir'\n",
        "    if df_m['Votações'][i]>1:\n",
        "      df_m['Contagem'][i]='A Conferir'"
      ]
    },
    {
      "cell_type": "code",
      "execution_count": null,
      "metadata": {
        "id": "pW8UHLlPlThF"
      },
      "outputs": [],
      "source": [
        "#Salvando csv com decisões multiplas e votações com extensão\n",
        "#df_m.to_csv(f'{nome}-mult{extens}', index = False)"
      ]
    },
    {
      "cell_type": "code",
      "execution_count": null,
      "metadata": {
        "id": "WS-tziiJ84pF"
      },
      "outputs": [],
      "source": [
        "df.drop(columns=['UF', 'PARTES', 'DECISÃO', 'URL', 'Relator', 'Data de publicação',\n",
        "       'Órgão julgador', 'Ementa', 'Sentenca',\n",
        "       'Impedidos', 'Ausentes', 'Não Participantes', 'Quorum', 'Relacionados',\n",
        "       'Relacionados-nomes', 'Votações', 'Votações Unânimes',\n",
        "       'Votações por Maioria', 'Lista de Vencedores', 'Lista de Vencidos',\n",
        "       'Não votaram', 'Contagem'],axis=1,inplace=True)\n",
        "\n"
      ]
    },
    {
      "cell_type": "code",
      "execution_count": null,
      "metadata": {
        "id": "sLiCa6H49foU"
      },
      "outputs": [],
      "source": [
        "#Salvando csv geral Excluídas as colunas que não são de interesse para a pesquisa. O campo tipo pode ser usado para filtragem posterior\n",
        "#df.to_csv(f'{nome}-g{extens}', index = False)"
      ]
    },
    {
      "cell_type": "code",
      "execution_count": null,
      "metadata": {
        "id": "ZSB2RsThr7QY"
      },
      "outputs": [],
      "source": [
        "df_outros=df.drop(df[df.Tipo=='Principal'].index)"
      ]
    },
    {
      "cell_type": "code",
      "execution_count": null,
      "metadata": {
        "id": "k7Yah61U7vIi"
      },
      "outputs": [],
      "source": [
        "#Salvando dataset com registros de acórdãos que se referem a Agravos Regimentais, Embargos de Declaração, Questões de Ordem etc. \n",
        "#df_outros.to_csv(f'{nome}-o{extens}', index = False)"
      ]
    },
    {
      "cell_type": "code",
      "execution_count": null,
      "metadata": {
        "id": "yDllJIx6r9NP"
      },
      "outputs": [],
      "source": [
        "#No caso das ADIs serão excluídos os AgR, ED, QO etc. \n",
        "if choice == '2':\n",
        "  df.drop(df[df.Tipo!='Principal'].index,inplace=True)\n",
        "  #df.drop(columns=['Tipo'],axis=1,inplace=True)    "
      ]
    },
    {
      "cell_type": "code",
      "execution_count": null,
      "metadata": {
        "id": "D21unKxvt8cH"
      },
      "outputs": [],
      "source": [
        "#Salvando csv a ser usado na pesquisa. . Não inclui registros de acórdãos referentes a Agravos Regimentais, Embargos de Declaração, Questões de Ordem etc. \n",
        "df.to_csv(f'{nome}-p{extens}', index = False) "
      ]
    },
    {
      "cell_type": "code",
      "execution_count": null,
      "metadata": {
        "id": "7UpufqNv9R6U",
        "colab": {
          "base_uri": "https://localhost:8080/"
        },
        "outputId": "afdeb51a-8e0d-4736-b679-6001c3277755"
      },
      "outputs": [
        {
          "output_type": "stream",
          "name": "stdout",
          "text": [
            "mv: cannot move '/content/ds-ADIs-c.csv' to '/content/drive/MyDrive/Colab Notebooks/datasets/prod/': No such file or directory\n",
            "mv: cannot move '/content/ds-ADIs-p.csv' to '/content/drive/MyDrive/Colab Notebooks/datasets/prod/': No such file or directory\n"
          ]
        }
      ],
      "source": [
        "#!mv '/content/{nome}-o{extens}' '/content/drive/MyDrive/Colab Notebooks/datasets/prod/'\n",
        "!mv '/content/{nome}-c{extens}' '/content/drive/MyDrive/Colab Notebooks/datasets/prod/'\n",
        "#!mv '/content/{nome}-g{extens}' '/content/drive/MyDrive/Colab Notebooks/datasets/prod/'\n",
        "!mv '/content/{nome}-p{extens}' '/content/drive/MyDrive/Colab Notebooks/datasets/prod/'\n",
        "#!mv '/content/{nome}-mult{extens}' '/content/drive/MyDrive/Colab Notebooks/datasets/prod/'\n"
      ]
    },
    {
      "cell_type": "markdown",
      "source": [
        "#Fim"
      ],
      "metadata": {
        "id": "1jrcWUyOat6j"
      }
    },
    {
      "cell_type": "code",
      "source": [
        "print ('Concluído!!!')"
      ],
      "metadata": {
        "id": "BJuq5eZNar7b",
        "colab": {
          "base_uri": "https://localhost:8080/"
        },
        "outputId": "ab7c20b8-a742-4885-bcfe-7dca1b7141a5"
      },
      "execution_count": null,
      "outputs": [
        {
          "output_type": "stream",
          "name": "stdout",
          "text": [
            "Concluído!!!\n"
          ]
        }
      ]
    }
  ],
  "metadata": {
    "colab": {
      "collapsed_sections": [],
      "provenance": [],
      "include_colab_link": true
    },
    "kernelspec": {
      "display_name": "Python 3",
      "language": "python",
      "name": "python3"
    },
    "language_info": {
      "codemirror_mode": {
        "name": "ipython",
        "version": 3
      },
      "file_extension": ".py",
      "mimetype": "text/x-python",
      "name": "python",
      "nbconvert_exporter": "python",
      "pygments_lexer": "ipython3",
      "version": "3.6.4"
    }
  },
  "nbformat": 4,
  "nbformat_minor": 0
}